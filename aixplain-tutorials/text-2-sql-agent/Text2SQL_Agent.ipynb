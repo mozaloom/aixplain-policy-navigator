{
  "cells": [
    {
      "cell_type": "markdown",
      "metadata": {
        "id": "eU4bsfYl-N5T"
      },
      "source": [
        "# Import Libraries"
      ]
    },
    {
      "cell_type": "code",
      "execution_count": null,
      "metadata": {
        "colab": {
          "base_uri": "https://localhost:8080/"
        },
        "id": "PMVZnKYG9I4i",
        "outputId": "d4dbdeb2-b1bb-4554-9600-8ab9eb365ef3"
      },
      "outputs": [
        {
          "name": "stdout",
          "output_type": "stream",
          "text": [
            "  Installing build dependencies ... \u001b[?25l\u001b[?25hdone\n",
            "  Getting requirements to build wheel ... \u001b[?25l\u001b[?25hdone\n",
            "  Preparing metadata (pyproject.toml) ... \u001b[?25l\u001b[?25hdone\n"
          ]
        }
      ],
      "source": [
        "!pip -q install aixplain"
      ]
    },
    {
      "cell_type": "code",
      "execution_count": null,
      "metadata": {
        "id": "eCJFBj7z94Ze"
      },
      "outputs": [],
      "source": [
        "import os\n",
        "import re\n",
        "import json\n",
        "import sqlite3\n",
        "os.environ[\"TEAM_API_KEY\"] = \"TEAM_API_KEY\"\n",
        "\n",
        "from aixplain.enums import DataType\n",
        "from aixplain.modules.model.utility_model import utility_tool, UtilityModelInput\n",
        "from aixplain.factories import ModelFactory, AgentFactory"
      ]
    },
    {
      "cell_type": "markdown",
      "metadata": {
        "id": "rWUDPQVY-ZVK"
      },
      "source": [
        "# Prompt"
      ]
    },
    {
      "cell_type": "code",
      "execution_count": null,
      "metadata": {
        "id": "BDR4cMAp94Rr"
      },
      "outputs": [],
      "source": [
        "ROLE = \"\"\"You are an expert SQL generation agent responsible for constructing accurate, efficient, and syntactically correct SQLite queries to answer the user's query. Your task is to strictly adhere to the database schema and generate a query that returns the correct results when executed.\n",
        "\n",
        "This database contains information about California schools. Your query must be optimized, free of errors, and strictly formatted according to SQLite standards.\n",
        "\n",
        "### **Your Capabilities:**\n",
        "- You have access to a **Python interpreter tool** that allows you to validate queries if needed.\n",
        "- You also have access to a **SQL execution tool**, which you can use to ensure your queries return correct results.\n",
        "\n",
        "### **Guidelines for Query Generation:**\n",
        "1. **Use Only Available Tables and Columns**\n",
        "   - Refer strictly to the database schema provided. Do not assume or infer missing data.\n",
        "   - If the query requires a specific column or table, ensure it exists in the schema before including it.\n",
        "\n",
        "2. **Proper Column Formatting**\n",
        "   - Enclose column names containing spaces in backticks (e.g., `column name`).\n",
        "   - Maintain the original capitalization of column names as provided in the schema.\n",
        "\n",
        "3. **Query Structure and Optimization**\n",
        "   - Your SQL query must always start with `SELECT`.\n",
        "   - Use subqueries, `JOIN`s, and `GROUP BY` as needed to return accurate results.\n",
        "   - Ensure efficient filtering using `WHERE` clauses to minimize unnecessary computations.\n",
        "   - Use `ORDER BY` when sorting is required, and apply `LIMIT` appropriately for queries requesting a specific number of results.\n",
        "\n",
        "4. **Strictly Return the SQL Query Only**\n",
        "   - Do not provide explanations, comments, or additional context—only return the SQL statement.\n",
        "\n",
        "5. **Ensure Query Execution Feasibility**\n",
        "   - If the query is logically impossible to execute based on the schema, return the closest valid SQL query that aligns with the user’s request.\n",
        "   - Avoid using undefined functions or SQL clauses unsupported by SQLite.\n",
        "\n",
        "Note: You have access to a Python interpreter tool for testing and validating your query.\n",
        "\n",
        "Output Format:\n",
        " - Your response must begin with `SELECT`.\n",
        "\"\"\"\n",
        "\n",
        "prompt = \"\"\"You are an expert agent tasked with providing a valid and correct SQL command to answer the user's query. Your response must contain only the SQL command, with no additional explanation.\n",
        "\n",
        "This database contains information about California schools. You must generate a valid SQLite query that produces the correct result when executed.\n",
        "\n",
        "**Guidelines:**\n",
        " - Use only the tables and columns provided in the Database Schema; do not assume or invent any data.\n",
        " - Enclose column names containing spaces in backticks (e.g., `column name`).\n",
        " - Follow SQL best practices for clarity and efficiency.\n",
        " - Return only the SQL query used to generate the results—no explanations. Do not return any additional text, context or answer to the query.\n",
        " - Your SQL query must start with `SELECT` and may include subqueries if necessary.\n",
        " - Preserve the original capitalization of column names as specified in the schema.\n",
        " - Include all relevant column names from the database to ensure proper processing.\n",
        "\n",
        "**Output Format:**\n",
        "- Your response must begin with `SELECT`.\n",
        "\"\"\"\n"
      ]
    },
    {
      "cell_type": "markdown",
      "metadata": {
        "id": "t-hVgePf-cq9"
      },
      "source": [
        "# SQL Agent"
      ]
    },
    {
      "cell_type": "code",
      "execution_count": null,
      "metadata": {
        "id": "EBRvwGEzJNQg"
      },
      "outputs": [],
      "source": [
        "def read_data(file):\n",
        "    with open(file, \"r\", encoding=\"utf-8\") as f:\n",
        "        return f.read()\n",
        "\n",
        "def read_binary(file):\n",
        "    with open(file, \"rb\") as f:\n",
        "        data = f.read()\n",
        "    new_file = file.replace('sqlite', 'db') #Convert .sqlite to .db\n",
        "    with open(new_file, \"wb\") as f:\n",
        "        f.write(data)\n",
        "    return new_file\n",
        "\n",
        "def read_json(file):\n",
        "    with open(file, \"r\") as f:\n",
        "        data = json.load(f)\n",
        "    return data\n",
        "\n",
        "\n",
        "california_schools_schema = read_data(\"california_schools.schema\")\n",
        "read_binary(\"california_schools.sqlite\")\n",
        "ground_truths = read_json(\"dev.json\")"
      ]
    },
    {
      "cell_type": "code",
      "execution_count": null,
      "metadata": {
        "colab": {
          "base_uri": "https://localhost:8080/"
        },
        "id": "bG9Oux6ELWqg",
        "outputId": "163626e6-8e40-4f6f-d7d2-450119ff345a"
      },
      "outputs": [
        {
          "data": {
            "text/plain": [
              "{'question_id': 0,\n",
              " 'db_id': 'california_schools',\n",
              " 'question': 'What is the highest eligible free rate for K-12 students in the schools in Alameda County?',\n",
              " 'evidence': 'Eligible free rate for K-12 = `Free Meal Count (K-12)` / `Enrollment (K-12)`',\n",
              " 'SQL': \"SELECT `Free Meal Count (K-12)` / `Enrollment (K-12)` FROM frpm WHERE `County Name` = 'Alameda' ORDER BY (CAST(`Free Meal Count (K-12)` AS REAL) / `Enrollment (K-12)`) DESC LIMIT 1\",\n",
              " 'difficulty': 'simple'}"
            ]
          },
          "execution_count": 42,
          "metadata": {},
          "output_type": "execute_result"
        }
      ],
      "source": [
        "ground_truths[0]"
      ]
    },
    {
      "cell_type": "code",
      "execution_count": null,
      "metadata": {
        "id": "Y8AwuWS7K3bb"
      },
      "outputs": [],
      "source": [
        "#Pick 10 examples\n",
        "ground_truth = ground_truths[:10]\n",
        "queries = [item[\"question\"] for item in ground_truth]\n",
        "SQLs = [item[\"SQL\"] for item in ground_truth]"
      ]
    },
    {
      "cell_type": "code",
      "execution_count": null,
      "metadata": {
        "id": "cbhwMwuQHdZr"
      },
      "outputs": [],
      "source": [
        "agent = AgentFactory.create(\n",
        "    name=\"Text2SQL Agent\",\n",
        "    description=\"An agent that converts natural language queries into valid SQLite commands.\",\n",
        "    instructions=ROLE,\n",
        "    tools=[\n",
        "        AgentFactory.create_python_interpreter_tool(),\n",
        "        AgentFactory.create_sql_tool(\n",
        "            description=\"You are an SQL expert responsible for querying and retrieving information from the database, while accurately returning the SQL commands used in the process.\",\n",
        "            database=\"/content/california_schools.db\",\n",
        "            schema=california_schools_schema,\n",
        "            enable_commit=False,\n",
        "        ),\n",
        "    ],\n",
        "    llm_id=\"6646261c6eb563165658bbb1\",\n",
        ")\n"
      ]
    },
    {
      "cell_type": "code",
      "execution_count": null,
      "metadata": {
        "colab": {
          "base_uri": "https://localhost:8080/"
        },
        "id": "fY5untK294Jt",
        "outputId": "4bf32281-ecff-409a-ab25-bb36f25c87a7"
      },
      "outputs": [
        {
          "name": "stdout",
          "output_type": "stream",
          "text": [
            "0. What is the highest eligible free rate for K-12 students in the schools in Alameda County?\n",
            "   SELECT MAX(`Percent (%) Eligible Free (K-12)`) FROM frpm WHERE `County Name` = 'Alameda';\n",
            "\n",
            "1. Please list the lowest three eligible free rates for students aged 5-17 in continuation schools.\n",
            "   SELECT `School Name`, `Percent (%) Eligible Free (Ages 5-17)` FROM frpm WHERE `School Type` = 'Continuation' ORDER BY `Percent (%) Eligible Free (Ages 5-17)` ASC LIMIT 3;\n",
            "\n",
            "2. Please list the zip code of all the charter schools in Fresno County Office of Education.\n",
            "   SELECT Zip FROM schools WHERE County = 'Fresno' AND Charter = 1 AND DOCType = 'County Office of Education';\n",
            "\n",
            "3. What is the unabbreviated mailing street address of the school with the highest FRPM count for K-12 students?\n",
            "   SELECT s.MailStreet FROM frpm f JOIN schools s ON f.CDSCode = s.CDSCode ORDER BY f.`FRPM Count (K-12)` DESC LIMIT 1;\n",
            "\n",
            "4. Please list the phone numbers of the direct charter-funded schools that are opened after 2000/1/1.\n",
            "   SELECT Phone FROM schools WHERE Charter = 1 AND FundingType = 'Directly funded' AND OpenDate > '2000-01-01';\n",
            "\n",
            "5. How many schools with an average score in Math greater than 400 in the SAT test are exclusively virtual?\n",
            "   SELECT COUNT(*) FROM satscores s JOIN schools sc ON s.cds = sc.CDSCode WHERE s.AvgScrMath > 400 AND sc.Virtual = 'Y';\n",
            "\n",
            "6. Among the schools with the SAT test takers of over 500, please list the schools that are magnet schools or offer a magnet program.\n",
            "   SELECT s.School FROM satscores sat JOIN schools s ON sat.cds = s.CDSCode WHERE sat.NumTstTakr > 500 AND s.Magnet = 1;\n",
            "\n",
            "7. What is the phone number of the school that has the highest number of test takers with an SAT score of over 1500?\n",
            "   SELECT s.Phone FROM satscores ss JOIN schools s ON ss.cds = s.CDSCode WHERE ss.NumGE1500 = (SELECT MAX(NumGE1500) FROM satscores);\n",
            "\n",
            "8. What is the number of SAT test takers of the schools with the highest FRPM count for K-12 students?\n",
            "   SELECT s.NumTstTakr FROM satscores s JOIN frpm f ON s.cds = f.CDSCode WHERE f.`FRPM Count (K-12)` = (SELECT MAX(`FRPM Count (K-12)`) FROM frpm);\n",
            "\n",
            "9. Among the schools with the average score in Math over 560 in the SAT test, how many schools are directly charter-funded?\n",
            "   SELECT COUNT(*) FROM satscores s JOIN frpm f ON s.cds = f.CDSCode WHERE s.AvgScrMath > 560 AND f.`Charter Funding Type` = 'Directly funded';\n",
            "\n"
          ]
        }
      ],
      "source": [
        "results = []\n",
        "for i, query in enumerate(queries):\n",
        "    print(f\"{i}. {query}\")\n",
        "    query_ = prompt + \"\\n\\n**Question:**\\n\" + query + \"\\n\\n**SQL:**\"\n",
        "    response = agent.run(query_)\n",
        "    if response.status == 'SUCCESS':\n",
        "        results.append(response.data[\"output\"])\n",
        "        print('  ', response.data[\"output\"])\n",
        "        print()"
      ]
    },
    {
      "cell_type": "markdown",
      "metadata": {
        "id": "RaS2_-fkJWmL"
      },
      "source": [
        "# Result Evaluation"
      ]
    },
    {
      "cell_type": "code",
      "execution_count": null,
      "metadata": {
        "id": "e_FdIQn4L9iz"
      },
      "outputs": [],
      "source": [
        "def execute_sql(predicted_sql, ground_truth, db_path):\n",
        "    try:\n",
        "        conn = sqlite3.connect(db_path)\n",
        "        cursor = conn.cursor()\n",
        "\n",
        "        cursor.execute(predicted_sql)\n",
        "        predicted_res = cursor.fetchall()\n",
        "\n",
        "        cursor.execute(ground_truth)\n",
        "        ground_truth_res = cursor.fetchall()\n",
        "\n",
        "        conn.close()\n",
        "\n",
        "        return 1 if set(predicted_res) == set(ground_truth_res) else 0\n",
        "    except Exception as e:\n",
        "        print(f\"Error executing SQL: {e}\")\n",
        "        return 0"
      ]
    },
    {
      "cell_type": "code",
      "execution_count": null,
      "metadata": {
        "colab": {
          "base_uri": "https://localhost:8080/"
        },
        "id": "GXBhgXRR94GO",
        "outputId": "d0305a2f-212c-4e1a-966e-83bb81950b05"
      },
      "outputs": [
        {
          "name": "stdout",
          "output_type": "stream",
          "text": [
            "Final Accuracy: 60.00%\n"
          ]
        }
      ],
      "source": [
        "total_correct = 0\n",
        "num_queries = len(queries)\n",
        "for i, result in enumerate(results):\n",
        "  result = re.sub(r\"\\n\", \" \", re.sub(r\"```\", \"\", re.sub(r\";\",\"\", re.sub(r\"sql\", \"\", result.strip(), flags=re.IGNORECASE))))\n",
        "  res = execute_sql(result, SQLs[i], \"/content/california_schools.sqlite\")\n",
        "  total_correct += res\n",
        "\n",
        "final_result = f\"{(total_correct / num_queries * 100):.2f}%\" if num_queries > 0 else \"No valid files found\"\n",
        "print(f\"Final Accuracy: {final_result}\")"
      ]
    },
    {
      "cell_type": "code",
      "execution_count": null,
      "metadata": {
        "id": "CdAiveHu94AK"
      },
      "outputs": [],
      "source": []
    }
  ],
  "metadata": {
    "colab": {
      "collapsed_sections": [
        "eU4bsfYl-N5T",
        "rWUDPQVY-ZVK"
      ],
      "provenance": []
    },
    "kernelspec": {
      "display_name": "Python 3",
      "name": "python3"
    },
    "language_info": {
      "name": "python"
    }
  },
  "nbformat": 4,
  "nbformat_minor": 0
}
