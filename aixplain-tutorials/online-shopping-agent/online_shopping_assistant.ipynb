{
  "cells": [
    {
      "cell_type": "markdown",
      "metadata": {
        "id": "nZszS5NPEvv9"
      },
      "source": [
        "## Install Dependencies"
      ]
    },
    {
      "cell_type": "code",
      "execution_count": 1,
      "metadata": {
        "colab": {
          "base_uri": "https://localhost:8080/"
        },
        "id": "kD83cG7OEpFg",
        "outputId": "a6a4e0cb-f791-4e50-da42-8c62dd6650bb"
      },
      "outputs": [
        {
          "name": "stdout",
          "output_type": "stream",
          "text": [
            "Requirement already satisfied: aixplain in /opt/anaconda3/envs/aixplain/lib/python3.10/site-packages (0.2.20)\n",
            "Collecting aixplain\n",
            "  Downloading aiXplain-0.2.27-py3-none-any.whl.metadata (5.0 kB)\n",
            "Requirement already satisfied: requests>=2.1.0 in /opt/anaconda3/envs/aixplain/lib/python3.10/site-packages (from aixplain) (2.32.3)\n",
            "Requirement already satisfied: tqdm>=4.1.0 in /opt/anaconda3/envs/aixplain/lib/python3.10/site-packages (from aixplain) (4.66.5)\n",
            "Requirement already satisfied: pandas>=1.2.1 in /opt/anaconda3/envs/aixplain/lib/python3.10/site-packages (from aixplain) (2.2.3)\n",
            "Requirement already satisfied: python-dotenv>=1.0.0 in /opt/anaconda3/envs/aixplain/lib/python3.10/site-packages (from aixplain) (1.0.1)\n",
            "Requirement already satisfied: validators>=0.20.0 in /opt/anaconda3/envs/aixplain/lib/python3.10/site-packages (from aixplain) (0.34.0)\n",
            "Requirement already satisfied: filetype>=1.2.0 in /opt/anaconda3/envs/aixplain/lib/python3.10/site-packages (from aixplain) (1.2.0)\n",
            "Requirement already satisfied: click>=7.1.2 in /opt/anaconda3/envs/aixplain/lib/python3.10/site-packages (from aixplain) (8.1.7)\n",
            "Requirement already satisfied: PyYAML>=6.0.1 in /opt/anaconda3/envs/aixplain/lib/python3.10/site-packages (from aixplain) (6.0.2)\n",
            "Requirement already satisfied: dataclasses-json>=0.5.2 in /opt/anaconda3/envs/aixplain/lib/python3.10/site-packages (from aixplain) (0.6.7)\n",
            "Requirement already satisfied: Jinja2==3.1.4 in /opt/anaconda3/envs/aixplain/lib/python3.10/site-packages (from aixplain) (3.1.4)\n",
            "Requirement already satisfied: MarkupSafe>=2.0 in /opt/anaconda3/envs/aixplain/lib/python3.10/site-packages (from Jinja2==3.1.4->aixplain) (2.1.5)\n",
            "Requirement already satisfied: marshmallow<4.0.0,>=3.18.0 in /opt/anaconda3/envs/aixplain/lib/python3.10/site-packages (from dataclasses-json>=0.5.2->aixplain) (3.22.0)\n",
            "Requirement already satisfied: typing-inspect<1,>=0.4.0 in /opt/anaconda3/envs/aixplain/lib/python3.10/site-packages (from dataclasses-json>=0.5.2->aixplain) (0.9.0)\n",
            "Requirement already satisfied: numpy>=1.22.4 in /opt/anaconda3/envs/aixplain/lib/python3.10/site-packages (from pandas>=1.2.1->aixplain) (2.1.1)\n",
            "Requirement already satisfied: python-dateutil>=2.8.2 in /opt/anaconda3/envs/aixplain/lib/python3.10/site-packages (from pandas>=1.2.1->aixplain) (2.9.0)\n",
            "Requirement already satisfied: pytz>=2020.1 in /opt/anaconda3/envs/aixplain/lib/python3.10/site-packages (from pandas>=1.2.1->aixplain) (2024.2)\n",
            "Requirement already satisfied: tzdata>=2022.7 in /opt/anaconda3/envs/aixplain/lib/python3.10/site-packages (from pandas>=1.2.1->aixplain) (2024.1)\n",
            "Requirement already satisfied: charset-normalizer<4,>=2 in /opt/anaconda3/envs/aixplain/lib/python3.10/site-packages (from requests>=2.1.0->aixplain) (3.3.2)\n",
            "Requirement already satisfied: idna<4,>=2.5 in /opt/anaconda3/envs/aixplain/lib/python3.10/site-packages (from requests>=2.1.0->aixplain) (3.10)\n",
            "Requirement already satisfied: urllib3<3,>=1.21.1 in /opt/anaconda3/envs/aixplain/lib/python3.10/site-packages (from requests>=2.1.0->aixplain) (2.2.3)\n",
            "Requirement already satisfied: certifi>=2017.4.17 in /opt/anaconda3/envs/aixplain/lib/python3.10/site-packages (from requests>=2.1.0->aixplain) (2024.8.30)\n",
            "Requirement already satisfied: packaging>=17.0 in /opt/anaconda3/envs/aixplain/lib/python3.10/site-packages (from marshmallow<4.0.0,>=3.18.0->dataclasses-json>=0.5.2->aixplain) (24.1)\n",
            "Requirement already satisfied: six>=1.5 in /opt/anaconda3/envs/aixplain/lib/python3.10/site-packages (from python-dateutil>=2.8.2->pandas>=1.2.1->aixplain) (1.16.0)\n",
            "Requirement already satisfied: mypy-extensions>=0.3.0 in /opt/anaconda3/envs/aixplain/lib/python3.10/site-packages (from typing-inspect<1,>=0.4.0->dataclasses-json>=0.5.2->aixplain) (1.0.0)\n",
            "Requirement already satisfied: typing-extensions>=3.7.4 in /opt/anaconda3/envs/aixplain/lib/python3.10/site-packages (from typing-inspect<1,>=0.4.0->dataclasses-json>=0.5.2->aixplain) (4.12.2)\n",
            "Downloading aiXplain-0.2.27-py3-none-any.whl (307 kB)\n",
            "Installing collected packages: aixplain\n",
            "  Attempting uninstall: aixplain\n",
            "    Found existing installation: aiXplain 0.2.20\n",
            "    Uninstalling aiXplain-0.2.20:\n",
            "      Successfully uninstalled aiXplain-0.2.20\n",
            "Successfully installed aixplain-0.2.27\n"
          ]
        }
      ],
      "source": [
        "!pip install aixplain --upgrade "
      ]
    },
    {
      "cell_type": "markdown",
      "metadata": {
        "id": "znP8lhX9tGBT"
      },
      "source": [
        "## SEARCH TOOL"
      ]
    },
    {
      "cell_type": "code",
      "execution_count": 2,
      "metadata": {
        "colab": {
          "base_uri": "https://localhost:8080/"
        },
        "id": "O9LGvZ3lt1Y_",
        "outputId": "9c9fb7a4-3781-48c5-8ae7-ae5245a45426"
      },
      "outputs": [
        {
          "name": "stdout",
          "output_type": "stream",
          "text": [
            "env: TEAM_API_KEY=\n"
          ]
        }
      ],
      "source": [
        "%env TEAM_API_KEY="
      ]
    },
    {
      "cell_type": "code",
      "execution_count": 3,
      "metadata": {
        "colab": {
          "base_uri": "https://localhost:8080/"
        },
        "id": "wos9n6NO3Ylu",
        "outputId": "8b7e929c-538d-49ff-8032-8e283d7565c9"
      },
      "outputs": [
        {
          "name": "stdout",
          "output_type": "stream",
          "text": [
            "TEAM_API_KEY=\n"
          ]
        }
      ],
      "source": [
        "!env | grep TEAM_API_KEY"
      ]
    },
    {
      "cell_type": "code",
      "execution_count": null,
      "metadata": {
        "collapsed": true,
        "id": "T26eGdwr2GnC"
      },
      "outputs": [],
      "source": [
        "def main(query: str):\n",
        "  import requests, json\n",
        "  PROMPT = \"\"\"\n",
        "    Given the parsed page of an online product. Try to get the following information about the product, name, description, price, rate.\n",
        "    Return your response in a json format like the following:\n",
        "    {\n",
        "      \"name\": <name>,\n",
        "      \"url\": <url>,\n",
        "      \"description\": <description>,\n",
        "      \"price\": <price>,\n",
        "      \"rate\": <rate>\n",
        "    }\n",
        "    Only return the json output in a format to be parsed directly using json.loads.\n",
        "    The url is supposed to be the first line in the inout given to you.\n",
        "    If the input parsed page doesn't seem to be of an online product, return {}\n",
        "    PARSED PAGE:\n",
        "  \"\"\"\n",
        "  search_model_url = \"https://models.aixplain.com/api/v2/execute/65c51c556eb563350f6e1bb1\"\n",
        "  scrapping_model_url = \"https://models.aixplain.com/api/v2/execute/66f423426eb563fa213a3531\"\n",
        "  llm_model_url = \"https://models.aixplain.com/api/v2/execute/677c16166eb563bb611623c1\"\n",
        "  api_key = \"YOUR_API_KEY\"\n",
        "  headers = {\"x-api-key\": api_key, \"Content-Type\": \"application/json\"}\n",
        "\n",
        "  payload = {\n",
        "      \"text\": f\"I want to buy {query} online\",\n",
        "      \"numResults\": 100\n",
        "  }\n",
        "  r = requests.post(search_model_url, headers=headers, json=payload)\n",
        "  resp = r.json()\n",
        "  final_output = []\n",
        "  for item in resp['details']:\n",
        "    url = item['document']\n",
        "    scrapping_payload = {\n",
        "        \"text\": url\n",
        "    }\n",
        "    try:\n",
        "      r = requests.post(scrapping_model_url, headers=headers, json=scrapping_payload)\n",
        "      resp = r.json()\n",
        "      llm_payload = {\n",
        "          \"text\" : PROMPT + \"\\n\" + url + \"\\n\" + resp['data']\n",
        "      }\n",
        "      r = requests.post(llm_model_url, headers=headers, json=llm_payload)\n",
        "      resp = r.json()\n",
        "      try:\n",
        "        json_output = json.loads(resp['data'].replace(\"```\", \"\"))\n",
        "        if json_output:\n",
        "          final_output.append(json_output)\n",
        "      except:\n",
        "        continue\n",
        "\n",
        "    except:\n",
        "      continue\n",
        "\n",
        "\n",
        "\n",
        "\n",
        "  return final_output\n",
        "\n",
        "#main(\"iphone 16\")\n"
      ]
    },
    {
      "cell_type": "code",
      "execution_count": null,
      "metadata": {
        "id": "CBqwPtFC2Gkl"
      },
      "outputs": [],
      "source": [
        "from aixplain.factories import ModelFactory\n",
        "utility_search_model = ModelFactory.create_utility_model(\n",
        "    name=\"Google Search\",\n",
        "    code=main,\n",
        "    description=\"Search Google for the query\"\n",
        "    )"
      ]
    },
    {
      "cell_type": "code",
      "execution_count": null,
      "metadata": {
        "colab": {
          "base_uri": "https://localhost:8080/",
          "height": 91
        },
        "id": "1L2ZFVR2DTTk",
        "outputId": "18caa612-02f4-4f8d-af06-a552e4aa5393"
      },
      "outputs": [
        {
          "name": "stderr",
          "output_type": "stream",
          "text": [
            "/usr/local/lib/python3.11/dist-packages/aixplain/factories/agent_factory/__init__.py:78: UserWarning: The 'instructions' parameter was recently added and serves the same purpose as 'description' did previously: set the role of the agent as a system prompt. The 'description' parameter is still required and should be used to set a short summary of the agent's purpose. For the next releases, the 'instructions' parameter will be required.\n",
            "  warnings.warn(\n"
          ]
        },
        {
          "data": {
            "application/vnd.google.colaboratory.intrinsic+json": {
              "type": "string"
            },
            "text/plain": [
              "'67bf2249058286b62912e2dc'"
            ]
          },
          "execution_count": 6,
          "metadata": {},
          "output_type": "execute_result"
        }
      ],
      "source": [
        "from aixplain.factories import AgentFactory\n",
        "online_shopping_assistant = AgentFactory.create(\n",
        "    name=\"Online Shopping Assistant4\",\n",
        "    tools=[utility_search_model],\n",
        "\n",
        "    llm_id=\"677c16166eb563bb611623c1\",\n",
        "    description=\"An Agent for to help with online shopping.\",\n",
        "    instructions=\"\"\"\n",
        "      Given a user query, help the user decide where to buy it with the best price and rate.\n",
        "      Start your response with \"Here are the results I got:\"\n",
        "      Give the user as much information as possible that will help decide what to buy like the cheapest and the top rated product.\n",
        "      Present your results in the following format:\n",
        "          '''\n",
        "          Product Name: <name>\n",
        "          Description: <description>\n",
        "          Price: <price>\n",
        "          Rate: <rate>\n",
        "          Url: <url>\n",
        "          -------------------------------------\n",
        "          Product Name: <name>\n",
        "          Description: <description>\n",
        "          Price: <price>\n",
        "          Rate: <rate>\n",
        "          Url: <url>\n",
        "          -------------------------------------\n",
        "          Product Name: <name>\n",
        "          Description: <description>\n",
        "          Price: <price>\n",
        "          Rate: <rate>\n",
        "          Url: <url>\n",
        "          -------------------------------------\n",
        "          Product Name: <name>\n",
        "          Description: <description>\n",
        "          Price: <price>\n",
        "          Rate: <rate>\n",
        "          Url: <url>\n",
        "          '''\n",
        "      You should give the user as much information as possible that will help decide what to buy.\n",
        "    \"\"\"\n",
        ")\n",
        "online_shopping_assistant.id"
      ]
    },
    {
      "cell_type": "code",
      "execution_count": null,
      "metadata": {
        "id": "JRTZVAtnDTQd"
      },
      "outputs": [],
      "source": [
        "result = online_shopping_assistant.run(\"whiteboard\")"
      ]
    },
    {
      "cell_type": "code",
      "execution_count": null,
      "metadata": {
        "colab": {
          "base_uri": "https://localhost:8080/"
        },
        "id": "APgHt-vC0jAH",
        "outputId": "9b0a8231-f85c-4f16-f0c2-b0deb13573a1"
      },
      "outputs": [
        {
          "name": "stdout",
          "output_type": "stream",
          "text": [
            "\"Here are the results I got: \n",
            "          Product Name: Quartet Whiteboard\n",
            "          Description: A high-quality whiteboard for home or office use\n",
            "          Price: $15\n",
            "          Rate: 4.5\n",
            "          Url: https://www.amazon.com/Quartet-Whiteboard-6x4-Feet-Aluminum-Frame\n",
            "          -------------------------------------\n",
            "          Product Name: Viz-Pro Whiteboard\n",
            "          Description: A durable and easy-to-clean whiteboard for heavy use\n",
            "          Price: $25\n",
            "          Rate: 4.8\n",
            "          Url: https://www.staples.com/Viz-Pro-Whiteboard-6x4-Feet-Aluminum-Frame\n",
            "          -------------------------------------\n",
            "          Product Name: Lockways Whiteboard\n",
            "          Description: A budget-friendly whiteboard for basic use\n",
            "          Price: $10\n",
            "          Rate: 4.2\n",
            "          Url: https://www.walmart.com/Lockways-Whiteboard-6x4-Feet-Plastic-Frame\n",
            "          -------------------------------------\n",
            "          Product Name: Ghent Whiteboard\n",
            "          Description: A high-end whiteboard with a sleek and modern design\n",
            "          Price: $50\n",
            "          Rate: 4.9\n",
            "          Url: https://www.officedepot.com/Ghent-Whiteboard-6x4-Feet-Aluminum-Frame\"\n"
          ]
        }
      ],
      "source": [
        "print(result['data']['output'])"
      ]
    },
    {
      "cell_type": "code",
      "execution_count": null,
      "metadata": {
        "id": "0DUcf1Le0i0t"
      },
      "outputs": [],
      "source": [
        "online_shopping_assistant.deploy()"
      ]
    },
    {
      "cell_type": "code",
      "execution_count": null,
      "metadata": {
        "id": "IlLfXwez0iyF"
      },
      "outputs": [],
      "source": []
    }
  ],
  "metadata": {
    "colab": {
      "provenance": []
    },
    "kernelspec": {
      "display_name": "Python 3",
      "name": "python3"
    },
    "language_info": {
      "codemirror_mode": {
        "name": "ipython",
        "version": 3
      },
      "file_extension": ".py",
      "mimetype": "text/x-python",
      "name": "python",
      "nbconvert_exporter": "python",
      "pygments_lexer": "ipython3",
      "version": "3.10.14"
    }
  },
  "nbformat": 4,
  "nbformat_minor": 0
}
