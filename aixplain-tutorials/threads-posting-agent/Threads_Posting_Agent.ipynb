{
  "cells": [
    {
      "cell_type": "markdown",
      "metadata": {
        "id": "e4wlniQVjua5"
      },
      "source": [
        "# Install packages"
      ]
    },
    {
      "cell_type": "code",
      "execution_count": null,
      "metadata": {
        "collapsed": true,
        "id": "Q4XaoVq02IDc"
      },
      "outputs": [],
      "source": [
        "!pip install aixplain\n",
        "!pip install requests"
      ]
    },
    {
      "cell_type": "markdown",
      "metadata": {
        "id": "P8jnZXiEkFCT"
      },
      "source": [
        "# Set environment variables"
      ]
    },
    {
      "cell_type": "code",
      "execution_count": null,
      "metadata": {
        "id": "Qb6IumXn2onH"
      },
      "outputs": [],
      "source": [
        "# environment variables\n",
        "import os\n",
        "\n",
        "# Fill in your aiXplain team API key\n",
        "os.environ[\"TEAM_API_KEY\"] = \"<TEAM_API_KEY>\""
      ]
    },
    {
      "cell_type": "markdown",
      "metadata": {
        "id": "_ugd5UIW-4MU"
      },
      "source": [
        "# Imports"
      ]
    },
    {
      "cell_type": "code",
      "execution_count": null,
      "metadata": {
        "id": "fQryOM9A-zoJ"
      },
      "outputs": [],
      "source": [
        "from aixplain.factories import AgentFactory, ModelFactory, TeamAgentFactory"
      ]
    },
    {
      "cell_type": "markdown",
      "metadata": {
        "id": "cqGWeZAW9nbw"
      },
      "source": [
        "# LLMs & Onboarded Tools"
      ]
    },
    {
      "cell_type": "code",
      "execution_count": null,
      "metadata": {
        "id": "m8z3sSlc9qyn"
      },
      "outputs": [],
      "source": [
        "GPT_4O_MINI_ID = \"669a63646eb56306647e1091\"\n",
        "\n",
        "web_search_tool = AgentFactory.create_model_tool(model=\"6736411cf127849667606689\")"
      ]
    },
    {
      "cell_type": "markdown",
      "metadata": {
        "id": "ETi5cC36naEK"
      },
      "source": [
        "# Custom Tool: Publish to Threads"
      ]
    },
    {
      "cell_type": "code",
      "execution_count": null,
      "metadata": {
        "id": "UPWckftkncYv"
      },
      "outputs": [],
      "source": [
        "def publish_to_threads(text: str):\n",
        "    \"\"\"\n",
        "    Publishes a text post to Threads using the Threads API.\n",
        "\n",
        "    Parameters:\n",
        "    - text (str): The text content to post\n",
        "\n",
        "    Returns:\n",
        "    - str: The permalink URL of the published post\n",
        "\n",
        "    Raises:\n",
        "    - Exception: If any API calls fail\n",
        "    \"\"\"\n",
        "    import requests\n",
        "    import time\n",
        "\n",
        "    # Fill in your Threads account information\n",
        "    THREADS_USER_ID = \"<THREADS_USER_ID>\"\n",
        "    ACCESS_TOKEN = \"<ACCESS_TOKEN>\"\n",
        "\n",
        "    # Step 1: Create the media container\n",
        "    create_url = f\"https://graph.threads.net/v1.0/{THREADS_USER_ID}/threads\"\n",
        "    create_params = {\n",
        "        \"media_type\": \"TEXT\",\n",
        "        \"text\": text,\n",
        "        \"access_token\": ACCESS_TOKEN\n",
        "    }\n",
        "\n",
        "    response = requests.post(create_url, params=create_params)\n",
        "    if not response.ok:\n",
        "        raise Exception(f\"Failed to create media container: {response.text}\")\n",
        "\n",
        "    container_id = response.json()[\"id\"]\n",
        "\n",
        "    # Wait for server processing (recommended 30 seconds)\n",
        "    time.sleep(30)\n",
        "\n",
        "    # Step 2: Publish the container\n",
        "    publish_url = f\"https://graph.threads.net/v1.0/{THREADS_USER_ID}/threads_publish\"\n",
        "    publish_params = {\n",
        "        \"creation_id\": container_id,\n",
        "        \"access_token\": ACCESS_TOKEN\n",
        "    }\n",
        "\n",
        "    response = requests.post(publish_url, params=publish_params)\n",
        "    if not response.ok:\n",
        "        raise Exception(f\"Failed to publish post: {response.text}\")\n",
        "\n",
        "    media_id = response.json()[\"id\"]\n",
        "\n",
        "    # Step 3: Retrieve the permalink\n",
        "    get_url = f\"https://graph.threads.net/v1.0/{media_id}\"\n",
        "    get_params = {\n",
        "        \"fields\": \"permalink\",\n",
        "        \"access_token\": ACCESS_TOKEN\n",
        "    }\n",
        "\n",
        "    response = requests.get(get_url, params=get_params)\n",
        "    if not response.ok:\n",
        "        raise Exception(f\"Failed to retrieve post permalink: {response.text}\")\n",
        "\n",
        "    return response.json()[\"permalink\"]"
      ]
    },
    {
      "cell_type": "code",
      "execution_count": null,
      "metadata": {
        "id": "GcKg_SQOphfo"
      },
      "outputs": [],
      "source": [
        "publish_to_threads_model = ModelFactory.create_utility_model(name=\"Publish to Threads\", code=publish_to_threads)\n",
        "publish_to_threads_tool = AgentFactory.create_model_tool(model=publish_to_threads_model.id)"
      ]
    },
    {
      "cell_type": "markdown",
      "metadata": {
        "id": "YhLK5E5e9R5X"
      },
      "source": [
        "# Content Generator Agent"
      ]
    },
    {
      "cell_type": "code",
      "execution_count": null,
      "metadata": {
        "id": "MTDhip7M0AKg"
      },
      "outputs": [],
      "source": [
        "CONTENT_GENERATOR_DESCRIPTION = \"An agent that generates concise, appealing social media posts based on user input.\"\n",
        "\n",
        "CONTENT_GENERATOR_INSTRUCTIONS = \"\"\"\n",
        "Generate an appealing text content for a social media post based on the user input.\n",
        "You may search the web if you need more context or references.\n",
        "\n",
        "Keep it concise to avoid boring viewers. You do not need to write full sentences.\n",
        "\n",
        "CAUTIONS:\n",
        "- The content must be less than 500 characters.\n",
        "- Only one hashtag can be added in the post.\n",
        "\"\"\"\n",
        "\n",
        "content_generator_agent = AgentFactory.create(\n",
        "    name=\"Content Generator\",\n",
        "    description=CONTENT_GENERATOR_DESCRIPTION,\n",
        "    instructions=CONTENT_GENERATOR_INSTRUCTIONS,\n",
        "    llm_id=GPT_4O_MINI_ID,\n",
        "    tools=[web_search_tool],\n",
        ")"
      ]
    },
    {
      "cell_type": "markdown",
      "metadata": {
        "id": "8ki7w5LyC5LQ"
      },
      "source": [
        "# Content Reviewer Agent"
      ]
    },
    {
      "cell_type": "code",
      "execution_count": null,
      "metadata": {
        "id": "I4GIacQbC5LR"
      },
      "outputs": [],
      "source": [
        "CONTENT_REVIEWER_DESCRIPTION = \"An agent that reviews social media post content based on a user profile.\"\n",
        "\n",
        "CONTENT_REVIEWER_INSTRUCTIONS = \"\"\"\n",
        "Review given text content for a social media post based on the given user profile.\n",
        "\n",
        "If the content looks okay, just output \"No feedbacks\" without any comments.\n",
        "If the content needs to be improved, give actionable feedback to modify the text.\n",
        "\n",
        "CAUTION:\n",
        "- Respect the given profile.\n",
        "- Do not merely repeat the given content.\n",
        "- Mention only relevant parts of the content that you want to give feedback on.\n",
        "\"\"\"\n",
        "\n",
        "content_reviewer_agent = AgentFactory.create(\n",
        "    name=\"Content Reviewer\",\n",
        "    description=CONTENT_REVIEWER_DESCRIPTION,\n",
        "    instructions=CONTENT_REVIEWER_INSTRUCTIONS,\n",
        "    llm_id=GPT_4O_MINI_ID,\n",
        "    tools=[],\n",
        ")"
      ]
    },
    {
      "cell_type": "markdown",
      "metadata": {
        "id": "nl0CdZC2SUrG"
      },
      "source": [
        "# Content Editor Agent"
      ]
    },
    {
      "cell_type": "code",
      "execution_count": null,
      "metadata": {
        "id": "7GV1g7IcSUrH"
      },
      "outputs": [],
      "source": [
        "CONTENT_EDITOR_DESCRIPTION = \"An agent that edits social media post content based on provided feedback.\"\n",
        "\n",
        "CONTENT_EDITOR_INSTRUCTIONS = \"\"\"\n",
        "Modify given text content for a social media post based on the given user feedback.\n",
        "\n",
        "Update only the parts of the given content that are mentioned in the feedback.\n",
        "\n",
        "CAUTION:\n",
        "- Use web search tool only when necessary.\n",
        "\"\"\"\n",
        "\n",
        "content_editor_agent = AgentFactory.create(\n",
        "    name=\"Content Editor\",\n",
        "    description=CONTENT_EDITOR_DESCRIPTION,\n",
        "    instructions=CONTENT_EDITOR_INSTRUCTIONS,\n",
        "    llm_id=GPT_4O_MINI_ID,\n",
        "    tools=[web_search_tool],\n",
        ")"
      ]
    },
    {
      "cell_type": "markdown",
      "metadata": {
        "id": "-7IcxPiBpMAx"
      },
      "source": [
        "# Content Publisher Agent"
      ]
    },
    {
      "cell_type": "code",
      "execution_count": null,
      "metadata": {
        "id": "iTJ_yamlpMAx"
      },
      "outputs": [],
      "source": [
        "CONTENT_PUBLISHER_DESCRIPTION = \"An agent that performs final review and publishes the content to Threads.\"\n",
        "\n",
        "CONTENT_PUBLISHER_INSTRUCTIONS = \"\"\"\n",
        "Perform a final check on the generated content and publish it to the predefined Threads account.\n",
        "\n",
        "Final checks include:\n",
        "- Limit the content length to 500 characters.\n",
        "- Remove any profanity words or offensive languages.\n",
        "\n",
        "CAUTION:\n",
        "- The user should have mentioned a positive feedback before publishing. Please check the chat history.\n",
        "- Call the publishing tool only once.\n",
        "\"\"\"\n",
        "\n",
        "content_publisher_agent = AgentFactory.create(\n",
        "    name=\"Content Publisher\",\n",
        "    description=CONTENT_PUBLISHER_DESCRIPTION,\n",
        "    instructions=CONTENT_PUBLISHER_INSTRUCTIONS,\n",
        "    llm_id=GPT_4O_MINI_ID,\n",
        "    tools=[publish_to_threads_tool],\n",
        ")"
      ]
    },
    {
      "cell_type": "markdown",
      "metadata": {
        "id": "s4afOEskD6sI"
      },
      "source": [
        "# Team Agent"
      ]
    },
    {
      "cell_type": "code",
      "execution_count": null,
      "metadata": {
        "id": "lE7fc00pFTrp"
      },
      "outputs": [],
      "source": [
        "TEAM_DESCRIPTION = \"\"\"\n",
        "You are a social media expert who can create an appealing text content based on the user input and profile and publish it to a Threads account.\n",
        "\n",
        "You might be asked to update the content through a conversation with the user.\n",
        "If the content input is not given, refer to the chat history to fetch the latest generated content.\n",
        "\n",
        "During the execution, please keep a high standard on the content quality; verify the generated content and improve incrementally, multiple times if needed.\n",
        "\n",
        "Only when the user feedback is positive, e.g. \"okay, good to go\", publish it to Threads without further reviews.\n",
        "\n",
        "FINAL OUTPUT FORMAT:\n",
        "- When the content is generated/edited: content\n",
        "- When the content is published: permalink of the content on Threads\n",
        "- Do not include comments, explanations, section titles or any other information.\n",
        "\n",
        "CAUTIONS:\n",
        "* Do not merely perform all steps by calling all agents. Analyze the user input to decide which steps are relevant, and perform only those steps.\n",
        "* If user feedback is not given, you must generate a content first; do not publish it.\n",
        "* Respect what the user says.\n",
        "* If the user feedback has too many critiques or encourages a fundamental change, consider completely regenerating the content.\n",
        "* Do not perform publishing step more than once.\n",
        "\"\"\"\n",
        "\n",
        "team_agent = TeamAgentFactory.create(\n",
        "    name=\"Threads Posting Agent\",\n",
        "    agents=[content_generator_agent, content_reviewer_agent, content_editor_agent, content_publisher_agent],\n",
        "    description=TEAM_DESCRIPTION,\n",
        "    use_mentalist_and_inspector=True,\n",
        ")"
      ]
    },
    {
      "cell_type": "markdown",
      "metadata": {
        "id": "RFGlygNhFcA4"
      },
      "source": [
        "# Prepare for Run"
      ]
    },
    {
      "cell_type": "code",
      "execution_count": null,
      "metadata": {
        "id": "gYnmEfpFHfa-"
      },
      "outputs": [],
      "source": [
        "# query format\n",
        "\n",
        "QUERY = \"\"\"\n",
        "Profile:\n",
        "{{profile}}\n",
        "\n",
        "Content input:\n",
        "{{content_input}}\n",
        "\n",
        "User feedback:\n",
        "{{user_feedback}}\n",
        "\"\"\""
      ]
    },
    {
      "cell_type": "code",
      "execution_count": null,
      "metadata": {
        "id": "PLGGPPUbH24K"
      },
      "outputs": [],
      "source": [
        "# function for printing verbose output\n",
        "\n",
        "def print_response(response):\n",
        "    print(f\"OUTPUT:\\n{response.data['output']}\")\n",
        "\n",
        "    if response.data[\"intermediate_steps\"][0][\"agent\"] == \"mentalist\":\n",
        "        plan_str = response.data[\"intermediate_steps\"][0][\"output\"]\n",
        "        plan_list = [step.strip(\"{}\") for step in plan_str.strip(\"[{}]\").split(\"}, \")]\n",
        "        print(\"\\n\\nORIGINAL PLAN:\")\n",
        "        print(*plan_list, sep='\\n')\n",
        "\n",
        "    print(\"\\n\\nINTERMEDIATE STEPS:\")\n",
        "    print(*response.data[\"intermediate_steps\"], sep='\\n')\n",
        "\n",
        "    feedbacks = [\n",
        "        step[\"output\"] for step in response.data[\"intermediate_steps\"]\n",
        "        if step[\"agent\"] == \"Content Reviewer\"\n",
        "    ]\n",
        "    print(f\"\\n\\nREVIEW PROCESS: {len(feedbacks)} feedbacks\")\n",
        "    for i, feedback in enumerate(feedbacks):\n",
        "        print(f\"{i+1}: {feedback}\")\n",
        "\n",
        "    print(f\"\\nSession ID: {response.data['session_id']}\")"
      ]
    },
    {
      "cell_type": "markdown",
      "metadata": {
        "id": "8DiOjELGPWoO"
      },
      "source": [
        "# 1st Run"
      ]
    },
    {
      "cell_type": "code",
      "execution_count": null,
      "metadata": {
        "id": "waLlmXrUPCeE"
      },
      "outputs": [],
      "source": [
        "profile = \"\"\"\n",
        "Professional business coaching consultant.\n",
        "Be concise and friendly, but avoid flowery expressions.\n",
        "Focus on actionable implementations and useful information.\n",
        "\"\"\"\n",
        "\n",
        "content_input = \"\"\"\n",
        "One most unknown yet clever productivity hack.\n",
        "\"\"\"\n",
        "\n",
        "user_feedback = \"None\"\n",
        "\n",
        "response = team_agent.run(query=QUERY,\n",
        "                          content={\"profile\": profile,\n",
        "                                   \"content_input\": content_input,\n",
        "                                   \"user_feedback\": user_feedback})"
      ]
    },
    {
      "cell_type": "code",
      "execution_count": null,
      "metadata": {
        "collapsed": true,
        "id": "jDClkvXyPgY9"
      },
      "outputs": [],
      "source": [
        "print_response(response)"
      ]
    },
    {
      "cell_type": "markdown",
      "metadata": {
        "id": "AjVEeo-NSpH_"
      },
      "source": [
        "# 2nd Run: Edit"
      ]
    },
    {
      "cell_type": "code",
      "execution_count": null,
      "metadata": {
        "id": "E9JwdxpMO_IL"
      },
      "outputs": [],
      "source": [
        "user_feedback = \"\"\"\n",
        "Add more details on how to implement the hack. Add one or two emojis for visibility.\n",
        "\"\"\"\n",
        "\n",
        "# give generated content as the input in a new session\n",
        "edit_response = team_agent.run(query=QUERY,\n",
        "                               content={\"profile\": profile,\n",
        "                                        \"content_input\": response.data[\"output\"],\n",
        "                                        \"user_feedback\": user_feedback})"
      ]
    },
    {
      "cell_type": "code",
      "execution_count": null,
      "metadata": {
        "collapsed": true,
        "id": "gzpN7wSdPM7P"
      },
      "outputs": [],
      "source": [
        "print_response(edit_response)"
      ]
    },
    {
      "cell_type": "markdown",
      "metadata": {
        "id": "wXwsxmST0ZZj"
      },
      "source": [
        "# 3rd Run: Publish"
      ]
    },
    {
      "cell_type": "code",
      "execution_count": null,
      "metadata": {
        "id": "Yns4MCaZ0ZZj"
      },
      "outputs": [],
      "source": [
        "content_input = \"None\"\n",
        "\n",
        "user_feedback = \"\"\"\n",
        "Okay, please publish this.\n",
        "\"\"\"\n",
        "\n",
        "# give generated content as the input in a new session\n",
        "publish_response = team_agent.run(query=QUERY,\n",
        "                                  content={\"profile\": profile,\n",
        "                                           \"content_input\": edit_response.data[\"output\"],\n",
        "                                           \"user_feedback\": user_feedback})"
      ]
    },
    {
      "cell_type": "code",
      "execution_count": null,
      "metadata": {
        "collapsed": true,
        "id": "mHyrK5Vh0ZZk"
      },
      "outputs": [],
      "source": [
        "print_response(publish_response)"
      ]
    }
  ],
  "metadata": {
    "colab": {
      "collapsed_sections": [
        "P8jnZXiEkFCT",
        "_ugd5UIW-4MU",
        "cqGWeZAW9nbw"
      ],
      "provenance": []
    },
    "kernelspec": {
      "display_name": "Python 3",
      "name": "python3"
    },
    "language_info": {
      "name": "python"
    }
  },
  "nbformat": 4,
  "nbformat_minor": 0
}
