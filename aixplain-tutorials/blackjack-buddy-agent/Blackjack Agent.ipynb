{
  "cells": [
    {
      "cell_type": "code",
      "execution_count": null,
      "metadata": {
        "colab": {
          "base_uri": "https://localhost:8080/"
        },
        "collapsed": true,
        "id": "Q1K1pXvEaMA4",
        "outputId": "253893cc-def9-45d9-e117-a1c140d5c72e"
      },
      "outputs": [
        {
          "name": "stdout",
          "output_type": "stream",
          "text": [
            "Collecting aixplain\n",
            "  Downloading aiXplain-0.2.27-py3-none-any.whl.metadata (5.0 kB)\n",
            "Requirement already satisfied: requests>=2.1.0 in /usr/local/lib/python3.11/dist-packages (from aixplain) (2.32.3)\n",
            "Requirement already satisfied: tqdm>=4.1.0 in /usr/local/lib/python3.11/dist-packages (from aixplain) (4.67.1)\n",
            "Requirement already satisfied: pandas>=1.2.1 in /usr/local/lib/python3.11/dist-packages (from aixplain) (2.2.2)\n",
            "Collecting python-dotenv>=1.0.0 (from aixplain)\n",
            "  Downloading python_dotenv-1.0.1-py3-none-any.whl.metadata (23 kB)\n",
            "Collecting validators>=0.20.0 (from aixplain)\n",
            "  Downloading validators-0.34.0-py3-none-any.whl.metadata (3.8 kB)\n",
            "Collecting filetype>=1.2.0 (from aixplain)\n",
            "  Downloading filetype-1.2.0-py2.py3-none-any.whl.metadata (6.5 kB)\n",
            "Requirement already satisfied: click>=7.1.2 in /usr/local/lib/python3.11/dist-packages (from aixplain) (8.1.8)\n",
            "Requirement already satisfied: PyYAML>=6.0.1 in /usr/local/lib/python3.11/dist-packages (from aixplain) (6.0.2)\n",
            "Collecting dataclasses-json>=0.5.2 (from aixplain)\n",
            "  Downloading dataclasses_json-0.6.7-py3-none-any.whl.metadata (25 kB)\n",
            "Collecting Jinja2==3.1.4 (from aixplain)\n",
            "  Downloading jinja2-3.1.4-py3-none-any.whl.metadata (2.6 kB)\n",
            "Requirement already satisfied: MarkupSafe>=2.0 in /usr/local/lib/python3.11/dist-packages (from Jinja2==3.1.4->aixplain) (3.0.2)\n",
            "Collecting marshmallow<4.0.0,>=3.18.0 (from dataclasses-json>=0.5.2->aixplain)\n",
            "  Downloading marshmallow-3.26.1-py3-none-any.whl.metadata (7.3 kB)\n",
            "Collecting typing-inspect<1,>=0.4.0 (from dataclasses-json>=0.5.2->aixplain)\n",
            "  Downloading typing_inspect-0.9.0-py3-none-any.whl.metadata (1.5 kB)\n",
            "Requirement already satisfied: numpy>=1.23.2 in /usr/local/lib/python3.11/dist-packages (from pandas>=1.2.1->aixplain) (2.0.2)\n",
            "Requirement already satisfied: python-dateutil>=2.8.2 in /usr/local/lib/python3.11/dist-packages (from pandas>=1.2.1->aixplain) (2.8.2)\n",
            "Requirement already satisfied: pytz>=2020.1 in /usr/local/lib/python3.11/dist-packages (from pandas>=1.2.1->aixplain) (2025.1)\n",
            "Requirement already satisfied: tzdata>=2022.7 in /usr/local/lib/python3.11/dist-packages (from pandas>=1.2.1->aixplain) (2025.1)\n",
            "Requirement already satisfied: charset-normalizer<4,>=2 in /usr/local/lib/python3.11/dist-packages (from requests>=2.1.0->aixplain) (3.4.1)\n",
            "Requirement already satisfied: idna<4,>=2.5 in /usr/local/lib/python3.11/dist-packages (from requests>=2.1.0->aixplain) (3.10)\n",
            "Requirement already satisfied: urllib3<3,>=1.21.1 in /usr/local/lib/python3.11/dist-packages (from requests>=2.1.0->aixplain) (2.3.0)\n",
            "Requirement already satisfied: certifi>=2017.4.17 in /usr/local/lib/python3.11/dist-packages (from requests>=2.1.0->aixplain) (2025.1.31)\n",
            "Requirement already satisfied: packaging>=17.0 in /usr/local/lib/python3.11/dist-packages (from marshmallow<4.0.0,>=3.18.0->dataclasses-json>=0.5.2->aixplain) (24.2)\n",
            "Requirement already satisfied: six>=1.5 in /usr/local/lib/python3.11/dist-packages (from python-dateutil>=2.8.2->pandas>=1.2.1->aixplain) (1.17.0)\n",
            "Collecting mypy-extensions>=0.3.0 (from typing-inspect<1,>=0.4.0->dataclasses-json>=0.5.2->aixplain)\n",
            "  Downloading mypy_extensions-1.0.0-py3-none-any.whl.metadata (1.1 kB)\n",
            "Requirement already satisfied: typing-extensions>=3.7.4 in /usr/local/lib/python3.11/dist-packages (from typing-inspect<1,>=0.4.0->dataclasses-json>=0.5.2->aixplain) (4.12.2)\n",
            "Downloading aiXplain-0.2.27-py3-none-any.whl (307 kB)\n",
            "\u001b[2K   \u001b[90m━━━━━━━━━━━━━━━━━━━━━━━━━━━━━━━━━━━━━━━━\u001b[0m \u001b[32m307.7/307.7 kB\u001b[0m \u001b[31m16.0 MB/s\u001b[0m eta \u001b[36m0:00:00\u001b[0m\n",
            "\u001b[?25hDownloading jinja2-3.1.4-py3-none-any.whl (133 kB)\n",
            "\u001b[2K   \u001b[90m━━━━━━━━━━━━━━━━━━━━━━━━━━━━━━━━━━━━━━━━\u001b[0m \u001b[32m133.3/133.3 kB\u001b[0m \u001b[31m8.1 MB/s\u001b[0m eta \u001b[36m0:00:00\u001b[0m\n",
            "\u001b[?25hDownloading dataclasses_json-0.6.7-py3-none-any.whl (28 kB)\n",
            "Downloading filetype-1.2.0-py2.py3-none-any.whl (19 kB)\n",
            "Downloading python_dotenv-1.0.1-py3-none-any.whl (19 kB)\n",
            "Downloading validators-0.34.0-py3-none-any.whl (43 kB)\n",
            "\u001b[2K   \u001b[90m━━━━━━━━━━━━━━━━━━━━━━━━━━━━━━━━━━━━━━━━\u001b[0m \u001b[32m43.5/43.5 kB\u001b[0m \u001b[31m2.2 MB/s\u001b[0m eta \u001b[36m0:00:00\u001b[0m\n",
            "\u001b[?25hDownloading marshmallow-3.26.1-py3-none-any.whl (50 kB)\n",
            "\u001b[2K   \u001b[90m━━━━━━━━━━━━━━━━━━━━━━━━━━━━━━━━━━━━━━━━\u001b[0m \u001b[32m50.9/50.9 kB\u001b[0m \u001b[31m1.6 MB/s\u001b[0m eta \u001b[36m0:00:00\u001b[0m\n",
            "\u001b[?25hDownloading typing_inspect-0.9.0-py3-none-any.whl (8.8 kB)\n",
            "Downloading mypy_extensions-1.0.0-py3-none-any.whl (4.7 kB)\n",
            "Installing collected packages: filetype, validators, python-dotenv, mypy-extensions, marshmallow, Jinja2, typing-inspect, dataclasses-json, aixplain\n",
            "  Attempting uninstall: Jinja2\n",
            "    Found existing installation: Jinja2 3.1.6\n",
            "    Uninstalling Jinja2-3.1.6:\n",
            "      Successfully uninstalled Jinja2-3.1.6\n",
            "\u001b[31mERROR: pip's dependency resolver does not currently take into account all the packages that are installed. This behaviour is the source of the following dependency conflicts.\n",
            "torch 2.6.0+cu124 requires nvidia-cublas-cu12==12.4.5.8; platform_system == \"Linux\" and platform_machine == \"x86_64\", but you have nvidia-cublas-cu12 12.5.3.2 which is incompatible.\n",
            "torch 2.6.0+cu124 requires nvidia-cuda-cupti-cu12==12.4.127; platform_system == \"Linux\" and platform_machine == \"x86_64\", but you have nvidia-cuda-cupti-cu12 12.5.82 which is incompatible.\n",
            "torch 2.6.0+cu124 requires nvidia-cuda-nvrtc-cu12==12.4.127; platform_system == \"Linux\" and platform_machine == \"x86_64\", but you have nvidia-cuda-nvrtc-cu12 12.5.82 which is incompatible.\n",
            "torch 2.6.0+cu124 requires nvidia-cuda-runtime-cu12==12.4.127; platform_system == \"Linux\" and platform_machine == \"x86_64\", but you have nvidia-cuda-runtime-cu12 12.5.82 which is incompatible.\n",
            "torch 2.6.0+cu124 requires nvidia-cudnn-cu12==9.1.0.70; platform_system == \"Linux\" and platform_machine == \"x86_64\", but you have nvidia-cudnn-cu12 9.3.0.75 which is incompatible.\n",
            "torch 2.6.0+cu124 requires nvidia-cufft-cu12==11.2.1.3; platform_system == \"Linux\" and platform_machine == \"x86_64\", but you have nvidia-cufft-cu12 11.2.3.61 which is incompatible.\n",
            "torch 2.6.0+cu124 requires nvidia-curand-cu12==10.3.5.147; platform_system == \"Linux\" and platform_machine == \"x86_64\", but you have nvidia-curand-cu12 10.3.6.82 which is incompatible.\n",
            "torch 2.6.0+cu124 requires nvidia-cusolver-cu12==11.6.1.9; platform_system == \"Linux\" and platform_machine == \"x86_64\", but you have nvidia-cusolver-cu12 11.6.3.83 which is incompatible.\n",
            "torch 2.6.0+cu124 requires nvidia-cusparse-cu12==12.3.1.170; platform_system == \"Linux\" and platform_machine == \"x86_64\", but you have nvidia-cusparse-cu12 12.5.1.3 which is incompatible.\n",
            "torch 2.6.0+cu124 requires nvidia-nvjitlink-cu12==12.4.127; platform_system == \"Linux\" and platform_machine == \"x86_64\", but you have nvidia-nvjitlink-cu12 12.5.82 which is incompatible.\u001b[0m\u001b[31m\n",
            "\u001b[0mSuccessfully installed Jinja2-3.1.4 aixplain-0.2.27 dataclasses-json-0.6.7 filetype-1.2.0 marshmallow-3.26.1 mypy-extensions-1.0.0 python-dotenv-1.0.1 typing-inspect-0.9.0 validators-0.34.0\n"
          ]
        }
      ],
      "source": [
        "!pip install aixplain"
      ]
    },
    {
      "cell_type": "code",
      "execution_count": null,
      "metadata": {
        "id": "2gyFN41HZkjU"
      },
      "outputs": [],
      "source": [
        "def new(game_id: str=\"\"):\n",
        "    \"\"\"\n",
        "    Starts a new Blackjack game.\n",
        "    Shuffles the deck and deals two cards each to the player and dealer.\n",
        "    Prints the current state of the game, including the player's and dealer's cards and scores, and the game ID.\n",
        "\n",
        "    Parameters:\n",
        "    game_id (str): The ID of the game deck. It must be a valid ID. Set game_id to an empty string (\"\") to use a new deck.\n",
        "    \"\"\"\n",
        "\n",
        "    import requests, textwrap\n",
        "\n",
        "    if game_id:\n",
        "        deck_id = game_id\n",
        "        requests.get(f\"https://deckofcardsapi.com/api/deck/{deck_id}/shuffle/\").raise_for_status()\n",
        "    else:\n",
        "        response = requests.get(f\"https://deckofcardsapi.com/api/deck/new/shuffle/?deck_count=1\")\n",
        "        response.raise_for_status()\n",
        "        deck_id = response.json()['deck_id']\n",
        "\n",
        "    count = 2\n",
        "\n",
        "    # Player cards\n",
        "    response = requests.get(f\"https://deckofcardsapi.com/api/deck/{deck_id}/draw/?count={count}\")\n",
        "    response.raise_for_status()\n",
        "    player_cards = response.json()['cards']\n",
        "\n",
        "    # Dealer cards\n",
        "    response = requests.get(f\"https://deckofcardsapi.com/api/deck/{deck_id}/draw/?count={count}\")\n",
        "    response.raise_for_status()\n",
        "    dealer_cards = response.json()['cards']\n",
        "\n",
        "    dealer_visible_cards = dealer_cards[:1]\n",
        "    requests.get(f\"https://deckofcardsapi.com/api/deck/{deck_id}/pile/player/add/?cards={','.join([card['code'] for card in player_cards])}\").raise_for_status()\n",
        "    requests.get(f\"https://deckofcardsapi.com/api/deck/{deck_id}/pile/dealer/add/?cards={','.join([card['code'] for card in dealer_cards])}\").raise_for_status()\n",
        "\n",
        "    # Calculate player score\n",
        "    player_score = 0\n",
        "    player_aces = 0\n",
        "    for card in player_cards:\n",
        "        if card['value'] in ['JACK', 'QUEEN', 'KING']:\n",
        "            player_score += 10\n",
        "        elif card['value'] == 'ACE':\n",
        "            player_aces += 1\n",
        "            player_score += 11\n",
        "        else:\n",
        "            player_score += int(card['value'])\n",
        "    while player_score > 21 and player_aces:\n",
        "        player_score -= 10\n",
        "        player_aces -= 1\n",
        "\n",
        "    # Calculate dealer visible score\n",
        "    dealer_visible_score = 0\n",
        "    dealer_visible_aces = 0\n",
        "    for card in dealer_visible_cards:\n",
        "        if card['value'] in ['JACK', 'QUEEN', 'KING']:\n",
        "            dealer_visible_score += 10\n",
        "        elif card['value'] == 'ACE':\n",
        "            dealer_visible_aces += 1\n",
        "            dealer_visible_score += 11\n",
        "        else:\n",
        "            dealer_visible_score += int(card['value'])\n",
        "    while dealer_visible_score > 21 and dealer_visible_aces:\n",
        "        dealer_visible_score -= 10\n",
        "        dealer_visible_aces -= 1\n",
        "\n",
        "    output = textwrap.dedent(f\"\"\"\n",
        "    Player's cards: {[card['code'] for card in player_cards]}\n",
        "    Dealer's visible cards: {[card['code'] for card in dealer_visible_cards]}\n",
        "    Player's score: {player_score}\n",
        "    Dealer's visible score: {dealer_visible_score}\n",
        "    Game ID: {deck_id}\n",
        "    \"\"\")\n",
        "\n",
        "    return output\n",
        "\n",
        "def hit(game_id: str):\n",
        "    \"\"\"\n",
        "    Draws a new card for the player and updates the player's score.\n",
        "    If the player's score exceeds 21, the player busts.\n",
        "    Prints the current state of the game, including the player's cards and score, and the game ID.\n",
        "\n",
        "    Parameters:\n",
        "    game_id (str): The ID of the game deck.\n",
        "    \"\"\"\n",
        "\n",
        "    import requests, textwrap\n",
        "\n",
        "    deck_id = game_id\n",
        "\n",
        "    # Draw a new card\n",
        "    response = requests.get(f\"https://deckofcardsapi.com/api/deck/{deck_id}/draw/?count=1\")\n",
        "    response.raise_for_status()\n",
        "    new_card = response.json()['cards']\n",
        "\n",
        "    # Add to player's pile\n",
        "    requests.get(f\"https://deckofcardsapi.com/api/deck/{deck_id}/pile/player/add/?cards={','.join([card['code'] for card in new_card])}\").raise_for_status()\n",
        "\n",
        "    # List player's pile\n",
        "    response = requests.get(f\"https://deckofcardsapi.com/api/deck/{deck_id}/pile/player/list/\")\n",
        "    response.raise_for_status()\n",
        "    player_pile = response.json()['piles']['player']['cards']\n",
        "\n",
        "    # Calculate player score\n",
        "    player_score = 0\n",
        "    player_aces = 0\n",
        "    for card in player_pile:\n",
        "        if card['value'] in ['JACK', 'QUEEN', 'KING']:\n",
        "            player_score += 10\n",
        "        elif card['value'] == 'ACE':\n",
        "            player_aces += 1\n",
        "            player_score += 11\n",
        "        else:\n",
        "            player_score += int(card['value'])\n",
        "    while player_score > 21 and player_aces:\n",
        "        player_score -= 10\n",
        "        player_aces -= 1\n",
        "\n",
        "\n",
        "    output = textwrap.dedent(f\"\"\"\n",
        "    Player drew: {[card['code'] for card in new_card]}\n",
        "    Player's cards: {[card['code'] for card in player_pile]}\n",
        "    Player's score: {player_score}\n",
        "    Game ID: {deck_id}\n",
        "    \"\"\")\n",
        "\n",
        "    if player_score > 21:\n",
        "        output += \"\\nPlayer busts! Dealer wins.\"\n",
        "\n",
        "    return output\n",
        "\n",
        "def stand(game_id: str):\n",
        "    \"\"\"\n",
        "    Ends the player's turn and reveals the dealer's cards.\n",
        "    The dealer draws cards until their score is 17 or higher.\n",
        "    Prints the final state of the game, including the player's and dealer's cards and scores, and the game ID.\n",
        "\n",
        "    Parameters:\n",
        "    game_id (str): The ID of the game deck.\n",
        "    \"\"\"\n",
        "\n",
        "    import requests, textwrap\n",
        "\n",
        "    deck_id = game_id\n",
        "\n",
        "    # List player's pile\n",
        "    response = requests.get(f\"https://deckofcardsapi.com/api/deck/{deck_id}/pile/player/list/\")\n",
        "    response.raise_for_status()\n",
        "    player_pile = response.json()['piles']['player']['cards']\n",
        "\n",
        "    # List dealer's pile\n",
        "    response = requests.get(f\"https://deckofcardsapi.com/api/deck/{deck_id}/pile/dealer/list/\")\n",
        "    response.raise_for_status()\n",
        "    dealer_pile = response.json()['piles']['dealer']['cards']\n",
        "\n",
        "    # Calculate player score\n",
        "    player_score = 0\n",
        "    player_aces = 0\n",
        "    for card in player_pile:\n",
        "        if card['value'] in ['JACK', 'QUEEN', 'KING']:\n",
        "            player_score += 10\n",
        "        elif card['value'] == 'ACE':\n",
        "            player_aces += 1\n",
        "            player_score += 11\n",
        "        else:\n",
        "            player_score += int(card['value'])\n",
        "    while player_score > 21 and player_aces:\n",
        "        player_score -= 10\n",
        "        player_aces -= 1\n",
        "\n",
        "    # Calculate dealer score\n",
        "    dealer_score = 0\n",
        "    dealer_aces = 0\n",
        "    for card in dealer_pile:\n",
        "        if card['value'] in ['JACK', 'QUEEN', 'KING']:\n",
        "            dealer_score += 10\n",
        "        elif card['value'] == 'ACE':\n",
        "            dealer_aces += 1\n",
        "            dealer_score += 11\n",
        "        else:\n",
        "            dealer_score += int(card['value'])\n",
        "    while dealer_score > 21 and dealer_aces:\n",
        "        dealer_score -= 10\n",
        "        dealer_aces -= 1\n",
        "\n",
        "    while dealer_score < 17:\n",
        "        response = requests.get(f\"https://deckofcardsapi.com/api/deck/{deck_id}/draw/?count=1\")\n",
        "        response.raise_for_status()\n",
        "        new_card = response.json()['cards']\n",
        "        requests.get(f\"https://deckofcardsapi.com/api/deck/{deck_id}/pile/dealer/add/?cards={','.join([card['code'] for card in new_card])}\").raise_for_status()\n",
        "        dealer_pile.append(new_card[0])\n",
        "        dealer_score = 0\n",
        "        dealer_aces = 0\n",
        "        for card in dealer_pile:\n",
        "            if card['value'] in ['JACK', 'QUEEN', 'KING']:\n",
        "                dealer_score += 10\n",
        "            elif card['value'] == 'ACE':\n",
        "                dealer_aces += 1\n",
        "                dealer_score += 11\n",
        "            else:\n",
        "                dealer_score += int(card['value'])\n",
        "        while dealer_score > 21 and dealer_aces:\n",
        "            dealer_score -= 10\n",
        "            dealer_aces -= 1\n",
        "\n",
        "    output = textwrap.dedent(f\"\"\"\n",
        "        Player's cards: {[card['code'] for card in player_pile]}\n",
        "        Player's score: {player_score}\n",
        "        Dealer's cards: {[card['code'] for card in dealer_pile]}\n",
        "        Dealer's score: {dealer_score}\n",
        "        \"\"\")\n",
        "\n",
        "    if dealer_score > 21 or player_score > dealer_score:\n",
        "        output += \"Player wins!\\n\"\n",
        "    elif player_score < dealer_score:\n",
        "        output += \"Dealer wins!\\n\"\n",
        "    else:\n",
        "        output += \"It's a tie!\\n\"\n",
        "\n",
        "    output += f\"Game ID: {deck_id}\"\n",
        "\n",
        "    return output\n",
        "\n",
        "    return output"
      ]
    },
    {
      "cell_type": "code",
      "execution_count": null,
      "metadata": {
        "colab": {
          "base_uri": "https://localhost:8080/"
        },
        "id": "FI6lUCkzZsAt",
        "outputId": "dad2c29c-5812-4494-d0bf-0cbcfce355bd"
      },
      "outputs": [
        {
          "name": "stdout",
          "output_type": "stream",
          "text": [
            "\n",
            "Player's cards: ['3S', '7S']\n",
            "Dealer's visible cards: ['KD']\n",
            "Player's score: 10\n",
            "Dealer's visible score: 10\n",
            "Game ID: bs6lb3kqny9b\n",
            "\n"
          ]
        }
      ],
      "source": [
        "print(new())\n"
      ]
    },
    {
      "cell_type": "code",
      "execution_count": null,
      "metadata": {
        "colab": {
          "base_uri": "https://localhost:8080/"
        },
        "id": "gVe8rvtMZuwn",
        "outputId": "87d1ca77-48a7-49df-faf5-18850cf86106"
      },
      "outputs": [
        {
          "name": "stdout",
          "output_type": "stream",
          "text": [
            "\n",
            "Player drew: ['7C']\n",
            "Player's cards: ['3S', '7S', '7C']\n",
            "Player's score: 17\n",
            "Game ID: bs6lb3kqny9b\n",
            "\n"
          ]
        }
      ],
      "source": [
        "print(hit(\"bs6lb3kqny9b\"))\n"
      ]
    },
    {
      "cell_type": "code",
      "execution_count": null,
      "metadata": {
        "colab": {
          "base_uri": "https://localhost:8080/"
        },
        "id": "otQzETYcZubN",
        "outputId": "03ab765c-9acf-4ab7-ca0b-2046c88fbf23"
      },
      "outputs": [
        {
          "name": "stdout",
          "output_type": "stream",
          "text": [
            "\n",
            "Player's cards: ['3S', '7S', '7C']\n",
            "Player's score: 17\n",
            "Dealer's cards: ['KD', '7H']\n",
            "Dealer's score: 17\n",
            "It's a tie!\n",
            "Game ID: bs6lb3kqny9b\n"
          ]
        }
      ],
      "source": [
        "print(stand(\"bs6lb3kqny9b\"))"
      ]
    },
    {
      "cell_type": "code",
      "execution_count": null,
      "metadata": {
        "id": "nNr2sWRoZqGO"
      },
      "outputs": [],
      "source": [
        "import json\n",
        "from aixplain import Aixplain\n",
        "aix = Aixplain(\"7604245cb41d746d755bbf5b9357c6294503f100472adf8832ba5891b9a858f6\") # aixplain team\n",
        "# aix = Aixplain(\"8e6e248e8262660c0c8334769fbd48750899b1a389463d6ba93f0a20dbdcf7f5\") # Tim Nelson team"
      ]
    },
    {
      "cell_type": "code",
      "execution_count": null,
      "metadata": {
        "colab": {
          "base_uri": "https://localhost:8080/"
        },
        "id": "kwuv5XqUhXXZ",
        "outputId": "fd037fcc-40b6-474b-a9aa-d2dfe67ab38b"
      },
      "outputs": [
        {
          "name": "stdout",
          "output_type": "stream",
          "text": [
            "67e18e564fa177b0d6cd1663 Blackjack New\n",
            "67d3493902912431287a389e Blackjack Hit\n",
            "67d3493a8e9326b58bc20ad0 Blackjack Stand\n"
          ]
        }
      ],
      "source": [
        "model_list = aix.Model.list(query=\"Blackjack\")['results']\n",
        "for model in model_list:\n",
        "    print(model.id, model.name)"
      ]
    },
    {
      "cell_type": "code",
      "execution_count": null,
      "metadata": {
        "id": "B2zayRFVmmMI"
      },
      "outputs": [],
      "source": [
        "blackjack_new = aix.Model.get(\"67d36a128e9326b58bc20ddc\")\n",
        "blackjack_new.delete()"
      ]
    },
    {
      "cell_type": "code",
      "execution_count": null,
      "metadata": {
        "id": "1RieWVJtmmBN"
      },
      "outputs": [],
      "source": [
        "blackjack_hit = aix.Model.get(\"67d3493902912431287a389e\")\n",
        "blackjack_hit.delete()"
      ]
    },
    {
      "cell_type": "code",
      "execution_count": null,
      "metadata": {
        "id": "gTcQp7Nlhptb"
      },
      "outputs": [],
      "source": [
        "blackjack_stand = aix.Model.get(\"67d3493a8e9326b58bc20ad0\")\n",
        "blackjack_stand.delete()"
      ]
    },
    {
      "cell_type": "code",
      "execution_count": null,
      "metadata": {
        "id": "Y3ctiN-gaFY8"
      },
      "outputs": [],
      "source": [
        "blackjack_new = aix.Model.create_utility_model(\n",
        "    name=\"Blackjack New\",\n",
        "    code=new,\n",
        ")"
      ]
    },
    {
      "cell_type": "code",
      "execution_count": null,
      "metadata": {
        "id": "xiblkDPAz2jw"
      },
      "outputs": [],
      "source": [
        "blackjack_hit = aix.Model.create_utility_model(\n",
        "    name=\"Blackjack Hit\",\n",
        "    code=hit,\n",
        ")"
      ]
    },
    {
      "cell_type": "code",
      "execution_count": null,
      "metadata": {
        "id": "KTbtyulmz34_"
      },
      "outputs": [],
      "source": [
        "blackjack_stand = aix.Model.create_utility_model(\n",
        "    name=\"Blackjack Stand\",\n",
        "    code=stand,\n",
        ")"
      ]
    },
    {
      "cell_type": "code",
      "execution_count": null,
      "metadata": {
        "colab": {
          "base_uri": "https://localhost:8080/"
        },
        "id": "ha6RXRntaHxF",
        "outputId": "b856aa42-e16b-42e2-de8d-e4a7e4da2278"
      },
      "outputs": [
        {
          "name": "stdout",
          "output_type": "stream",
          "text": [
            "Player's cards: ['8H', 'AC']\n",
            "Dealer's visible cards: ['9H']\n",
            "Player's score: 19\n",
            "Dealer's visible score: 9\n",
            "Game ID: 1wred04rp03l\n"
          ]
        }
      ],
      "source": [
        "response = blackjack_new.run(\"\")\n",
        "print(response.data)"
      ]
    },
    {
      "cell_type": "code",
      "execution_count": null,
      "metadata": {
        "colab": {
          "base_uri": "https://localhost:8080/"
        },
        "id": "9uoweNdslNQr",
        "outputId": "e0fc6043-e6ed-4741-9f39-ab5af001d186"
      },
      "outputs": [
        {
          "name": "stdout",
          "output_type": "stream",
          "text": [
            "Player drew: ['0D']\n",
            "Player's cards: ['7H', '3S', '0D']\n",
            "Player's score: 20\n",
            "Game ID: iteet1lwbzvk\n"
          ]
        }
      ],
      "source": [
        "response = blackjack_hit.run(\"1wred04rp03l\")\n",
        "print(response.data)"
      ]
    },
    {
      "cell_type": "code",
      "execution_count": null,
      "metadata": {
        "colab": {
          "base_uri": "https://localhost:8080/"
        },
        "id": "Z2KsbPLalOA5",
        "outputId": "b89b069a-7bb7-42a1-c7be-7980168ec1d5"
      },
      "outputs": [
        {
          "name": "stdout",
          "output_type": "stream",
          "text": [
            "Player's cards: ['8H', 'AC']\n",
            "Player's score: 19\n",
            "Dealer's cards: ['9H', '8S']\n",
            "Dealer's score: 17\n",
            "Player wins!\n",
            "Game ID: 1wred04rp03l\n"
          ]
        }
      ],
      "source": [
        "response = blackjack_stand.run(\"1wred04rp03l\")\n",
        "print(response.data)"
      ]
    },
    {
      "cell_type": "code",
      "execution_count": null,
      "metadata": {
        "id": "xOkFmXgfg0B5"
      },
      "outputs": [],
      "source": [
        "blackjack_agent = aix.Agent.create(\n",
        "    name=\"Blackjack Agent\",\n",
        "    description=\"An agent that can teach and play the game of Blackjack.\",\n",
        "    instructions=\"\"\"\n",
        "    You are an agent that can teach and play the game of Blackjack.\n",
        "\n",
        "    To play Blackjack with the player, use the Blackjack utilities:\n",
        "    Blackjack New: Starts a new game of Blackjack.\n",
        "    Blackjack Hit: Draws a new card for the player.\n",
        "    Blackjack Stand: Ends the player's turn and plays out the dealer's hand.\n",
        "\n",
        "    You must pass the game ID when using Blackjack Hit and Blackjack Stand.\n",
        "    You must pass an empty string (\"\") as the game ID when using Blackjack New to start a new game.\n",
        "    However, you can pass the game ID returned by Blackjack New to restart the same game.\n",
        "\n",
        "    The player does not have to specify the game ID. Look for it in the conversation history.\n",
        "\n",
        "    The game ID is returned by the Blackjack New utility. You must inform the player of their game ID in every response after using Blackjack New, Hit or Stand.\n",
        "\n",
        "    Note that the Utilities return 10s as 0s. Always refer to 0s as 10s when responding to the player.\n",
        "\n",
        "    You can play the following variant with the player:\n",
        "\n",
        "    Number of Decks:\n",
        "    The game uses a single deck of cards, which is shuffled at the start of each new game.\n",
        "\n",
        "    Game States:\n",
        "\n",
        "    1. New: Starts a new game, shuffles the deck, and deals initial cards to the player and dealer.\n",
        "    2. Hit: Draws a new card for the player and updates the player's score. Checks if the player busts.\n",
        "    3. Stand: Ends the player's turn, reveals the dealer's cards, and plays out the dealer's hand according to Blackjack rules. Determines the winner based on the final scores.\n",
        "\n",
        "    Initial Deal:\n",
        "    1. Both the player and the dealer are dealt two cards each.\n",
        "    2. The player's cards are both visible.\n",
        "    3. The dealer's cards include one visible card and one hidden card.\n",
        "\n",
        "    Player Options:\n",
        "    1. Hit: The player can choose to draw additional cards to increase their score.\n",
        "    2. Stand: The player can choose to stop drawing cards and end their turn.\n",
        "\n",
        "    Scoring:\n",
        "    1. Number cards (2-10) are worth their face value.\n",
        "    2. Face cards (Jack, Queen, King) are worth 10 points each.\n",
        "    3. Aces can be worth either 1 or 11 points, depending on which value is more favorable without causing the player to bust.\n",
        "\n",
        "    Dealer's Turn:\n",
        "    1. The dealer reveals their hidden card and continues to draw cards until their score is at least 17.\n",
        "    2. If the dealer's score exceeds 21, the dealer busts, and the player wins.\n",
        "\n",
        "    Winning Conditions:\n",
        "    1. The player wins if their score is higher than the dealer's without exceeding 21.\n",
        "    2. The dealer wins if their score is higher than the player's without exceeding 21.\n",
        "    3. If both the player and dealer have the same score, it is a tie.\n",
        "\n",
        "    Additional Rules Not Part of This Variant\n",
        "    1. Double Down: In some Blackjack variants, players can double their initial bet after receiving their first two cards and receive exactly one more card. This option is not available in this game.\n",
        "\n",
        "    2. Split: If the player's first two cards are of the same value, they can choose to split them into two separate hands. This option is not available in this game.\n",
        "\n",
        "    3. Insurance: If the dealer's visible card is an Ace, players can take insurance, a side bet that the dealer has a Blackjack. This option is not available in this game.\n",
        "\n",
        "    4. Surrender: Some variants allow players to surrender their hand and lose half their bet instead of playing out the hand. This option is not available in this game.\n",
        "    Multiple Decks:\n",
        "\n",
        "    Some Blackjack games use multiple decks (e.g., 6 or 8 decks) to reduce the effectiveness of card counting. This game uses only a single deck.\n",
        "\n",
        "\n",
        "    \"\"\",\n",
        "    tools=[\n",
        "        blackjack_new,\n",
        "        blackjack_hit,\n",
        "        blackjack_stand,\n",
        "    ]\n",
        ")"
      ]
    },
    {
      "cell_type": "code",
      "execution_count": null,
      "metadata": {
        "id": "9rwcsgKNh0I4"
      },
      "outputs": [],
      "source": [
        "session_id=None"
      ]
    },
    {
      "cell_type": "code",
      "execution_count": null,
      "metadata": {
        "colab": {
          "base_uri": "https://localhost:8080/"
        },
        "id": "qzjilvzlg5kg",
        "outputId": "f0cb0ad6-5b45-4ce2-ae09-85d9dba1326f"
      },
      "outputs": [
        {
          "name": "stdout",
          "output_type": "stream",
          "text": [
            "I can teach and play the game of Blackjack with you. I can start a new game, draw cards for you, and reveal the dealer's hand to determine the winner.\n"
          ]
        }
      ],
      "source": [
        "response = blackjack_agent.run(\"What can you do?\")\n",
        "print(response.data['output'])"
      ]
    },
    {
      "cell_type": "code",
      "execution_count": null,
      "metadata": {
        "colab": {
          "base_uri": "https://localhost:8080/"
        },
        "id": "92gagmsHg6Rc",
        "outputId": "439fd622-58a2-4219-be26-5cbd97f065cc"
      },
      "outputs": [
        {
          "name": "stdout",
          "output_type": "stream",
          "text": [
            "In Blackjack, the goal is to have a hand value closer to 21 than the dealer without going over. Number cards (2-10) are worth their face value, face cards (Jack, Queen, King) are worth 10 points, and Aces can be worth 1 or 11 points. Players can choose to 'Hit' to draw more cards or 'Stand' to end their turn. The dealer must draw until they reach a score of at least 17. If a player's score exceeds 21, they bust and lose the game. The player wins if their score is higher than the dealer's without busting.\n"
          ]
        }
      ],
      "source": [
        "response = blackjack_agent.run(\"What are the rules?\", session_id=response.data['session_id'])\n",
        "print(response.data['output'])"
      ]
    },
    {
      "cell_type": "code",
      "execution_count": null,
      "metadata": {
        "colab": {
          "base_uri": "https://localhost:8080/"
        },
        "id": "S9io83qug6sE",
        "outputId": "ce94bbeb-f160-47b8-fa75-823f109ee4fb"
      },
      "outputs": [
        {
          "name": "stdout",
          "output_type": "stream",
          "text": [
            "A new game of Blackjack has started! Your cards are 5 of Spades and Jack of Spades, giving you a score of 15. The dealer's visible card is 10. Your game ID is oroorx3cu0o1. Would you like to hit or stand?\n"
          ]
        }
      ],
      "source": [
        "response = blackjack_agent.run(\"I want to play a new game of Blackjack.\", session_id=response.data['session_id'])\n",
        "print(response.data['output'])"
      ]
    },
    {
      "cell_type": "code",
      "execution_count": null,
      "metadata": {
        "id": "DCUVOhkBiB0m"
      },
      "outputs": [],
      "source": [
        "# print(json.dumps(response.data[\"intermediate_steps\"], indent=4))"
      ]
    },
    {
      "cell_type": "code",
      "execution_count": null,
      "metadata": {
        "colab": {
          "base_uri": "https://localhost:8080/"
        },
        "id": "RJREOWhJf48w",
        "outputId": "c1004d33-bed4-4f56-905d-c9b6b325765f"
      },
      "outputs": [
        {
          "name": "stdout",
          "output_type": "stream",
          "text": [
            "You drew a King of Hearts, bringing your total score to 25. Unfortunately, you bust! The dealer wins.\n"
          ]
        }
      ],
      "source": [
        "response = blackjack_agent.run(\"I want to hit.\", session_id=response.data['session_id'])\n",
        "print(response.data['output'])"
      ]
    },
    {
      "cell_type": "code",
      "execution_count": null,
      "metadata": {
        "colab": {
          "base_uri": "https://localhost:8080/"
        },
        "id": "YanTc8K6hec7",
        "outputId": "7808058e-e628-4609-a81b-1ef79839b31d"
      },
      "outputs": [
        {
          "name": "stdout",
          "output_type": "stream",
          "text": [
            "You chose to stand. Your final score is 20, while the dealer's score is 21. Unfortunately, the dealer wins this round. Your game ID is fwrcudldihso.\n"
          ]
        }
      ],
      "source": [
        "response = blackjack_agent.run(\"I want to stand.\", session_id=response.data['session_id'])\n",
        "print(response.data['output'])"
      ]
    },
    {
      "cell_type": "code",
      "execution_count": null,
      "metadata": {
        "id": "K3QTleHciGkW"
      },
      "outputs": [],
      "source": [
        "# response = blackjack_agent.run(\"What is my game ID?\", session_id=response.data['session_id'])\n",
        "# print(response.data['output'])"
      ]
    },
    {
      "cell_type": "code",
      "execution_count": null,
      "metadata": {
        "colab": {
          "base_uri": "https://localhost:8080/"
        },
        "id": "SsidKBTeAXME",
        "outputId": "0bfee9e1-f55d-4512-f3cb-ae0ad6289778"
      },
      "outputs": [
        {
          "name": "stdout",
          "output_type": "stream",
          "text": [
            "A new game of Blackjack has started! Your cards are Ace of Clubs and Ace of Spades, giving you a score of 12. The dealer's visible card is 5 of Diamonds. Your game ID is lebzczwx8338. Would you like to hit or stand?\n"
          ]
        }
      ],
      "source": [
        "response = blackjack_agent.run(\"Let's play again!\", session_id=response.data['session_id'])\n",
        "print(response.data['output'])"
      ]
    },
    {
      "cell_type": "code",
      "execution_count": null,
      "metadata": {
        "colab": {
          "base_uri": "https://localhost:8080/"
        },
        "id": "8Mn2hX-dAd53",
        "outputId": "55cab8d9-a03e-48d4-aaf7-9fd7e891a1f0"
      },
      "outputs": [
        {
          "name": "stdout",
          "output_type": "stream",
          "text": [
            "You drew a Jack of Clubs, bringing your total score to 12. Your cards are now Ace of Clubs, Ace of Spades, and Jack of Clubs. The dealer's visible card is still 5 of Diamonds. Would you like to hit or stand?\n"
          ]
        }
      ],
      "source": [
        "response = blackjack_agent.run(\"I want to hit.\", session_id=response.data['session_id'])\n",
        "print(response.data['output'])"
      ]
    },
    {
      "cell_type": "code",
      "execution_count": null,
      "metadata": {
        "colab": {
          "base_uri": "https://localhost:8080/"
        },
        "id": "tiKHcv0JAlpV",
        "outputId": "1c81f081-59c2-4789-b582-b4ea974a592e"
      },
      "outputs": [
        {
          "name": "stdout",
          "output_type": "stream",
          "text": [
            "Your score is still 12 because the two Aces can be counted as 1 or 11, and in this case, they are counted as 1 each. The Jack is worth 10, so your total is 1 + 1 + 10 = 12. Would you like to hit or stand?\n"
          ]
        }
      ],
      "source": [
        "response = blackjack_agent.run(\"Why is my score still the same?\", session_id=response.data['session_id'])\n",
        "print(response.data['output'])"
      ]
    },
    {
      "cell_type": "code",
      "execution_count": null,
      "metadata": {
        "colab": {
          "base_uri": "https://localhost:8080/"
        },
        "id": "lNXRSB9pAwzV",
        "outputId": "54462ea5-8cad-47ae-f59a-925d5a255439"
      },
      "outputs": [
        {
          "name": "stdout",
          "output_type": "stream",
          "text": [
            "I recommend hitting again to try to improve your score, as you currently have a total of 12.\n"
          ]
        }
      ],
      "source": [
        "response = blackjack_agent.run(\"What do you recommend I do?\", session_id=response.data['session_id'])\n",
        "print(response.data['output'])"
      ]
    },
    {
      "cell_type": "code",
      "execution_count": null,
      "metadata": {
        "colab": {
          "base_uri": "https://localhost:8080/"
        },
        "id": "ptDz6f1gA2wx",
        "outputId": "c0a2f8e9-613b-4a77-a6dd-3f7eff8f578f"
      },
      "outputs": [
        {
          "name": "stdout",
          "output_type": "stream",
          "text": [
            "You drew a Jack of Hearts, bringing your total score to 22. Unfortunately, you bust again! The dealer wins.\n"
          ]
        }
      ],
      "source": [
        "response = blackjack_agent.run(\"Okay, sure, let's hit.\", session_id=response.data['session_id'])\n",
        "print(response.data['output'])"
      ]
    }
  ],
  "metadata": {
    "colab": {
      "provenance": []
    },
    "kernelspec": {
      "display_name": "Python 3",
      "name": "python3"
    },
    "language_info": {
      "name": "python"
    }
  },
  "nbformat": 4,
  "nbformat_minor": 0
}
