{
  "nbformat": 4,
  "nbformat_minor": 0,
  "metadata": {
    "colab": {
      "provenance": []
    },
    "kernelspec": {
      "name": "python3",
      "display_name": "Python 3"
    },
    "language_info": {
      "name": "python"
    }
  },
  "cells": [
    {
      "cell_type": "markdown",
      "source": [
        "# Introduction to Agents"
      ],
      "metadata": {
        "id": "o5XNeOYYjJXY"
      }
    },
    {
      "cell_type": "markdown",
      "source": [
        "## Installing Dependencies"
      ],
      "metadata": {
        "id": "Y-WAiDQIpG9V"
      }
    },
    {
      "cell_type": "code",
      "source": [
        "!pip install aixplain"
      ],
      "metadata": {
        "id": "ZfIVFbkc6u4p",
        "colab": {
          "base_uri": "https://localhost:8080/"
        },
        "outputId": "44a46318-a709-45dc-c88f-a0fb03828a58"
      },
      "execution_count": null,
      "outputs": [
        {
          "output_type": "stream",
          "name": "stdout",
          "text": [
            "Collecting aixplain\n",
            "  Downloading aixplain-0.2.28-py3-none-any.whl.metadata (5.1 kB)\n",
            "Requirement already satisfied: requests>=2.1.0 in /usr/local/lib/python3.11/dist-packages (from aixplain) (2.32.3)\n",
            "Requirement already satisfied: tqdm>=4.1.0 in /usr/local/lib/python3.11/dist-packages (from aixplain) (4.67.1)\n",
            "Requirement already satisfied: pandas>=1.2.1 in /usr/local/lib/python3.11/dist-packages (from aixplain) (2.2.2)\n",
            "Collecting python-dotenv>=1.0.0 (from aixplain)\n",
            "  Downloading python_dotenv-1.1.0-py3-none-any.whl.metadata (24 kB)\n",
            "Collecting validators>=0.20.0 (from aixplain)\n",
            "  Downloading validators-0.34.0-py3-none-any.whl.metadata (3.8 kB)\n",
            "Collecting filetype>=1.2.0 (from aixplain)\n",
            "  Downloading filetype-1.2.0-py2.py3-none-any.whl.metadata (6.5 kB)\n",
            "Requirement already satisfied: click>=7.1.2 in /usr/local/lib/python3.11/dist-packages (from aixplain) (8.1.8)\n",
            "Requirement already satisfied: PyYAML>=6.0.1 in /usr/local/lib/python3.11/dist-packages (from aixplain) (6.0.2)\n",
            "Collecting dataclasses-json>=0.5.2 (from aixplain)\n",
            "  Downloading dataclasses_json-0.6.7-py3-none-any.whl.metadata (25 kB)\n",
            "Collecting Jinja2==3.1.4 (from aixplain)\n",
            "  Downloading jinja2-3.1.4-py3-none-any.whl.metadata (2.6 kB)\n",
            "Requirement already satisfied: MarkupSafe>=2.0 in /usr/local/lib/python3.11/dist-packages (from Jinja2==3.1.4->aixplain) (3.0.2)\n",
            "Collecting marshmallow<4.0.0,>=3.18.0 (from dataclasses-json>=0.5.2->aixplain)\n",
            "  Downloading marshmallow-3.26.1-py3-none-any.whl.metadata (7.3 kB)\n",
            "Collecting typing-inspect<1,>=0.4.0 (from dataclasses-json>=0.5.2->aixplain)\n",
            "  Downloading typing_inspect-0.9.0-py3-none-any.whl.metadata (1.5 kB)\n",
            "Requirement already satisfied: numpy>=1.23.2 in /usr/local/lib/python3.11/dist-packages (from pandas>=1.2.1->aixplain) (2.0.2)\n",
            "Requirement already satisfied: python-dateutil>=2.8.2 in /usr/local/lib/python3.11/dist-packages (from pandas>=1.2.1->aixplain) (2.8.2)\n",
            "Requirement already satisfied: pytz>=2020.1 in /usr/local/lib/python3.11/dist-packages (from pandas>=1.2.1->aixplain) (2025.2)\n",
            "Requirement already satisfied: tzdata>=2022.7 in /usr/local/lib/python3.11/dist-packages (from pandas>=1.2.1->aixplain) (2025.2)\n",
            "Requirement already satisfied: charset-normalizer<4,>=2 in /usr/local/lib/python3.11/dist-packages (from requests>=2.1.0->aixplain) (3.4.1)\n",
            "Requirement already satisfied: idna<4,>=2.5 in /usr/local/lib/python3.11/dist-packages (from requests>=2.1.0->aixplain) (3.10)\n",
            "Requirement already satisfied: urllib3<3,>=1.21.1 in /usr/local/lib/python3.11/dist-packages (from requests>=2.1.0->aixplain) (2.3.0)\n",
            "Requirement already satisfied: certifi>=2017.4.17 in /usr/local/lib/python3.11/dist-packages (from requests>=2.1.0->aixplain) (2025.1.31)\n",
            "Requirement already satisfied: packaging>=17.0 in /usr/local/lib/python3.11/dist-packages (from marshmallow<4.0.0,>=3.18.0->dataclasses-json>=0.5.2->aixplain) (24.2)\n",
            "Requirement already satisfied: six>=1.5 in /usr/local/lib/python3.11/dist-packages (from python-dateutil>=2.8.2->pandas>=1.2.1->aixplain) (1.17.0)\n",
            "Collecting mypy-extensions>=0.3.0 (from typing-inspect<1,>=0.4.0->dataclasses-json>=0.5.2->aixplain)\n",
            "  Downloading mypy_extensions-1.1.0-py3-none-any.whl.metadata (1.1 kB)\n",
            "Requirement already satisfied: typing-extensions>=3.7.4 in /usr/local/lib/python3.11/dist-packages (from typing-inspect<1,>=0.4.0->dataclasses-json>=0.5.2->aixplain) (4.13.2)\n",
            "Downloading aixplain-0.2.28-py3-none-any.whl (327 kB)\n",
            "\u001b[2K   \u001b[90m━━━━━━━━━━━━━━━━━━━━━━━━━━━━━━━━━━━━━━━━\u001b[0m \u001b[32m327.3/327.3 kB\u001b[0m \u001b[31m18.7 MB/s\u001b[0m eta \u001b[36m0:00:00\u001b[0m\n",
            "\u001b[?25hDownloading jinja2-3.1.4-py3-none-any.whl (133 kB)\n",
            "\u001b[2K   \u001b[90m━━━━━━━━━━━━━━━━━━━━━━━━━━━━━━━━━━━━━━━━\u001b[0m \u001b[32m133.3/133.3 kB\u001b[0m \u001b[31m10.6 MB/s\u001b[0m eta \u001b[36m0:00:00\u001b[0m\n",
            "\u001b[?25hDownloading dataclasses_json-0.6.7-py3-none-any.whl (28 kB)\n",
            "Downloading filetype-1.2.0-py2.py3-none-any.whl (19 kB)\n",
            "Downloading python_dotenv-1.1.0-py3-none-any.whl (20 kB)\n",
            "Downloading validators-0.34.0-py3-none-any.whl (43 kB)\n",
            "\u001b[2K   \u001b[90m━━━━━━━━━━━━━━━━━━━━━━━━━━━━━━━━━━━━━━━━\u001b[0m \u001b[32m43.5/43.5 kB\u001b[0m \u001b[31m3.2 MB/s\u001b[0m eta \u001b[36m0:00:00\u001b[0m\n",
            "\u001b[?25hDownloading marshmallow-3.26.1-py3-none-any.whl (50 kB)\n",
            "\u001b[2K   \u001b[90m━━━━━━━━━━━━━━━━━━━━━━━━━━━━━━━━━━━━━━━━\u001b[0m \u001b[32m50.9/50.9 kB\u001b[0m \u001b[31m3.8 MB/s\u001b[0m eta \u001b[36m0:00:00\u001b[0m\n",
            "\u001b[?25hDownloading typing_inspect-0.9.0-py3-none-any.whl (8.8 kB)\n",
            "Downloading mypy_extensions-1.1.0-py3-none-any.whl (5.0 kB)\n",
            "Installing collected packages: filetype, validators, python-dotenv, mypy-extensions, marshmallow, Jinja2, typing-inspect, dataclasses-json, aixplain\n",
            "  Attempting uninstall: Jinja2\n",
            "    Found existing installation: Jinja2 3.1.6\n",
            "    Uninstalling Jinja2-3.1.6:\n",
            "      Successfully uninstalled Jinja2-3.1.6\n",
            "\u001b[31mERROR: pip's dependency resolver does not currently take into account all the packages that are installed. This behaviour is the source of the following dependency conflicts.\n",
            "torch 2.6.0+cu124 requires nvidia-cublas-cu12==12.4.5.8; platform_system == \"Linux\" and platform_machine == \"x86_64\", but you have nvidia-cublas-cu12 12.5.3.2 which is incompatible.\n",
            "torch 2.6.0+cu124 requires nvidia-cuda-cupti-cu12==12.4.127; platform_system == \"Linux\" and platform_machine == \"x86_64\", but you have nvidia-cuda-cupti-cu12 12.5.82 which is incompatible.\n",
            "torch 2.6.0+cu124 requires nvidia-cuda-nvrtc-cu12==12.4.127; platform_system == \"Linux\" and platform_machine == \"x86_64\", but you have nvidia-cuda-nvrtc-cu12 12.5.82 which is incompatible.\n",
            "torch 2.6.0+cu124 requires nvidia-cuda-runtime-cu12==12.4.127; platform_system == \"Linux\" and platform_machine == \"x86_64\", but you have nvidia-cuda-runtime-cu12 12.5.82 which is incompatible.\n",
            "torch 2.6.0+cu124 requires nvidia-cudnn-cu12==9.1.0.70; platform_system == \"Linux\" and platform_machine == \"x86_64\", but you have nvidia-cudnn-cu12 9.3.0.75 which is incompatible.\n",
            "torch 2.6.0+cu124 requires nvidia-cufft-cu12==11.2.1.3; platform_system == \"Linux\" and platform_machine == \"x86_64\", but you have nvidia-cufft-cu12 11.2.3.61 which is incompatible.\n",
            "torch 2.6.0+cu124 requires nvidia-curand-cu12==10.3.5.147; platform_system == \"Linux\" and platform_machine == \"x86_64\", but you have nvidia-curand-cu12 10.3.6.82 which is incompatible.\n",
            "torch 2.6.0+cu124 requires nvidia-cusolver-cu12==11.6.1.9; platform_system == \"Linux\" and platform_machine == \"x86_64\", but you have nvidia-cusolver-cu12 11.6.3.83 which is incompatible.\n",
            "torch 2.6.0+cu124 requires nvidia-cusparse-cu12==12.3.1.170; platform_system == \"Linux\" and platform_machine == \"x86_64\", but you have nvidia-cusparse-cu12 12.5.1.3 which is incompatible.\n",
            "torch 2.6.0+cu124 requires nvidia-nvjitlink-cu12==12.4.127; platform_system == \"Linux\" and platform_machine == \"x86_64\", but you have nvidia-nvjitlink-cu12 12.5.82 which is incompatible.\u001b[0m\u001b[31m\n",
            "\u001b[0mSuccessfully installed Jinja2-3.1.4 aixplain-0.2.28 dataclasses-json-0.6.7 filetype-1.2.0 marshmallow-3.26.1 mypy-extensions-1.1.0 python-dotenv-1.1.0 typing-inspect-0.9.0 validators-0.34.0\n"
          ]
        }
      ]
    },
    {
      "cell_type": "code",
      "source": [
        "import os\n",
        "os.environ[\"TEAM_API_KEY\"] = \"YOUR TEAM API KEY HERE\""
      ],
      "metadata": {
        "id": "XRR6ryz3js-Q"
      },
      "execution_count": null,
      "outputs": []
    },
    {
      "cell_type": "markdown",
      "source": [
        "## Creating Model Tools"
      ],
      "metadata": {
        "id": "ral2p0jbjetC"
      }
    },
    {
      "cell_type": "markdown",
      "source": [
        "### By Function"
      ],
      "metadata": {
        "id": "lqi3qVxFpKwj"
      }
    },
    {
      "cell_type": "code",
      "source": [
        "from aixplain.factories import AgentFactory\n",
        "from aixplain.enums import Function, Supplier\n",
        "\n",
        "speech_synthesis_tool = AgentFactory.create_model_tool(\n",
        "    function=Function.SPEECH_SYNTHESIS,\n",
        ")\n",
        "\n",
        "translation_tool = AgentFactory.create_model_tool(\n",
        "    function=Function.TRANSLATION,\n",
        "    supplier=Supplier.MICROSOFT\n",
        ")\n",
        "\n",
        "asr_tool = AgentFactory.create_model_tool(\n",
        "    function=Function.SPEECH_RECOGNITION,\n",
        "    supplier=Supplier.MICROSOFT\n",
        ")"
      ],
      "metadata": {
        "id": "7u30PkLHjXd1"
      },
      "execution_count": null,
      "outputs": []
    },
    {
      "cell_type": "markdown",
      "source": [
        "### By model"
      ],
      "metadata": {
        "id": "ESzvjNSHBAi7"
      }
    },
    {
      "cell_type": "code",
      "source": [
        "search_tool = AgentFactory.create_model_tool(model=\"6736411cf127849667606689\") # Tavily Search"
      ],
      "metadata": {
        "id": "3RdZvMZIA_3O",
        "colab": {
          "base_uri": "https://localhost:8080/"
        },
        "outputId": "d658c750-da08-4a7f-e8ed-161c749a0e7f"
      },
      "execution_count": null,
      "outputs": [
        {
          "output_type": "stream",
          "name": "stderr",
          "text": [
            "/usr/local/lib/python3.11/dist-packages/aixplain/modules/model/utility_model.py:173: UserWarning: WARNING: Non-deployed utility models (status=DRAFT) will expire after 24 hours after creation. Use .deploy() method to make the model permanent.\n",
            "  warnings.warn(\n"
          ]
        }
      ]
    },
    {
      "cell_type": "markdown",
      "source": [
        "## Creating Our First Agent\n",
        "\n",
        "Let's put the tools together into a Movies and Series Agent Specialist"
      ],
      "metadata": {
        "id": "ceBHot1qCd_A"
      }
    },
    {
      "cell_type": "code",
      "source": [
        "INSTRUCTION = \"You are a Movies and Series Agent Specialist. Your role is to answer user queries about movies and series in a fluent and assertive manner. For questions that are not related to movies and series, indicate that you are not a specialist in that area and cannot provide answers.\"\n",
        "\n",
        "DESCRIPTION = \"A Movies and Series Agent Specialist\"\n",
        "\n",
        "agent = AgentFactory.create(\n",
        "    name=\"Movies and Series Agent Specialist\",\n",
        "    tools=[\n",
        "        speech_synthesis_tool,\n",
        "        asr_tool,\n",
        "        translation_tool,\n",
        "        search_tool\n",
        "    ],\n",
        "    description=DESCRIPTION,\n",
        "    instructions=INSTRUCTION,\n",
        ")"
      ],
      "metadata": {
        "id": "GGGzoUnZCm-Q",
        "colab": {
          "base_uri": "https://localhost:8080/"
        },
        "outputId": "e5caec66-1659-4c99-9a06-c442f2dc0e42"
      },
      "execution_count": null,
      "outputs": [
        {
          "output_type": "stream",
          "name": "stderr",
          "text": [
            "/usr/local/lib/python3.11/dist-packages/aixplain/factories/agent_factory/__init__.py:83: UserWarning: The 'instructions' parameter was recently added and serves the same purpose as 'description' did previously: set the role of the agent as a system prompt. The 'description' parameter is still required and should be used to set a short summary of the agent's purpose. For the next releases, the 'instructions' parameter will be required.\n",
            "  warnings.warn(\n"
          ]
        }
      ]
    },
    {
      "cell_type": "markdown",
      "source": [
        "### Running the agent"
      ],
      "metadata": {
        "id": "_gz9vIvbJX2Z"
      }
    },
    {
      "cell_type": "code",
      "source": [
        "response = agent.run(\"In which streaming service can I watch The Sopranos?\")"
      ],
      "metadata": {
        "id": "RluQpStCJVs0"
      },
      "execution_count": null,
      "outputs": []
    },
    {
      "cell_type": "markdown",
      "source": [
        "Understanding the response structure"
      ],
      "metadata": {
        "id": "VoXznQ9bJmuI"
      }
    },
    {
      "cell_type": "code",
      "source": [
        "response.__dict__.keys()"
      ],
      "metadata": {
        "id": "wJUAehYlJhax",
        "colab": {
          "base_uri": "https://localhost:8080/"
        },
        "outputId": "e05b2e0f-4a52-4fa8-8728-d61b874ce585"
      },
      "execution_count": null,
      "outputs": [
        {
          "output_type": "execute_result",
          "data": {
            "text/plain": [
              "dict_keys(['status', 'data', 'details', 'completed', 'error_message', 'used_credits', 'run_time', 'usage', 'url', 'additional_fields'])"
            ]
          },
          "metadata": {},
          "execution_count": 8
        }
      ]
    },
    {
      "cell_type": "code",
      "source": [
        "response.data.__dict__.keys()"
      ],
      "metadata": {
        "colab": {
          "base_uri": "https://localhost:8080/"
        },
        "id": "FBDzcLlqFCKd",
        "outputId": "cb6cbb82-d333-4eb0-8f52-324b34ae28e3"
      },
      "execution_count": null,
      "outputs": [
        {
          "output_type": "execute_result",
          "data": {
            "text/plain": [
              "dict_keys(['input', 'output', 'session_id', 'intermediate_steps', 'execution_stats'])"
            ]
          },
          "metadata": {},
          "execution_count": 9
        }
      ]
    },
    {
      "cell_type": "markdown",
      "source": [
        "Did the execution successfully finish?"
      ],
      "metadata": {
        "id": "kwDST5qCJs7t"
      }
    },
    {
      "cell_type": "code",
      "source": [
        "response.status"
      ],
      "metadata": {
        "id": "Qd20zvUeJ5Dz",
        "colab": {
          "base_uri": "https://localhost:8080/",
          "height": 34
        },
        "outputId": "617dd528-2d21-4d3b-d558-d4ce08023d9b"
      },
      "execution_count": null,
      "outputs": [
        {
          "output_type": "execute_result",
          "data": {
            "text/plain": [
              "<ResponseStatus.SUCCESS: 'SUCCESS'>"
            ],
            "application/vnd.google.colaboratory.intrinsic+json": {
              "type": "string"
            }
          },
          "metadata": {},
          "execution_count": 10
        }
      ]
    },
    {
      "cell_type": "markdown",
      "source": [
        "How long did the agent take to provide the answer (in seconds)?"
      ],
      "metadata": {
        "id": "7g8vGBe4J6ub"
      }
    },
    {
      "cell_type": "code",
      "source": [
        "response.run_time"
      ],
      "metadata": {
        "id": "gqtK5SD2KBTJ",
        "colab": {
          "base_uri": "https://localhost:8080/"
        },
        "outputId": "8b9656bb-4473-46df-a653-3001bb13dd29"
      },
      "execution_count": null,
      "outputs": [
        {
          "output_type": "execute_result",
          "data": {
            "text/plain": [
              "4.672"
            ]
          },
          "metadata": {},
          "execution_count": 11
        }
      ]
    },
    {
      "cell_type": "markdown",
      "source": [
        "How much did it cost?"
      ],
      "metadata": {
        "id": "b6F2hP1BKHFx"
      }
    },
    {
      "cell_type": "code",
      "source": [
        "response.used_credits"
      ],
      "metadata": {
        "id": "HV_1rSD6KJvp",
        "colab": {
          "base_uri": "https://localhost:8080/"
        },
        "outputId": "bbb248cf-34c2-44be-98c9-1833312b2065"
      },
      "execution_count": null,
      "outputs": [
        {
          "output_type": "execute_result",
          "data": {
            "text/plain": [
              "0.00046575"
            ]
          },
          "metadata": {},
          "execution_count": 12
        }
      ]
    },
    {
      "cell_type": "markdown",
      "source": [
        "What was the response?"
      ],
      "metadata": {
        "id": "7sf2TdP0KMxY"
      }
    },
    {
      "cell_type": "code",
      "source": [
        "response.data.output"
      ],
      "metadata": {
        "id": "nu08850OKOkg",
        "colab": {
          "base_uri": "https://localhost:8080/",
          "height": 53
        },
        "outputId": "7f538fe7-f435-4bc6-f818-608af568377b"
      },
      "execution_count": null,
      "outputs": [
        {
          "output_type": "execute_result",
          "data": {
            "text/plain": [
              "'You can watch The Sopranos on HBO Max. It is available for streaming on this service, and you can also find it on Max Amazon Channel. Additionally, you can purchase it on platforms like Apple TV and Amazon Video.'"
            ],
            "application/vnd.google.colaboratory.intrinsic+json": {
              "type": "string"
            }
          },
          "metadata": {},
          "execution_count": 13
        }
      ]
    },
    {
      "cell_type": "markdown",
      "source": [
        "How did the agent get into this response?"
      ],
      "metadata": {
        "id": "gqMaTi8IKQhD"
      }
    },
    {
      "cell_type": "code",
      "source": [
        "response.data.intermediate_steps"
      ],
      "metadata": {
        "id": "EBixCKHsKT31",
        "colab": {
          "base_uri": "https://localhost:8080/"
        },
        "outputId": "126b11ee-4e18-4cf0-c2af-784643d81e8b"
      },
      "execution_count": null,
      "outputs": [
        {
          "output_type": "execute_result",
          "data": {
            "text/plain": [
              "[{'agent': 'Movies and Series Agent Specialist',\n",
              "  'input': \"{'input': 'In which streaming service can I watch The Sopranos?', 'chat_history': [], 'outputFormat': 'text'}\",\n",
              "  'output': 'You can watch The Sopranos on HBO Max. It is available for streaming on this service, and you can also find it on Max Amazon Channel. Additionally, you can purchase it on platforms like Apple TV and Amazon Video.',\n",
              "  'tool_steps': [{'tool': 'Tavily Search API',\n",
              "    'input': \"{'query': 'The Sopranos streaming service'}\",\n",
              "    'output': '[\"As you\\'d expect of an HBO show, every season of The Sopranos is available to stream on the network\\'s HBO Max service in the US.. It has an affordable monthly price tag of $14.99, and your money\", \\'Currently available on 5 streaming services. The Sopranos (1999) 212. +7. 95%. 9.2 (521k) TV-MA . Age rating. 55min. Where to watch Watch for free Episodes Synopsis Trailers Similar titles . 6 Seasons . ... Currently you are able to watch \"The Sopranos\" streaming on Max, Max Amazon Channel or buy it as download on Apple TV, Amazon Video\\', \\'Luckily, you have a few options. As mentioned above, HBO Max might be the easiest way to stream all of your HBO favorites. You can watch the service through your phone, computer, or enjoy all the action on your TV. DIRECTV STREAM also offer The Sopranos on-demand. Here is a cost breakdown of each option:\\', \"Watch The Sopranos and other popular TV shows and movies including new releases, classics, Hulu Originals, and more. It\\'s all on Hulu. ... Savings compared to regular monthly price of each service. Save 42% per month with a Disney+, Hulu, Max Bundle. Plans start at $16.99/mo. ... Stream every touchdown from every game, every Sunday during the\", \"You can currently stream all six seasons of The Sopranos on Max (formerly known as HBO Max). Plus, its 2021 spinoff film The Many Saints of Newark — which stars Gandolfini\\'s son,\", \\'Stream the HBO Original series The Sopranos on Max. Sign up for hit movies, fresh originals, family favorites, and more starting at $9.99/month. ... Save your seat for a screening of the pilot episode of The Sopranos at Alamo Drafthouse in New York City and Los Angeles on January 10. Join fellow fans in reliving the unforgettable series with\\', \\'STREAM Now: SOPRANOS ON MAX $9.99/Month The show, which ran for eight seasons from 1999 to 2007, is celebrating its 25th anniversary this week with an array of events for the iconic franchise.\\', \"Stream It Or Skip It: \\'Wise Guy: David Chase And The Sopranos\\' On HBO, Where Chase Discusses His Life And How Much It Contributed To The Landmark Series By Joel Keller • Sep. 7, 2024, 3:00 p.m. ET\", \\'The Sopranos takes a realistic, darkly humorous look at members of a suburban New Jersey family, whose patriarch Tony Soprano happens to be a mob boss. James Gandolfini stars as the gangster whose stressed-out life forces him to seek therapy.\\', \\'1942-2022 Remembering Tony Sirico. Tony Sirico was a tremendous, one-of-a-kind talent. On The Sopranos, his legendary performance as the unwavering \"Paulie Walnuts\" cemented him as an icon, beloved for his one-liners and steadfast devotion.He will be sorely missed by the HBO family.\\']'}],\n",
              "  'thought': None,\n",
              "  'runTime': 4.672,\n",
              "  'usedCredits': 0.00046575,\n",
              "  'apiCalls': 2,\n",
              "  'task': None}]"
            ]
          },
          "metadata": {},
          "execution_count": 14
        }
      ]
    },
    {
      "cell_type": "code",
      "source": [
        "response.data.execution_stats"
      ],
      "metadata": {
        "colab": {
          "base_uri": "https://localhost:8080/"
        },
        "id": "b4oDEDKUEud5",
        "outputId": "371a24a6-6816-415e-e75f-f2d0837be066"
      },
      "execution_count": null,
      "outputs": [
        {
          "output_type": "execute_result",
          "data": {
            "text/plain": [
              "{'status': 'SUCCESS',\n",
              " 'apiCalls': 2,\n",
              " 'credits': 0.00046575,\n",
              " 'runtime': 4.672,\n",
              " 'apiCallBreakdown': {'Movies and Series Agent Specialist': 2},\n",
              " 'runtimeBreakdown': {'Movies and Series Agent Specialist': 4.672},\n",
              " 'creditBreakdown': {'Movies and Series Agent Specialist': 0.00046575},\n",
              " 'sessionId': '125dd7cd-9067-4212-809a-338e3d835418',\n",
              " 'environment': 'prod',\n",
              " 'assetsUsed': ['agent:Movies and Series Agent Specialist',\n",
              "  'tool:Tavily Search API'],\n",
              " 'timeStamp': '2025-04-22 16:23:17.325081',\n",
              " 'params': {'id': '6807c270d64b9d273fbd5b7b',\n",
              "  'sessionId': '125dd7cd-9067-4212-809a-338e3d835418'}}"
            ]
          },
          "metadata": {},
          "execution_count": 15
        }
      ]
    },
    {
      "cell_type": "markdown",
      "source": [
        "### Follow-up Question\n",
        "\n",
        "You can get the session ID of the first response and fed it into the following queries of the conversation."
      ],
      "metadata": {
        "id": "AurpWfivKhjI"
      }
    },
    {
      "cell_type": "code",
      "source": [
        "session_id = response.data.session_id\n",
        "\n",
        "followup_response = agent.run(\"What is the TV show about?\", session_id=session_id)"
      ],
      "metadata": {
        "id": "KrAr463wKkAc"
      },
      "execution_count": null,
      "outputs": []
    },
    {
      "cell_type": "code",
      "source": [
        "print(followup_response.data.output)"
      ],
      "metadata": {
        "id": "1dE4ebJGLAwk",
        "colab": {
          "base_uri": "https://localhost:8080/"
        },
        "outputId": "1a91d923-e4bb-4cf5-eaed-9ab5ee529c13"
      },
      "execution_count": null,
      "outputs": [
        {
          "output_type": "stream",
          "name": "stdout",
          "text": [
            "The Sopranos is a crime drama television series that follows the life of mob boss Tony Soprano as he navigates the challenges of leading a criminal organization while dealing with personal and family issues. The show explores themes of power, loyalty, and the psychological struggles of its characters.\n"
          ]
        }
      ]
    },
    {
      "cell_type": "code",
      "source": [
        "followup_response.data.intermediate_steps"
      ],
      "metadata": {
        "id": "u9lmOPxnLhQt",
        "colab": {
          "base_uri": "https://localhost:8080/"
        },
        "outputId": "6918dd03-f1f7-4f1c-a059-b41290feb123"
      },
      "execution_count": null,
      "outputs": [
        {
          "output_type": "execute_result",
          "data": {
            "text/plain": [
              "[{'agent': 'Movies and Series Agent Specialist',\n",
              "  'input': \"{'input': 'What is the TV show about?', 'chat_history': [HumanMessage(content='In which streaming service can I watch The Sopranos?'), AIMessage(content='You can watch The Sopranos on HBO Max. It is available for streaming on this service, and you can also find it on Max Amazon Channel. Additionally, you can purchase it on platforms like Apple TV and Amazon Video.')], 'outputFormat': 'text'}\",\n",
              "  'output': 'The Sopranos is a crime drama television series that follows the life of mob boss Tony Soprano as he navigates the challenges of leading a criminal organization while dealing with personal and family issues. The show explores themes of power, loyalty, and the psychological struggles of its characters.',\n",
              "  'tool_steps': [],\n",
              "  'thought': None,\n",
              "  'runTime': 1.648,\n",
              "  'usedCredits': 0.0002025,\n",
              "  'apiCalls': 1,\n",
              "  'task': None}]"
            ]
          },
          "metadata": {},
          "execution_count": 18
        }
      ]
    },
    {
      "cell_type": "markdown",
      "source": [
        "### Questions with files"
      ],
      "metadata": {
        "id": "0LsYjL3sMn5f"
      }
    },
    {
      "cell_type": "code",
      "source": [
        "response = agent.run(\"Respond to the question in the audio: \", content=[\"best_movie.mp3\"])"
      ],
      "metadata": {
        "id": "Oy78T65jMrEn"
      },
      "execution_count": null,
      "outputs": []
    },
    {
      "cell_type": "code",
      "source": [
        "print(response.data.output)"
      ],
      "metadata": {
        "id": "qanKm-vWM-wb",
        "colab": {
          "base_uri": "https://localhost:8080/"
        },
        "outputId": "13cb8af2-c5d6-478b-a292-3686a94a1b09"
      },
      "execution_count": null,
      "outputs": [
        {
          "output_type": "stream",
          "name": "stdout",
          "text": [
            "The best drama movie of all time is often considered to be 'The Godfather' directed by Francis Ford Coppola. It has received critical acclaim and is a classic in the genre.\n"
          ]
        }
      ]
    },
    {
      "cell_type": "code",
      "source": [
        "response.data.intermediate_steps"
      ],
      "metadata": {
        "id": "MoqqnyZ2Nwir",
        "colab": {
          "base_uri": "https://localhost:8080/"
        },
        "outputId": "a764a52d-1211-4a23-a63c-200fe5a8ec06"
      },
      "execution_count": null,
      "outputs": [
        {
          "output_type": "execute_result",
          "data": {
            "text/plain": [
              "[{'agent': 'Movies and Series Agent Specialist',\n",
              "  'input': \"{'input': 'Respond to the question in the audio: \\\\ns3://aixplain-platform-backend-temp/1581/sdk/1745339016144-best_movie.mp3', 'chat_history': [], 'outputFormat': 'text'}\",\n",
              "  'output': \"The best drama movie of all time is often considered to be 'The Godfather' directed by Francis Ford Coppola. It has received critical acclaim and is a classic in the genre.\",\n",
              "  'tool_steps': [{'tool': 'Speech Recognition',\n",
              "    'input': \"{'language': 'en', 'source_audio': 's3://aixplain-platform-backend-temp/1581/sdk/1745339016144-best_movie.mp3'}\",\n",
              "    'output': 'What is the best drama movie of all time?'}],\n",
              "  'thought': None,\n",
              "  'runTime': 58.417,\n",
              "  'usedCredits': 0.00039015,\n",
              "  'apiCalls': 2,\n",
              "  'task': None}]"
            ]
          },
          "metadata": {},
          "execution_count": 21
        }
      ]
    },
    {
      "cell_type": "markdown",
      "source": [
        "Other form"
      ],
      "metadata": {
        "id": "XOfbn60PAV1f"
      }
    },
    {
      "cell_type": "code",
      "source": [
        "response = agent.run(\"Process the audio: {{audio}}\", content={\n",
        "    \"audio\": \"best_movie.mp3\"\n",
        "})\n",
        "response.data.output"
      ],
      "metadata": {
        "id": "5NaBBvtDAXlo",
        "colab": {
          "base_uri": "https://localhost:8080/",
          "height": 36
        },
        "outputId": "a380229a-62bf-4ba1-f82b-697fadb3a756"
      },
      "execution_count": null,
      "outputs": [
        {
          "output_type": "execute_result",
          "data": {
            "text/plain": [
              "\"The best drama movie of all time is often considered to be 'The Godfather'.\""
            ],
            "application/vnd.google.colaboratory.intrinsic+json": {
              "type": "string"
            }
          },
          "metadata": {},
          "execution_count": 22
        }
      ]
    },
    {
      "cell_type": "markdown",
      "source": [
        "## Creating Pipeline Tools"
      ],
      "metadata": {
        "id": "0pmm8PiRkiRF"
      }
    },
    {
      "cell_type": "markdown",
      "source": [
        "Creating a 'Movie Script Writer' pipeline"
      ],
      "metadata": {
        "id": "myDHkWPLhSw9"
      }
    },
    {
      "cell_type": "code",
      "source": [
        "from aixplain.factories import PipelineFactory\n",
        "\n",
        "for pipeline in PipelineFactory.list(query=\"Movie Script Writer\")[\"results\"]:\n",
        "  pipeline.delete()\n",
        "\n",
        "pipeline = PipelineFactory.init('Movie Script Writer')\n",
        "input_node = pipeline.input()\n",
        "input_node.label = \"MovieDecriptionInput\"\n",
        "\n",
        "text_generation_node = pipeline.text_generation(asset_id=\"669a63646eb56306647e1091\")\n",
        "text_generation_node.inputs.prompt.value = \"Write the script for 2 minutes short movie based on the following description: \"\n",
        "text_generation_node.inputs.max_tokens = 4000\n",
        "\n",
        "input_node.link(text_generation_node, 'input', text_generation_node.inputs.text)\n",
        "\n",
        "output_node = text_generation_node.use_output('data')\n",
        "\n",
        "pipeline.save(save_as_asset=True)"
      ],
      "metadata": {
        "id": "0adbzL5kg_Gl"
      },
      "execution_count": null,
      "outputs": []
    },
    {
      "cell_type": "markdown",
      "source": [
        "Registering the pipeline as a tool"
      ],
      "metadata": {
        "id": "bRWdOTbfhW1V"
      }
    },
    {
      "cell_type": "code",
      "source": [
        "pipeline = PipelineFactory.get(pipeline.id)\n",
        "\n",
        "pipeline_tool = AgentFactory.create_pipeline_tool(\n",
        "    pipeline=pipeline.id,\n",
        "    description=\"A tool to write scripts based on a short movie description\"\n",
        ")"
      ],
      "metadata": {
        "id": "ubxCEXh5u5TL"
      },
      "execution_count": null,
      "outputs": []
    },
    {
      "cell_type": "markdown",
      "source": [
        "Updating the agent with the new pipeline tool"
      ],
      "metadata": {
        "id": "0hwbuT6uhZ6s"
      }
    },
    {
      "cell_type": "code",
      "source": [
        "agent.tools.append(pipeline_tool)\n",
        "agent.save()"
      ],
      "metadata": {
        "id": "n4fnQNBuhMd0"
      },
      "execution_count": null,
      "outputs": []
    },
    {
      "cell_type": "code",
      "source": [
        "INPUT = \"\"\"I want to write a movie for kids about the chicken 'Jiji'.  This is the summary:\n",
        "\n",
        "Jiji is sad due to her main dream is to be a super hero and defend her siblings against the bad foxes that comes at night in the farm.\n",
        "However, she thinks chickens will never become a super hero.\n",
        "The movie may show the transition of 'Jiji' from a sad chicken to a super-hero one.\n",
        "\n",
        "Can you please write this script and depict it to me?\"\"\"\n",
        "\n",
        "response = agent.run(INPUT)"
      ],
      "metadata": {
        "id": "5rngKEY2hR2M"
      },
      "execution_count": null,
      "outputs": []
    },
    {
      "cell_type": "code",
      "source": [
        "print(response.data.output)"
      ],
      "metadata": {
        "id": "yEr5n6Imjsgn",
        "colab": {
          "base_uri": "https://localhost:8080/"
        },
        "outputId": "5a62d071-6139-46d5-d292-23e139b1adf5"
      },
      "execution_count": null,
      "outputs": [
        {
          "output_type": "stream",
          "name": "stdout",
          "text": [
            "Here is the script for your movie 'Jiji the Super Chicken':\n",
            "\n",
            "**Title: Jiji the Super Chicken**\n",
            "\n",
            "**FADE IN:**\n",
            "\n",
            "**EXT. FARM - SUNSET**\n",
            "\n",
            "*The sun sets over a peaceful farm. The camera pans down to reveal a small chicken coop. Inside, we see a sad-looking chicken, JIJI, sitting alone in a corner, her feathers ruffled.*\n",
            "\n",
            "**NARRATOR (V.O.)**  \n",
            "In a quiet farm, there lived a little chicken named Jiji. While her siblings clucked and played, Jiji felt a heavy weight in her heart.\n",
            "\n",
            "*Jiji watches her siblings play, but she looks away, her eyes filled with longing.*\n",
            "\n",
            "**JIJI**  \n",
            "(whispering to herself)  \n",
            "If only I could be brave... If only I could protect them from the bad foxes.\n",
            "\n",
            "**EXT. FARM - NIGHT**\n",
            "\n",
            "*The moon rises, casting a silver glow over the farm. Jiji’s siblings are asleep, but Jiji is wide awake, peering out of the coop.*\n",
            "\n",
            "**NARRATOR (V.O.)**  \n",
            "Every night, the shadows of danger crept closer, and Jiji’s heart ached with fear.\n",
            "\n",
            "*Suddenly, a rustling sound is heard. Jiji’s eyes widen as she spots a sly FOX lurking near the coop.*\n",
            "\n",
            "**JIJI**  \n",
            "(panicking)  \n",
            "No! Not again!\n",
            "\n",
            "*The fox sniffs around, looking for a way in. Jiji’s siblings stir, but Jiji knows she must act.*\n",
            "\n",
            "**JIJI**  \n",
            "(whispering)  \n",
            "I can’t let them get hurt...\n",
            "\n",
            "*Jiji takes a deep breath, her heart racing. She steps out of the coop, her tiny wings flapping nervously.*\n",
            "\n",
            "**EXT. FARM - MOMENTS LATER**\n",
            "\n",
            "*Jiji stands tall, trying to muster courage. She spots a nearby SHOVEL and picks it up with her beak.*\n",
            "\n",
            "**JIJI**  \n",
            "(to herself)  \n",
            "I may be small, but I can be strong!\n",
            "\n",
            "*The fox turns, surprised to see Jiji standing defiantly.*\n",
            "\n",
            "**FOX**  \n",
            "(smirking)  \n",
            "What do we have here? A little chicken trying to be a hero?\n",
            "\n",
            "**JIJI**  \n",
            "(firmly)  \n",
            "You won’t hurt my family! \n",
            "\n",
            "*The fox laughs, but Jiji raises the shovel high, her determination shining through.*\n",
            "\n",
            "**JIJI**  \n",
            "(voice trembling but strong)  \n",
            "Leave now, or face the consequences!\n",
            "\n",
            "*The fox, taken aback by her bravery, hesitates. Jiji takes a step forward, her wings spread wide.*\n",
            "\n",
            "**JIJI**  \n",
            "(raising the shovel)  \n",
            "I’m not afraid of you!\n",
            "\n",
            "*The fox, realizing he’s outmatched by Jiji’s courage, backs away slowly.*\n",
            "\n",
            "**FOX**  \n",
            "(sneering)  \n",
            "You’re lucky this time, chicken. But I’ll be back!\n",
            "\n",
            "*The fox scurries off into the night. Jiji stands tall, breathing heavily but proud.*\n",
            "\n",
            "**EXT. FARM - DAWN**\n",
            "\n",
            "*The sun rises, casting a warm glow over the farm. Jiji returns to the coop, where her siblings are waking up.*\n",
            "\n",
            "**SIBLING CHICKEN 1**  \n",
            "(sleepily)  \n",
            "What happened, Jiji?\n",
            "\n",
            "**JIJI**  \n",
            "(smiling)  \n",
            "I protected us. I’m not just a chicken; I’m a superhero!\n",
            "\n",
            "*Her siblings cheer, surrounding her with love and admiration.*\n",
            "\n",
            "**SIBLING CHICKEN 2**  \n",
            "You’re our hero, Jiji!\n",
            "\n",
            "**NARRATOR (V.O.)**  \n",
            "And so, Jiji discovered her inner strength, proving that even the smallest among us can be the mightiest of heroes.\n",
            "\n",
            "**FADE OUT.**\n",
            "\n",
            "**TEXT ON SCREEN:**  \n",
            "“Believe in yourself, and you can be a hero too.”\n",
            "\n",
            "**THE END.**\n"
          ]
        }
      ]
    },
    {
      "cell_type": "code",
      "source": [
        "response.data.intermediate_steps"
      ],
      "metadata": {
        "colab": {
          "base_uri": "https://localhost:8080/"
        },
        "id": "wraInNAhITS7",
        "outputId": "66874758-a11c-42ba-f8da-c4edc784c2cb"
      },
      "execution_count": null,
      "outputs": [
        {
          "output_type": "execute_result",
          "data": {
            "text/plain": [
              "[{'agent': 'Movies and Series Agent Specialist',\n",
              "  'input': '{\\'input\\': \"I want to write a movie for kids about the chicken \\'Jiji\\'.  This is the summary:\\\\n\\\\nJiji is sad due to her main dream is to be a super hero and defend her siblings against the bad foxes that comes at night in the farm.\\\\nHowever, she thinks chickens will never become a super hero.\\\\nThe movie may show the transition of \\'Jiji\\' from a sad chicken to a super-hero one.\\\\n\\\\nCan you please write this script and depict it to me?\", \\'chat_history\\': [], \\'outputFormat\\': \\'text\\'}',\n",
              "  'output': \"Here is the script for your movie 'Jiji the Super Chicken':\\n\\n**Title: Jiji the Super Chicken**\\n\\n**FADE IN:**\\n\\n**EXT. FARM - SUNSET**\\n\\n*The sun sets over a peaceful farm. The camera pans down to reveal a small chicken coop. Inside, we see a sad-looking chicken, JIJI, sitting alone in a corner, her feathers ruffled.*\\n\\n**NARRATOR (V.O.)**  \\nIn a quiet farm, there lived a little chicken named Jiji. While her siblings clucked and played, Jiji felt a heavy weight in her heart.\\n\\n*Jiji watches her siblings play, but she looks away, her eyes filled with longing.*\\n\\n**JIJI**  \\n(whispering to herself)  \\nIf only I could be brave... If only I could protect them from the bad foxes.\\n\\n**EXT. FARM - NIGHT**\\n\\n*The moon rises, casting a silver glow over the farm. Jiji’s siblings are asleep, but Jiji is wide awake, peering out of the coop.*\\n\\n**NARRATOR (V.O.)**  \\nEvery night, the shadows of danger crept closer, and Jiji’s heart ached with fear.\\n\\n*Suddenly, a rustling sound is heard. Jiji’s eyes widen as she spots a sly FOX lurking near the coop.*\\n\\n**JIJI**  \\n(panicking)  \\nNo! Not again!\\n\\n*The fox sniffs around, looking for a way in. Jiji’s siblings stir, but Jiji knows she must act.*\\n\\n**JIJI**  \\n(whispering)  \\nI can’t let them get hurt...\\n\\n*Jiji takes a deep breath, her heart racing. She steps out of the coop, her tiny wings flapping nervously.*\\n\\n**EXT. FARM - MOMENTS LATER**\\n\\n*Jiji stands tall, trying to muster courage. She spots a nearby SHOVEL and picks it up with her beak.*\\n\\n**JIJI**  \\n(to herself)  \\nI may be small, but I can be strong!\\n\\n*The fox turns, surprised to see Jiji standing defiantly.*\\n\\n**FOX**  \\n(smirking)  \\nWhat do we have here? A little chicken trying to be a hero?\\n\\n**JIJI**  \\n(firmly)  \\nYou won’t hurt my family! \\n\\n*The fox laughs, but Jiji raises the shovel high, her determination shining through.*\\n\\n**JIJI**  \\n(voice trembling but strong)  \\nLeave now, or face the consequences!\\n\\n*The fox, taken aback by her bravery, hesitates. Jiji takes a step forward, her wings spread wide.*\\n\\n**JIJI**  \\n(raising the shovel)  \\nI’m not afraid of you!\\n\\n*The fox, realizing he’s outmatched by Jiji’s courage, backs away slowly.*\\n\\n**FOX**  \\n(sneering)  \\nYou’re lucky this time, chicken. But I’ll be back!\\n\\n*The fox scurries off into the night. Jiji stands tall, breathing heavily but proud.*\\n\\n**EXT. FARM - DAWN**\\n\\n*The sun rises, casting a warm glow over the farm. Jiji returns to the coop, where her siblings are waking up.*\\n\\n**SIBLING CHICKEN 1**  \\n(sleepily)  \\nWhat happened, Jiji?\\n\\n**JIJI**  \\n(smiling)  \\nI protected us. I’m not just a chicken; I’m a superhero!\\n\\n*Her siblings cheer, surrounding her with love and admiration.*\\n\\n**SIBLING CHICKEN 2**  \\nYou’re our hero, Jiji!\\n\\n**NARRATOR (V.O.)**  \\nAnd so, Jiji discovered her inner strength, proving that even the smallest among us can be the mightiest of heroes.\\n\\n**FADE OUT.**\\n\\n**TEXT ON SCREEN:**  \\n“Believe in yourself, and you can be a hero too.”\\n\\n**THE END.**\",\n",
              "  'tool_steps': [{'tool': 'Movie Script Writer',\n",
              "    'input': '{}',\n",
              "    'output': \"The output of the pipeline is:\\nOUTPUT(ID=2): Error fetching URL: Invalid URL '': No scheme supplied. Perhaps you meant https://?\"},\n",
              "   {'tool': 'Movie Script Writer',\n",
              "    'input': '{}',\n",
              "    'output': \"The output of the pipeline is:\\nOUTPUT(ID=2): Error fetching URL: Invalid URL '': No scheme supplied. Perhaps you meant https://?\"},\n",
              "   {'tool': 'Movie Script Writer',\n",
              "    'input': '{}',\n",
              "    'output': \"The output of the pipeline is:\\nOUTPUT(ID=2): Error fetching URL: Invalid URL '': No scheme supplied. Perhaps you meant https://?\"},\n",
              "   {'tool': 'Movie Script Writer',\n",
              "    'input': '{}',\n",
              "    'output': \"The output of the pipeline is:\\nOUTPUT(ID=2): Error fetching URL: Invalid URL '': No scheme supplied. Perhaps you meant https://?\"},\n",
              "   {'tool': 'Movie Script Writer',\n",
              "    'input': '{}',\n",
              "    'output': \"The output of the pipeline is:\\nOUTPUT(ID=2): Error fetching URL: Invalid URL '': No scheme supplied. Perhaps you meant https://?\"},\n",
              "   {'tool': 'Movie Script Writer',\n",
              "    'input': \"{'query': {'value': {'title': 'Jiji the Super Chicken', 'summary': 'Jiji is a sad chicken who dreams of becoming a superhero to protect her siblings from the bad foxes that come at night on the farm. The story follows her journey from feeling hopeless to discovering her inner strength and becoming the hero she always wanted to be.'}, 'nodeId': 'query'}}\",\n",
              "    'output': 'The output of the pipeline is:\\nOUTPUT(ID=2): **Title: Jiji the Super Chicken**\\n\\n**FADE IN:**\\n\\n**EXT. FARM - SUNSET**\\n\\n*The sun sets over a peaceful farm. The camera pans down to reveal a small chicken coop. Inside, we see a sad-looking chicken, JIJI, sitting alone in a corner, her feathers ruffled.*\\n\\n**NARRATOR (V.O.)**  \\nIn a quiet farm, there lived a little chicken named Jiji. While her siblings clucked and played, Jiji felt a heavy weight in her heart.\\n\\n*Jiji watches her siblings play, but she looks away, her eyes filled with longing.*\\n\\n**JIJI**  \\n(whispering to herself)  \\nIf only I could be brave... If only I could protect them from the bad foxes.\\n\\n**EXT. FARM - NIGHT**\\n\\n*The moon rises, casting a silver glow over the farm. Jiji’s siblings are asleep, but Jiji is wide awake, peering out of the coop.*\\n\\n**NARRATOR (V.O.)**  \\nEvery night, the shadows of danger crept closer, and Jiji’s heart ached with fear.\\n\\n*Suddenly, a rustling sound is heard. Jiji’s eyes widen as she spots a sly FOX lurking near the coop.*\\n\\n**JIJI**  \\n(panicking)  \\nNo! Not again!\\n\\n*The fox sniffs around, looking for a way in. Jiji’s siblings stir, but Jiji knows she must act.*\\n\\n**JIJI**  \\n(whispering)  \\nI can’t let them get hurt...\\n\\n*Jiji takes a deep breath, her heart racing. She steps out of the coop, her tiny wings flapping nervously.*\\n\\n**EXT. FARM - MOMENTS LATER**\\n\\n*Jiji stands tall, trying to muster courage. She spots a nearby SHOVEL and picks it up with her beak.*\\n\\n**JIJI**  \\n(to herself)  \\nI may be small, but I can be strong!\\n\\n*The fox turns, surprised to see Jiji standing defiantly.*\\n\\n**FOX**  \\n(smirking)  \\nWhat do we have here? A little chicken trying to be a hero?\\n\\n**JIJI**  \\n(firmly)  \\nYou won’t hurt my family! \\n\\n*The fox laughs, but Jiji raises the shovel high, her determination shining through.*\\n\\n**JIJI**  \\n(voice trembling but strong)  \\nLeave now, or face the consequences!\\n\\n*The fox, taken aback by her bravery, hesitates. Jiji takes a step forward, her wings spread wide.*\\n\\n**JIJI**  \\n(raising the shovel)  \\nI’m not afraid of you!\\n\\n*The fox, realizing he’s outmatched by Jiji’s courage, backs away slowly.*\\n\\n**FOX**  \\n(sneering)  \\nYou’re lucky this time, chicken. But I’ll be back!\\n\\n*The fox scurries off into the night. Jiji stands tall, breathing heavily but proud.*\\n\\n**EXT. FARM - DAWN**\\n\\n*The sun rises, casting a warm glow over the farm. Jiji returns to the coop, where her siblings are waking up.*\\n\\n**SIBLING CHICKEN 1**  \\n(sleepily)  \\nWhat happened, Jiji?\\n\\n**JIJI**  \\n(smiling)  \\nI protected us. I’m not just a chicken; I’m a superhero!\\n\\n*Her siblings cheer, surrounding her with love and admiration.*\\n\\n**SIBLING CHICKEN 2**  \\nYou’re our hero, Jiji!\\n\\n**NARRATOR (V.O.)**  \\nAnd so, Jiji discovered her inner strength, proving that even the smallest among us can be the mightiest of heroes.\\n\\n**FADE OUT.**\\n\\n**TEXT ON SCREEN:**  \\n“Believe in yourself, and you can be a hero too.”\\n\\n**THE END.**'}],\n",
              "  'thought': None,\n",
              "  'runTime': 43.006,\n",
              "  'usedCredits': 0.00225705,\n",
              "  'apiCalls': 7,\n",
              "  'task': None}]"
            ]
          },
          "metadata": {},
          "execution_count": 28
        }
      ]
    },
    {
      "cell_type": "markdown",
      "source": [
        "## Utility Tools\n",
        "\n",
        "Is there an utlity missing in our platform that you need to build your agent? No problem! You can onboard it!\n",
        "\n",
        "Let's onboard the search API of [The Movie Database](https://www.themoviedb.org/)"
      ],
      "metadata": {
        "id": "cdVnkNBrk9ev"
      }
    },
    {
      "cell_type": "code",
      "source": [
        "def main(start_location: str, end_location: str):\n",
        "    \"\"\"\n",
        "    Get transport directions from start_location to end_location\n",
        "    \"\"\"\n",
        "    import os\n",
        "    try:\n",
        "        import googlemaps\n",
        "    except:\n",
        "        os.system(\"pip install googlemaps\")\n",
        "        import googlemaps\n",
        "    import json\n",
        "    from datetime import datetime\n",
        "\n",
        "    # Set up your Google Maps API key\n",
        "    API_KEY = 'YOUR GOOGLE MAPS KEY HERE'  # Replace with your actual API key\n",
        "\n",
        "    # Initialize the Google Maps client\n",
        "    gmaps = googlemaps.Client(key=API_KEY)\n",
        "\n",
        "    # Request directions\n",
        "    now = datetime.now()\n",
        "    directions_result = gmaps.directions(\n",
        "        start_location,\n",
        "        end_location,\n",
        "        # mode=\"transit\",  # Use \"transit\" for public transport\n",
        "        mode=\"driving\",  # Use \"transit\" for public transport\n",
        "        departure_time=now\n",
        "    )\n",
        "\n",
        "    try:\n",
        "        directions = []\n",
        "        # Output the directions\n",
        "        for step in directions_result[0]['legs'][0]['steps']:\n",
        "            directions.append({\n",
        "                \"instructions\": step['html_instructions'],\n",
        "                \"duration\": step['duration']['text'],\n",
        "                \"distance\": step['distance']['text']\n",
        "            })\n",
        "        directions = json.dumps(directions)\n",
        "    except:\n",
        "        directions = \"No directions found. Please check your input.\"\n",
        "    return directions"
      ],
      "metadata": {
        "id": "k6aoW3aKk_kd"
      },
      "execution_count": null,
      "outputs": []
    },
    {
      "cell_type": "code",
      "source": [
        "from aixplain.enums import DataType\n",
        "from aixplain.factories import ModelFactory\n",
        "from aixplain.modules.model.utility_model import UtilityModelInput\n",
        "\n",
        "utility_model = ModelFactory.create_utility_model(\n",
        "    name=\"Google Maps instructions\",\n",
        "    code=main,\n",
        "    output_examples=\"Driving example\"\n",
        ")"
      ],
      "metadata": {
        "id": "PkSvZMClmkyE"
      },
      "execution_count": null,
      "outputs": []
    },
    {
      "cell_type": "code",
      "source": [
        "google_maps_tool = AgentFactory.create_model_tool(model=utility_model.id)"
      ],
      "metadata": {
        "id": "EgXAoXqsm1sj"
      },
      "execution_count": null,
      "outputs": []
    },
    {
      "cell_type": "code",
      "source": [
        "google_places_tool = AgentFactory.create_model_tool(model=\"66f6ac496eb563510e3503d1\")"
      ],
      "metadata": {
        "id": "jpXXvz_sm__K"
      },
      "execution_count": null,
      "outputs": []
    },
    {
      "cell_type": "code",
      "source": [
        "agent.tools.extend([\n",
        "    google_maps_tool,\n",
        "    google_places_tool\n",
        "])\n",
        "agent.save()"
      ],
      "metadata": {
        "id": "kN2TDEcZmr1V"
      },
      "execution_count": null,
      "outputs": []
    },
    {
      "cell_type": "code",
      "source": [
        "response = agent.run(\"What are cinemas near Joinville? How can I get in one of them from Art Museum of Joinville?\")"
      ],
      "metadata": {
        "id": "51_hrjrPnNCs"
      },
      "execution_count": null,
      "outputs": []
    },
    {
      "cell_type": "code",
      "source": [
        "print(response.data.output)"
      ],
      "metadata": {
        "id": "jJWob0l4nX5P",
        "colab": {
          "base_uri": "https://localhost:8080/"
        },
        "outputId": "3112244a-2731-4aec-f78f-00664641ec53"
      },
      "execution_count": null,
      "outputs": [
        {
          "output_type": "stream",
          "name": "stdout",
          "text": [
            "There are several cinemas near Joinville, including: \n",
            "1. GNC Cinemas - Shopping Garten, located at Av. Rolf Wiest, 333 - Bom Retiro, Joinville - SC, 89223-005, Brazil. \n",
            "2. Cine Uniplex Shopping Cidade das Flores - Joinville, located at R. Mário Lobo, 106 - Centro, Joinville - SC, 89201-330, Brazil. \n",
            "3. GNC Cinemas - Shopping Mueller Joinville, located at Shopping Mueller Joinville, R. Sen. Felipe Schmidt, s/n - Centro, Joinville - SC, 89201-420, Brazil. \n",
            "\n",
            "To get to GNC Cinemas - Shopping Garten from the Art Museum of Joinville, follow these directions: \n",
            "1. Head north on Av. Juscelino Kubitscheck toward Av. Juscelino Kubitscheck (0.4 km, 1 min). \n",
            "2. Continue onto R. Dr. João Colin (3.2 km, 7 mins). \n",
            "3. Continue straight onto Av. Santos Dumont (55 m, 1 min). \n",
            "4. Slight right to stay on Av. Santos Dumont (0.5 km, 1 min). \n",
            "5. At the roundabout, take the 1st exit onto R. Dom Bosco (0.6 km, 1 min). \n",
            "6. Turn left before MAGRÃO AGROPET (1.6 km, 3 mins). \n",
            "7. Turn right onto Av. Santos Dumont (59 m, 1 min). \n",
            "8. Turn left onto R. Profa. Thereza de Jesus Miranda Alves (0.1 km, 1 min). \n",
            "9. Continue straight onto R. Ten. Antônio João (92 m, 1 min). \n",
            "10. Turn left; the destination will be on the right (58 m, 1 min).\n"
          ]
        }
      ]
    },
    {
      "cell_type": "code",
      "source": [
        "response.data.intermediate_steps[0][\"tool_steps\"]"
      ],
      "metadata": {
        "id": "bg6RfPPEnh_h",
        "colab": {
          "base_uri": "https://localhost:8080/"
        },
        "outputId": "508b1cde-ccfc-4208-bbcf-7610561c05e9"
      },
      "execution_count": null,
      "outputs": [
        {
          "output_type": "execute_result",
          "data": {
            "text/plain": [
              "[{'tool': 'Places API',\n",
              "  'input': \"{'text': 'cinemas near Joinville'}\",\n",
              "  'output': '[{\\'business_status\\': \\'OPERATIONAL\\', \\'formatted_address\\': \\'Av. Rolf Wiest, 333 - Bom Retiro, Joinville - SC, 89223-005, Brazil\\', \\'geometry\\': {\\'location\\': {\\'lat\\': -26.2537897, \\'lng\\': -48.8533947}, \\'viewport\\': {\\'northeast\\': {\\'lat\\': -26.25203157010728, \\'lng\\': -48.85173915000001}, \\'southwest\\': {\\'lat\\': -26.25473122989272, \\'lng\\': -48.85494894999999}}}, \\'icon\\': \\'https://maps.gstatic.com/mapfiles/place_api/icons/v1/png_71/movies-71.png\\', \\'icon_background_color\\': \\'#13B5C7\\', \\'icon_mask_base_uri\\': \\'https://maps.gstatic.com/mapfiles/place_api/icons/v2/movie_pinlet\\', \\'name\\': \\'GNC Cinemas - Shopping Garten\\', \\'opening_hours\\': {\\'open_now\\': True}, \\'photos\\': [{\\'height\\': 2988, \\'html_attributions\\': [\\'<a href=\"https://maps.google.com/maps/contrib/108958634086475088109\">Alexandre Maros</a>\\'], \\'photo_reference\\': \\'AeeoHcK9s5YzQafGrZaZTfDpWXfjykzRtr9F1SHwYbUGgsPFhkIpi-NIRN_doMBje2IKa0uJvFYpOEbI0f_7mFAWu8fAB0nSuywOeRdyloCibahYAl4q3xWvOFTaFBw9tVSYfXdIDG76Nb_QiYu2u9Jn4eAjPYMo508VW-JluOi8wnZ5sk1Wwnop0cVY1Fbl3urBywGehbxH6d9SUOYap2kGKklCdBq2E5G6vXZKrTHMFCwebiuWd9saHvubqyYjJLUEujnnPN0nv73QnPkXrULHQO2ITwJV3XRuB2xaFuJGUlek4DooA58\\', \\'width\\': 5312}], \\'place_id\\': \\'ChIJSbHXzqSv3pQRLohHYwG3jkU\\', \\'plus_code\\': {\\'compound_code\\': \\'P4WW+FJ Bom Retiro, Joinville - State of Santa Catarina, Brazil\\', \\'global_code\\': \\'585HP4WW+FJ\\'}, \\'rating\\': 4.6, \\'reference\\': \\'ChIJSbHXzqSv3pQRLohHYwG3jkU\\', \\'types\\': [\\'movie_theater\\', \\'store\\', \\'point_of_interest\\', \\'establishment\\'], \\'user_ratings_total\\': 5153}, {\\'business_status\\': \\'OPERATIONAL\\', \\'formatted_address\\': \\'R. Mário Lobo, 106 - Centro, Joinville - SC, 89201-330, Brazil\\', \\'geometry\\': {\\'location\\': {\\'lat\\': -26.2984648, \\'lng\\': -48.84826890000001}, \\'viewport\\': {\\'northeast\\': {\\'lat\\': -26.29702672010728, \\'lng\\': -48.84749577010727}, \\'southwest\\': {\\'lat\\': -26.29972637989272, \\'lng\\': -48.85019542989271}}}, \\'icon\\': \\'https://maps.gstatic.com/mapfiles/place_api/icons/v1/png_71/movies-71.png\\', \\'icon_background_color\\': \\'#13B5C7\\', \\'icon_mask_base_uri\\': \\'https://maps.gstatic.com/mapfiles/place_api/icons/v2/movie_pinlet\\', \\'name\\': \\'Cine Uniplex Shopping Cidade das Flores - Joinville\\', \\'photos\\': [{\\'height\\': 2448, \\'html_attributions\\': [\\'<a href=\"https://maps.google.com/maps/contrib/112257856436567078061\">Lon Winchester</a>\\'], \\'photo_reference\\': \\'AeeoHcLrJD1R9C9Hqr6eGGiX_ECb7cyRvrG9u7ckuQ7f3TZs5uQ9JuQuqG6etvOhva6cQDk1AMKuGkH_LzOXgqVf87jn4kwuvex7xAho8IUwmiDQBiG86zjHeoe6ElQm28j2-cB03-bdcYlQOk4ZJQM-xOh2PiBWfQSt0hPDy7ocFGZTLXYz5VLN6yqYfVy9Kq3W9HJvDvTFLJ1L6R23ExoBm2tj3R8y-1QghXfC_t7SWf4tKd0YAtFBZV4H5Zmp_Q7tv9Xlx6u-DzUvk9m18mpJR9vWFOmXoBZTIUL99COtjkUVNx2wriw\\', \\'width\\': 3264}], \\'place_id\\': \\'ChIJo2cPJuex3pQRagAI1kQ_twQ\\', \\'plus_code\\': {\\'compound_code\\': \\'P522+JM Centro, Joinville - State of Santa Catarina, Brazil\\', \\'global_code\\': \\'585HP522+JM\\'}, \\'rating\\': 4.6, \\'reference\\': \\'ChIJo2cPJuex3pQRagAI1kQ_twQ\\', \\'types\\': [\\'movie_theater\\', \\'point_of_interest\\', \\'establishment\\'], \\'user_ratings_total\\': 4183}, {\\'business_status\\': \\'OPERATIONAL\\', \\'formatted_address\\': \\'Shopping Mueller Joinville, R. Sen. Felipe Schmidt, s/n - Centro, Joinville - SC, 89201-420, Brazil\\', \\'geometry\\': {\\'location\\': {\\'lat\\': -26.3040142, \\'lng\\': -48.8495788}, \\'viewport\\': {\\'northeast\\': {\\'lat\\': -26.30291592010728, \\'lng\\': -48.84796237010728}, \\'southwest\\': {\\'lat\\': -26.30561557989272, \\'lng\\': -48.85066202989272}}}, \\'icon\\': \\'https://maps.gstatic.com/mapfiles/place_api/icons/v1/png_71/movies-71.png\\', \\'icon_background_color\\': \\'#13B5C7\\', \\'icon_mask_base_uri\\': \\'https://maps.gstatic.com/mapfiles/place_api/icons/v2/movie_pinlet\\', \\'name\\': \\'GNC Cinemas - Shopping Mueller Joinville\\', \\'photos\\': [{\\'height\\': 2448, \\'html_attributions\\': [\\'<a href=\"https://maps.google.com/maps/contrib/112257856436567078061\">Lon Winchester</a>\\'], \\'photo_reference\\': \\'AeeoHcKSpLrzJzii6vuysPcCu8msIIjWzwLjZN5vfLBtS5VohKm7iWyNxy1dVtEfJ5xgKAxQJPthGeKyhxY4UzhGcG2PMV3gNUFWqCa3T3HGIThhmqwt6lzD-yi2-aBgrIPMhgiw3jrKdNGH1z3hJZOPlvTyzWvPzVqKFeZdtP8NmCjIZVY7x03yBu9Ciu-de2iQUqqHOt9Acv69GM3hAT72Lo1_FDDah4N7reWGthsXybZrydSVaWWbyIbaDUy2sKz_D_lWdVQNLfnE32Sdsp5cKx1cykECQIIb5T8AXZX76lXsZTO73VI\\', \\'width\\': 3264}], \\'place_id\\': \\'ChIJ7ygr30ew3pQRGkdYkimzBwg\\', \\'plus_code\\': {\\'compound_code\\': \\'M5W2+95 Centro, Joinville - State of Santa Catarina, Brazil\\', \\'global_code\\': \\'585HM5W2+95\\'}, \\'rating\\': 4.5, \\'reference\\': \\'ChIJ7ygr30ew3pQRGkdYkimzBwg\\', \\'types\\': [\\'movie_theater\\', \\'point_of_interest\\', \\'establishment\\'], \\'user_ratings_total\\': 5670}, {\\'business_status\\': \\'OPERATIONAL\\', \\'formatted_address\\': \\'Av. Getúlio Vargas, 1446 - Bucarein, Joinville - SC, 89202-002, Brazil\\', \\'geometry\\': {\\'location\\': {\\'lat\\': -26.3206336, \\'lng\\': -48.8457141}, \\'viewport\\': {\\'northeast\\': {\\'lat\\': -26.31901007010727, \\'lng\\': -48.84420172010728}, \\'southwest\\': {\\'lat\\': -26.32170972989272, \\'lng\\': -48.84690137989272}}}, \\'icon\\': \\'https://maps.gstatic.com/mapfiles/place_api/icons/v1/png_71/movies-71.png\\', \\'icon_background_color\\': \\'#13B5C7\\', \\'icon_mask_base_uri\\': \\'https://maps.gstatic.com/mapfiles/place_api/icons/v2/movie_pinlet\\', \\'name\\': \\'Cine Uniplex Shopping Estação - Joinville\\', \\'opening_hours\\': {\\'open_now\\': False}, \\'photos\\': [{\\'height\\': 960, \\'html_attributions\\': [\\'<a href=\"https://maps.google.com/maps/contrib/105327526296594419894\">A Google User</a>\\'], \\'photo_reference\\': \\'AeeoHcL9-m0ntj2hjg_RNdjBJjFQHpt6gyvKHPqB43fINJrZ3D3VgWtQDlJBo6JpbjAovOEHOuJ3GqlfGLyseTOh3Zuskf6_-GlaC2s68T7zLcru3UEPyqOq8qzpOYQFkf25qZtrt82YDUQrHnLowhJv-0KfSeVGGEcWRtx3jR02NX0Aj2iZgnVL1kXomS5jAUl4V3A4PSPy20x66OZJRr1jv42s-gwoWplWo0K0vtvUFncFLgQevzkyaqwPh9EVUG3wrLQ0r3QNAwHhR1P43eW_2I1h3KBifgXLP-ptGPsayxZTJOkSsyg\\', \\'width\\': 1280}], \\'place_id\\': \\'ChIJ8U-W40Gx3pQRqpjef6HoKVw\\', \\'plus_code\\': {\\'compound_code\\': \\'M5H3+PP Bucarein, Joinville - State of Santa Catarina, Brazil\\', \\'global_code\\': \\'585HM5H3+PP\\'}, \\'rating\\': 4.5, \\'reference\\': \\'ChIJ8U-W40Gx3pQRqpjef6HoKVw\\', \\'types\\': [\\'movie_theater\\', \\'point_of_interest\\', \\'establishment\\'], \\'user_ratings_total\\': 24}, {\\'business_status\\': \\'OPERATIONAL\\', \\'formatted_address\\': \\'R. Xavantes, 54 - Atiradores, Joinville - SC, 89203-900, Brazil\\', \\'geometry\\': {\\'location\\': {\\'lat\\': -26.3159041, \\'lng\\': -48.8633817}, \\'viewport\\': {\\'northeast\\': {\\'lat\\': -26.31472282010728, \\'lng\\': -48.86204917010728}, \\'southwest\\': {\\'lat\\': -26.31742247989272, \\'lng\\': -48.86474882989272}}}, \\'icon\\': \\'https://maps.gstatic.com/mapfiles/place_api/icons/v1/png_71/generic_business-71.png\\', \\'icon_background_color\\': \\'#7B9EB0\\', \\'icon_mask_base_uri\\': \\'https://maps.gstatic.com/mapfiles/place_api/icons/v2/generic_pinlet\\', \\'name\\': \\'UAU FILMES\\', \\'opening_hours\\': {\\'open_now\\': True}, \\'photos\\': [{\\'height\\': 4000, \\'html_attributions\\': [\\'<a href=\"https://maps.google.com/maps/contrib/112374856948345525778\">UAU CineTV</a>\\'], \\'photo_reference\\': \\'AeeoHcLvmXlwZereKxCgTkNUccsy6iQQZ5odu10n04-Lcj144bAq9b5P6NfJi1UNeuReMno7Cd-XP9CRso3F2DwV6-0R7FPxf1Fx3jWtOgYZM_pYLDmQhr47VKHxxkTJQ-6688wOlLzDeetUXn0b3O9ZP4Evu5zTCyCaAhmgzpcXNC4b4re4vUI7ZRkzpM9-L3r6rRa3NBNN_h1y57TUpTdfWu97xg-qVPrnNr8zp4kC8h9juz21vZT9pHagi3WihtFRgDExQlLA6rrlR_1I4hmKbeKzBCclhIs5zsaxhHvsAGMb47uDN4o\\', \\'width\\': 6016}], \\'place_id\\': \\'ChIJudnaMFKw3pQRciWnZWzV7lM\\', \\'plus_code\\': {\\'compound_code\\': \\'M4MP+JJ Atiradores, Joinville - State of Santa Catarina, Brazil\\', \\'global_code\\': \\'585HM4MP+JJ\\'}, \\'rating\\': 4.8, \\'reference\\': \\'ChIJudnaMFKw3pQRciWnZWzV7lM\\', \\'types\\': [\\'movie_theater\\', \\'point_of_interest\\', \\'establishment\\'], \\'user_ratings_total\\': 17}, {\\'business_status\\': \\'OPERATIONAL\\', \\'formatted_address\\': \\'R. Graciosa, 1132 - Guanabara, Joinville - SC, 89207-101, Brazil\\', \\'geometry\\': {\\'location\\': {\\'lat\\': -26.3185759, \\'lng\\': -48.8298819}, \\'viewport\\': {\\'northeast\\': {\\'lat\\': -26.31718192010727, \\'lng\\': -48.82859577010727}, \\'southwest\\': {\\'lat\\': -26.31988157989272, \\'lng\\': -48.83129542989272}}}, \\'icon\\': \\'https://maps.gstatic.com/mapfiles/place_api/icons/v1/png_71/movies-71.png\\', \\'icon_background_color\\': \\'#13B5C7\\', \\'icon_mask_base_uri\\': \\'https://maps.gstatic.com/mapfiles/place_api/icons/v2/movie_pinlet\\', \\'name\\': \\'Jocemar Maçaneiro\\', \\'opening_hours\\': {\\'open_now\\': True}, \\'place_id\\': \\'ChIJV90JAwax3pQR4fh1coQZ538\\', \\'plus_code\\': {\\'compound_code\\': \\'M5JC+H2 Guanabara, Joinville - State of Santa Catarina, Brazil\\', \\'global_code\\': \\'585HM5JC+H2\\'}, \\'rating\\': 3.9, \\'reference\\': \\'ChIJV90JAwax3pQR4fh1coQZ538\\', \\'types\\': [\\'movie_theater\\', \\'point_of_interest\\', \\'establishment\\'], \\'user_ratings_total\\': 13}]'},\n",
              " {'tool': 'Utilites',\n",
              "  'input': \"{'start_location': 'Art Museum of Joinville', 'end_location': 'GNC Cinemas - Shopping Garten, Av. Rolf Wiest, 333 - Bom Retiro, Joinville - SC, 89223-005, Brazil'}\",\n",
              "  'output': '[{\"instructions\": \"Head <b>north</b> on <b>Av. Juscelino Kubitscheck</b> toward <b>Av. Juscelino Kubitscheck</b>\", \"duration\": \"1 min\", \"distance\": \"0.4 km\"}, {\"instructions\": \"Continue onto <b>R. Dr. Jo\\\\u00e3o Colin</b><div style=\\\\\"font-size:0.9em\\\\\">Pass by Banco Santander - Ag\\\\u00eancia Select 1818 Joinville (on the left)</div>\", \"duration\": \"7 mins\", \"distance\": \"3.2 km\"}, {\"instructions\": \"Continue straight onto <b>Av. Santos Dumont</b>\", \"duration\": \"1 min\", \"distance\": \"55 m\"}, {\"instructions\": \"Slight <b>right</b> to stay on <b>Av. Santos Dumont</b>\", \"duration\": \"1 min\", \"distance\": \"0.5 km\"}, {\"instructions\": \"At the roundabout, take the <b>1st</b> exit onto <b>R. Dom Bosco</b>\", \"duration\": \"1 min\", \"distance\": \"0.6 km\"}, {\"instructions\": \"Turn <b>left</b> before MAGR\\\\u00c3O AGROPET<div style=\\\\\"font-size:0.9em\\\\\">Pass by Silene Moda &amp; Acess\\\\u00f3rios (on the right in 1.1 km)</div>\", \"duration\": \"3 mins\", \"distance\": \"1.6 km\"}, {\"instructions\": \"Turn <b>right</b> onto <b>Av. Santos Dumont</b>\", \"duration\": \"1 min\", \"distance\": \"59 m\"}, {\"instructions\": \"Turn <b>left</b> onto <b>R. Profa. Thereza de Jesus Miranda Alves</b>\", \"duration\": \"1 min\", \"distance\": \"0.1 km\"}, {\"instructions\": \"Continue straight onto <b>R. Ten. Ant\\\\u00f4nio Jo\\\\u00e3o</b>\", \"duration\": \"1 min\", \"distance\": \"92 m\"}, {\"instructions\": \"Turn <b>left</b><div style=\\\\\"font-size:0.9em\\\\\">Destination will be on the right</div>\", \"duration\": \"1 min\", \"distance\": \"58 m\"}]'}]"
            ]
          },
          "metadata": {},
          "execution_count": 36
        }
      ]
    },
    {
      "cell_type": "markdown",
      "source": [
        "## Deploying an Agent\n",
        "\n",
        "Once created, Agents are saved as draft and are activated for 24 hours. If you are satisfied with the one you developed and want to use longer, deploy it!"
      ],
      "metadata": {
        "id": "qJgzyzPKoN0k"
      }
    },
    {
      "cell_type": "code",
      "source": [
        "agent.deploy()"
      ],
      "metadata": {
        "id": "rVaHeT-poba4"
      },
      "execution_count": null,
      "outputs": []
    },
    {
      "cell_type": "markdown",
      "source": [
        "## Getting an Agent\n",
        "\n",
        "You don't have to create an agent everytime you want to use it! Once saved, an agent in aiXplain has an asset ID and you want instantiate it in your Python application with one line of code!"
      ],
      "metadata": {
        "id": "C-CZkeVwoeKW"
      }
    },
    {
      "cell_type": "code",
      "source": [
        "agent.id"
      ],
      "metadata": {
        "id": "QlwjMwo3oiiy"
      },
      "execution_count": null,
      "outputs": []
    },
    {
      "cell_type": "code",
      "source": [
        "agent = AgentFactory.get(\"67f00ac11fbb3d03954c7e38\")"
      ],
      "metadata": {
        "id": "WozxRMC3ozsi"
      },
      "execution_count": null,
      "outputs": []
    },
    {
      "cell_type": "code",
      "source": [
        "response = agent.run(\"How many Oscars Angelina Jolie have?\")\n",
        "response.data.output"
      ],
      "metadata": {
        "id": "ZgiOtQMzKqja"
      },
      "execution_count": null,
      "outputs": []
    },
    {
      "cell_type": "markdown",
      "source": [
        "## Deleting the Agent\n",
        "\n",
        "Do not want to use your agent anymore? You may delete it then."
      ],
      "metadata": {
        "id": "QT0O7Mr2m1vB"
      }
    },
    {
      "cell_type": "code",
      "source": [
        "agent.delete()"
      ],
      "metadata": {
        "id": "nrJlToFLmq2I"
      },
      "execution_count": null,
      "outputs": []
    },
    {
      "cell_type": "markdown",
      "source": [
        "# Introduction to Teams"
      ],
      "metadata": {
        "id": "WvtO84ZIrTbV"
      }
    },
    {
      "cell_type": "markdown",
      "source": [
        "## Limitation of Agents\n",
        "\n",
        "They struggle to reason among multiple tools or to solve queries which require multiple steps to be solved"
      ],
      "metadata": {
        "id": "W8pI--t_qTVf"
      }
    },
    {
      "cell_type": "code",
      "source": [
        "INSTRUCTION = \"You are a Movies and Series Agent Specialist. Your role is to answer user queries about movies and series in a fluent and assertive manner. For questions that are not related to movies and series, indicate that you are not a specialist in that area and cannot provide answers.\"\n",
        "\n",
        "DESCRIPTION = \"A Movies and Series Agent Specialist\"\n",
        "\n",
        "agent = AgentFactory.create(\n",
        "    name=\"Movies and Series Agent Specialist\",\n",
        "    tools=[\n",
        "        speech_synthesis_tool,\n",
        "        asr_tool,\n",
        "        translation_tool,\n",
        "        search_tool,\n",
        "        pipeline_tool,\n",
        "        google_places_tool,\n",
        "        google_maps_tool\n",
        "    ],\n",
        "    description=DESCRIPTION,\n",
        "    instructions=INSTRUCTION,\n",
        ")"
      ],
      "metadata": {
        "id": "HXszc-zuo8g0"
      },
      "execution_count": null,
      "outputs": []
    },
    {
      "cell_type": "code",
      "source": [
        "response = agent.run(\"What are cinemas near Joinville? How can I get in one of them from Art Museum of Joinville? What can I watch tonight?\")"
      ],
      "metadata": {
        "id": "snbYf4xxqf2b"
      },
      "execution_count": null,
      "outputs": []
    },
    {
      "cell_type": "code",
      "source": [
        "print(response.data.output)"
      ],
      "metadata": {
        "id": "JEsvFO_sqqZ_",
        "colab": {
          "base_uri": "https://localhost:8080/"
        },
        "outputId": "1ec58961-e04c-463e-8707-49923d2589ee"
      },
      "execution_count": null,
      "outputs": [
        {
          "output_type": "stream",
          "name": "stdout",
          "text": [
            "Here are some cinemas near Joinville: 1. GNC Cinemas - Shopping Garten, located at Av. Rolf Wiest, 333 - Bom Retiro, Joinville - SC. 2. Cine Uniplex Shopping Cidade das Flores - Joinville, located at R. Mário Lobo, 106 - Centro, Joinville - SC. 3. GNC Cinemas - Shopping Mueller Joinville, located at Shopping Mueller Joinville, R. Sen. Felipe Schmidt, s/n - Centro, Joinville - SC. 4. Cine Uniplex Shopping Estação - Joinville, located at Av. Getúlio Vargas, 1446 - Bucarein, Joinville - SC. 5. UAU FILMES, located at R. Xavantes, 54 - Atiradores, Joinville - SC. 6. Jocemar Maçaneiro, located at R. Graciosa, 1132 - Guanabara, Joinville - SC. To get to one of these cinemas from the Art Museum of Joinville, you can use a navigation app for directions. As for what to watch tonight, please check the cinema listings for current showtimes and available movies.\n"
          ]
        }
      ]
    },
    {
      "cell_type": "markdown",
      "source": [
        "## Mentalist\n",
        "\n",
        "For such scenarios you may consider our team approach. In teams we may enable mentalist to predict all the steps that should be solved ahead. The agent will be then called by orchestrator to solve each step of the plan and will not be overloaded."
      ],
      "metadata": {
        "id": "-vwmpoMSqwNq"
      }
    },
    {
      "cell_type": "code",
      "source": [
        "from aixplain.factories import TeamAgentFactory\n",
        "\n",
        "team = TeamAgentFactory.create(\n",
        "    name=\"Movies and Series Agent Specialist\",\n",
        "    agents=[agent],\n",
        "    use_mentalist=True,\n",
        "    use_inspector=False\n",
        ")"
      ],
      "metadata": {
        "id": "tUd5MrudqrxK"
      },
      "execution_count": null,
      "outputs": []
    },
    {
      "cell_type": "code",
      "source": [
        "response = team.run(\"What are cinemas near Joinville? How can I get in one of them from Art Museum of Joinville? What can I watch tonight?\")"
      ],
      "metadata": {
        "id": "iyumPuEqr8Sx"
      },
      "execution_count": null,
      "outputs": []
    },
    {
      "cell_type": "code",
      "source": [
        "print(response[\"data\"][\"output\"])"
      ],
      "metadata": {
        "id": "zfPLG22Tr-iI",
        "colab": {
          "base_uri": "https://localhost:8080/"
        },
        "outputId": "5d1e48c7-6674-4fe1-db9d-b53b0c955a66"
      },
      "execution_count": null,
      "outputs": [
        {
          "output_type": "stream",
          "name": "stdout",
          "text": [
            "Here’s the information you requested:\n",
            "\n",
            "### Cinemas Near Joinville\n",
            "In Joinville, you can find several cinemas, including:\n",
            "1. **Cinepolis Joinville** - Located in the Shopping Mueller.\n",
            "2. **Cinemark Joinville** - Situated in the Shopping Garten.\n",
            "3. **Cineflix Joinville** - Found in the Shopping Cidade das Flores.\n",
            "\n",
            "### Getting to a Cinema from the Art Museum of Joinville\n",
            "To reach one of these cinemas from the Art Museum of Joinville, you can take a taxi or use a rideshare service for convenience. Alternatively, if you prefer public transport, check local bus routes that connect the museum to the shopping centers where the cinemas are located.\n",
            "\n",
            "### Movie Showtimes for Tonight\n",
            "For tonight's movie options, I recommend checking the official websites or apps of the cinemas mentioned above. They typically provide up-to-date listings of movies, showtimes, and ticket availability.\n",
            "\n",
            "If you have any more questions or need further assistance, feel free to ask!\n"
          ]
        }
      ]
    },
    {
      "cell_type": "code",
      "source": [
        "response[\"data\"][\"intermediate_steps\"][0]"
      ],
      "metadata": {
        "id": "yEPWiRxKsB9X",
        "colab": {
          "base_uri": "https://localhost:8080/"
        },
        "outputId": "e6c3719a-7a76-4b48-d6e7-c21c1aac0375"
      },
      "execution_count": null,
      "outputs": [
        {
          "output_type": "execute_result",
          "data": {
            "text/plain": [
              "{'agent': 'mentalist',\n",
              " 'input': 'INPUT\\n--------------------\\n\\nUSER: What are cinemas near Joinville? How can I get in one of them from Art Museum of Joinville? What can I watch tonight?',\n",
              " 'output': \"[{'step': 'Find cinemas near Joinville', 'worker': 'Places API', 'init_worker': 'Places API'}, {'step': 'Get directions from Art Museum of Joinville to one of the cinemas', 'worker': 'Google Maps instructions', 'init_worker': 'Google Maps instructions'}, {'step': 'Provide movie options for tonight', 'worker': 'Movies and Series Agent Specialist', 'init_worker': 'Movies and Series Agent Specialist'}]\",\n",
              " 'tool_steps': None,\n",
              " 'thought': 'The user is asking for information about cinemas near Joinville, directions from the Art Museum of Joinville to one of those cinemas, and movie options for tonight. The first two tasks can be handled by the Places API and Google Maps instructions, while the last task requires the Movies and Series Agent Specialist to provide movie options.',\n",
              " 'runTime': 2.579,\n",
              " 'usedCredits': 0.00019454999999999999,\n",
              " 'apiCalls': 1,\n",
              " 'task': None}"
            ]
          },
          "metadata": {},
          "execution_count": 44
        }
      ]
    },
    {
      "cell_type": "markdown",
      "source": [
        "## Better Team Architecture\n",
        "\n",
        "The previous outcome is not good yet. We could change the LLM from GPT-4o Mini to a more powerful one. But let's keep our agent cheap and just better architecture our team, spliting the expertise among two specialists."
      ],
      "metadata": {
        "id": "EhBn4ouTTK03"
      }
    },
    {
      "cell_type": "code",
      "source": [
        "INSTRUCTION = \"You are a Movies and Series Agent Specialist. Your role is to answer user queries about movies and series in a fluent and assertive manner. For questions that are not related to movies and series, indicate that you are not a specialist in that area and cannot provide answers.\"\n",
        "DESCRIPTION = \"A Movies and Series Agent Specialist\"\n",
        "\n",
        "movie_expert = AgentFactory.create(\n",
        "    name=\"Movies and Series Agent Specialist\",\n",
        "    tools=[\n",
        "        speech_synthesis_tool,\n",
        "        asr_tool,\n",
        "        translation_tool,\n",
        "        search_tool,\n",
        "        pipeline_tool,\n",
        "    ],\n",
        "    description=DESCRIPTION,\n",
        "    instructions=INSTRUCTION,\n",
        ")"
      ],
      "metadata": {
        "id": "_7qDceYRTNdM"
      },
      "execution_count": null,
      "outputs": []
    },
    {
      "cell_type": "code",
      "source": [
        "google_places_tool,\n",
        "google_maps_tool\n",
        "INSTRUCTION = \"You are a Cinema Finder. Your role is to answer user queries about cinemas and what to what on them in a fluent and assertive manner. For questions that are not related, indicate that you are not a specialist in that area and cannot provide answers.\"\n",
        "DESCRIPTION = \"Find the best cinemas near you\"\n",
        "\n",
        "cinema_finder = AgentFactory.create(\n",
        "    name=\"Cinema Finder\",\n",
        "    tools=[\n",
        "        google_places_tool,\n",
        "        google_maps_tool,\n",
        "        search_tool,\n",
        "    ],\n",
        "    description=DESCRIPTION,\n",
        "    instructions=INSTRUCTION,\n",
        ")"
      ],
      "metadata": {
        "id": "WgJjJpzfTWCM"
      },
      "execution_count": null,
      "outputs": []
    },
    {
      "cell_type": "code",
      "source": [
        "from aixplain.factories import TeamAgentFactory\n",
        "\n",
        "team = TeamAgentFactory.create(\n",
        "    name=\"Movies and Series Agent Specialist\",\n",
        "    agents=[\n",
        "        movie_expert,\n",
        "        cinema_finder\n",
        "    ],\n",
        "    use_mentalist=True,\n",
        "    use_inspector=False\n",
        ")"
      ],
      "metadata": {
        "id": "l1rp9NKDTt8b"
      },
      "execution_count": null,
      "outputs": []
    },
    {
      "cell_type": "code",
      "source": [
        "response = team.run(\"What are cinemas near Joinville? How can I get in one of them from Art Museum of Joinville? What can I watch tonight?\")\n",
        "print(response[\"data\"][\"output\"])"
      ],
      "metadata": {
        "colab": {
          "base_uri": "https://localhost:8080/",
          "height": 122
        },
        "id": "fOWsGZr4VEwi",
        "outputId": "2ced8f33-045e-41e3-e31d-baf7aa4de105"
      },
      "execution_count": null,
      "outputs": [
        {
          "output_type": "execute_result",
          "data": {
            "text/plain": [
              "\"Here’s the information you requested regarding cinemas near Joinville, directions from the Art Museum of Joinville, and what you can watch tonight:\\n\\n### Cinemas Near Joinville\\n1. **GNC Cinemas - Shopping Garten**  \\n   Address: Av. Rolf Wiest, 333 - Bom Retiro, Joinville - SC, 89223-005, Brazil  \\n   Rating: 4.6 (5153 ratings)  \\n   Open Now: Yes  \\n\\n2. **Cine Uniplex Shopping Cidade das Flores - Joinville**  \\n   Address: R. Mário Lobo, 106 - Centro, Joinville - SC, 89201-330, Brazil  \\n   Rating: 4.6 (4183 ratings)  \\n   Open Now: Yes  \\n\\n3. **GNC Cinemas - Shopping Mueller Joinville**  \\n   Address: Shopping Mueller Joinville, R. Sen. Felipe Schmidt, s/n - Centro, Joinville - SC, 89201-420, Brazil  \\n   Rating: 4.5 (5670 ratings)  \\n   Open Now: Yes  \\n\\n4. **Cine Uniplex Shopping Estação - Joinville**  \\n   Address: Av. Getúlio Vargas, 1446 - Bucarein, Joinville - SC, 89202-002, Brazil  \\n   Rating: 4.5 (24 ratings)  \\n   Open Now: No  \\n\\n5. **UAU FILMES**  \\n   Address: R. Xavantes, 54 - Atiradores, Joinville - SC, 89203-900, Brazil  \\n   Rating: 4.8 (17 ratings)  \\n   Open Now: Yes  \\n\\n6. **Jocemar Maçaneiro**  \\n   Address: R. Graciosa, 1132 - Guanabara, Joinville - SC, 89207-101, Brazil  \\n   Rating: 3.9 (13 ratings)  \\n   Open Now: Yes  \\n\\n### Directions from Art Museum of Joinville to GNC Cinemas - Shopping Garten\\n1. Head north on Av. Juscelino Kubitscheck toward Av. Juscelino Kubitscheck (0.4 km, 1 min).\\n2. Continue onto R. Dr. João Colin, passing by Banco Santander - Agência Select 1818 Joinville (3.2 km, 7 mins).\\n3. Continue straight onto Av. Santos Dumont (55 m, 1 min).\\n4. Slight right to stay on Av. Santos Dumont (0.5 km, 1 min).\\n5. At the roundabout, take the 1st exit onto R. Dom Bosco (0.6 km, 1 min).\\n6. Turn left before MAGRÃO AGROPET, passing by Silene Moda & Acessórios (1.6 km, 3 mins).\\n7. Turn right onto Av. Santos Dumont (59 m, 1 min).\\n8. Turn left onto R. Profa. Thereza de Jesus Miranda Alves (0.1 km, 1 min).\\n9. Continue straight onto R. Ten. Antônio João (92 m, 1 min).\\n10. Turn left; the destination will be on the right (58 m, 1 min).\\n\\n### Movies Showing Tonight\\nAt GNC Cinemas - Shopping Garten, there is a special promotion for the 6th edition of the Cinema Week, with tickets priced at R$10 for all films from February 6 to 12, 2025. There are currently twelve films showing, covering various genres such as comedy, adventure, fantasy, horror, suspense, and drama. For specific titles and showtimes, please check the cinema's official website or contact them directly.\\n\\nEnjoy your movie night!\""
            ],
            "application/vnd.google.colaboratory.intrinsic+json": {
              "type": "string"
            }
          },
          "metadata": {},
          "execution_count": 49
        }
      ]
    },
    {
      "cell_type": "code",
      "source": [
        "response[\"data\"][\"intermediate_steps\"][0]"
      ],
      "metadata": {
        "colab": {
          "base_uri": "https://localhost:8080/"
        },
        "id": "Zk5UrD3cVLoj",
        "outputId": "e9d36faa-3d0d-4a64-ed94-0290d090bc68"
      },
      "execution_count": null,
      "outputs": [
        {
          "output_type": "execute_result",
          "data": {
            "text/plain": [
              "{'agent': 'mentalist',\n",
              " 'input': 'INPUT\\n--------------------\\n\\nUSER: What are cinemas near Joinville? How can I get in one of them from Art Museum of Joinville? What can I watch tonight?',\n",
              " 'output': \"[{'step': 'Find cinemas near Joinville', 'worker': 'Cinema Finder', 'init_worker': 'Cinema Finder'}, {'step': 'Get directions from Art Museum of Joinville to one of the cinemas', 'worker': 'Cinema Finder', 'init_worker': 'Cinema Finder'}, {'step': 'Find out what movies are showing tonight', 'worker': 'Movies and Series Agent Specialist', 'init_worker': 'Movies and Series Agent Specialist'}]\",\n",
              " 'tool_steps': None,\n",
              " 'thought': 'The user is asking for information about cinemas near Joinville, directions from the Art Museum of Joinville to one of those cinemas, and movie options for tonight. Each part of the query can be addressed by the appropriate workers.',\n",
              " 'runTime': 2.633,\n",
              " 'usedCredits': 0.00020879999999999998,\n",
              " 'apiCalls': 1,\n",
              " 'task': None}"
            ]
          },
          "metadata": {},
          "execution_count": 50
        }
      ]
    },
    {
      "cell_type": "markdown",
      "source": [
        "## Tasks\n",
        "\n",
        "If you prefer, enable the steps of the plan yourself instead of mentalist"
      ],
      "metadata": {
        "id": "KQkK6FvsszS5"
      }
    },
    {
      "cell_type": "code",
      "source": [
        "task1 = AgentFactory.create_task(\n",
        "    name=\"Cinema Search\",\n",
        "    description=\"Search for cinemas near the area specified by the user\",\n",
        "    expected_output=\"A list of cinemas near the specified area\",\n",
        ")\n",
        "\n",
        "task2 = AgentFactory.create_task(\n",
        "    name=\"Movie Search\",\n",
        "    description=\"Search for movies near the area specified by the user\",\n",
        "    expected_output=\"A list of movies near the specified area\",\n",
        ")\n",
        "\n",
        "task3 = AgentFactory.create_task(\n",
        "    name=\"Find Directions\",\n",
        "    description=\"Find the directions between the cinema address and the user address\",\n",
        "    expected_output=\"A detailed driving direction from the user address to the cinema one\",\n",
        ")"
      ],
      "metadata": {
        "id": "31tmbul2tEal"
      },
      "execution_count": null,
      "outputs": []
    },
    {
      "cell_type": "code",
      "source": [
        "agent.tasks.extend([\n",
        "    task1, task2, task3\n",
        "])\n",
        "agent.save()"
      ],
      "metadata": {
        "id": "zgQhsqFusP9V",
        "colab": {
          "base_uri": "https://localhost:8080/"
        },
        "outputId": "135d68d6-2c4f-4584-b3e4-dc81f8c69e4a"
      },
      "execution_count": null,
      "outputs": [
        {
          "output_type": "stream",
          "name": "stderr",
          "text": [
            "/usr/local/lib/python3.11/dist-packages/aixplain/modules/model/utility_model.py:173: UserWarning: WARNING: Non-deployed utility models (status=DRAFT) will expire after 24 hours after creation. Use .deploy() method to make the model permanent.\n",
            "  warnings.warn(\n"
          ]
        }
      ]
    },
    {
      "cell_type": "code",
      "source": [
        "from aixplain.factories import TeamAgentFactory\n",
        "\n",
        "team = TeamAgentFactory.create(\n",
        "    name=\"Movies and Series Agent Specialist\",\n",
        "    agents=[agent],\n",
        "    use_mentalist=False,\n",
        "    use_inspector=False\n",
        ")"
      ],
      "metadata": {
        "id": "iBnIKN7LtnsC"
      },
      "execution_count": null,
      "outputs": []
    },
    {
      "cell_type": "code",
      "source": [
        "response = team.run(\"What are cinemas near Joinville? How can I get in one of them from Art Museum of Joinville? What can I watch there tonight?\")"
      ],
      "metadata": {
        "id": "-2DElqLjtsFs"
      },
      "execution_count": null,
      "outputs": []
    },
    {
      "cell_type": "code",
      "source": [
        "print(response[\"data\"][\"output\"])"
      ],
      "metadata": {
        "id": "0sxaVZpKtuHT",
        "colab": {
          "base_uri": "https://localhost:8080/"
        },
        "outputId": "6da07d23-8595-44d9-8a57-9cb58fd866f3"
      },
      "execution_count": null,
      "outputs": [
        {
          "output_type": "stream",
          "name": "stdout",
          "text": [
            "Here’s the information you requested regarding cinemas near Joinville, directions from the Art Museum of Joinville, and movie options for tonight:\n",
            "\n",
            "### Cinemas Near Joinville\n",
            "1. **GNC Cinemas - Shopping Garten**\n",
            "   - Address: Av. Rolf Wiest, 333 - Bom Retiro, Joinville - SC, 89223-005, Brazil\n",
            "   - Rating: 4.6\n",
            "\n",
            "2. **Cine Uniplex Shopping Cidade das Flores - Joinville**\n",
            "   - Address: R. Mário Lobo, 106 - Centro, Joinville - SC, 89201-330, Brazil\n",
            "   - Rating: 4.6\n",
            "\n",
            "3. **GNC Cinemas - Shopping Mueller Joinville**\n",
            "   - Address: Shopping Mueller Joinville, R. Sen. Felipe Schmidt, s/n - Centro, Joinville - SC, 89201-420, Brazil\n",
            "   - Rating: 4.5\n",
            "\n",
            "4. **Cine Uniplex Shopping Estação - Joinville**\n",
            "   - Address: Av. Getúlio Vargas, 1446 - Bucarein, Joinville - SC, 89202-002, Brazil\n",
            "   - Rating: 4.5\n",
            "\n",
            "5. **UAU FILMES**\n",
            "   - Address: R. Xavantes, 54 - Atiradores, Joinville - SC, 89203-900, Brazil\n",
            "   - Rating: 4.8\n",
            "\n",
            "6. **Jocemar Maçaneiro**\n",
            "   - Address: R. Graciosa, 1132 - Guanabara, Joinville - SC, 89207-101, Brazil\n",
            "   - Rating: 3.9\n",
            "\n",
            "### Directions from Art Museum of Joinville to GNC Cinemas - Shopping Garten\n",
            "1. Head north on Av. Juscelino Kubitscheck toward Av. Juscelino Kubitscheck (0.4 km, 1 min).\n",
            "2. Continue onto R. Dr. João Colin, passing by Banco Santander - Agência Select 1818 Joinville on the left (3.2 km, 7 mins).\n",
            "3. Continue straight onto Av. Santos Dumont (55 m, 1 min).\n",
            "4. Slight right to stay on Av. Santos Dumont (0.5 km, 1 min).\n",
            "5. At the roundabout, take the 1st exit onto R. Dom Bosco (0.6 km, 1 min).\n",
            "6. Turn left before MAGRÃO AGROPET, passing by Silene Moda & Acessórios on the right in 1.1 km (1.6 km, 3 mins).\n",
            "7. Turn right onto Av. Santos Dumont (59 m, 1 min).\n",
            "8. Turn left onto R. Profa. Thereza de Jesus Miranda Alves (0.1 km, 1 min).\n",
            "9. Continue straight onto R. Ten. Antônio João (92 m, 1 min).\n",
            "10. Turn left; the destination will be on the right (58 m, 1 min).\n",
            "\n",
            "### Movie Options for Tonight\n",
            "Unfortunately, I couldn't find specific movie showtimes for the cinemas in Joinville. I recommend checking local cinema websites or apps for the latest information on what films are currently showing.\n",
            "\n",
            "If you have any other questions or need further assistance, feel free to ask!\n"
          ]
        }
      ]
    },
    {
      "cell_type": "code",
      "source": [
        "response[\"data\"][\"intermediate_steps\"][0]"
      ],
      "metadata": {
        "colab": {
          "base_uri": "https://localhost:8080/"
        },
        "id": "sUYD86DdWFE6",
        "outputId": "2776212f-e3a4-4d0f-947c-224ab4d28e5e"
      },
      "execution_count": null,
      "outputs": [
        {
          "output_type": "execute_result",
          "data": {
            "text/plain": [
              "{'agent': 'mentalist',\n",
              " 'input': '',\n",
              " 'output': \"[{'step': 'Task: Cinema Search\\\\n\\\\t\\\\tDescription: Search for cinemas near the area specified by the user\\\\n\\\\t\\\\tExpected output: A list of cinemas near the specified area', 'worker': 'Movies and Series Agent Specialist', 'init_worker': 'Movies and Series Agent Specialist'}, {'step': 'Task: Movie Search\\\\n\\\\t\\\\tDescription: Search for movies near the area specified by the user\\\\n\\\\t\\\\tExpected output: A list of movies near the specified area', 'worker': 'Movies and Series Agent Specialist', 'init_worker': 'Movies and Series Agent Specialist'}, {'step': 'Task: Find Directions\\\\n\\\\t\\\\tDescription: Find the directions between the cinema address and the user address\\\\n\\\\t\\\\tExpected output: A detailed driving direction from the user address to the cinema one', 'worker': 'Movies and Series Agent Specialist', 'init_worker': 'Movies and Series Agent Specialist'}]\",\n",
              " 'tool_steps': None,\n",
              " 'thought': 'Planning steps provided by user',\n",
              " 'runTime': 0,\n",
              " 'usedCredits': 0,\n",
              " 'apiCalls': 0,\n",
              " 'task': None}"
            ]
          },
          "metadata": {},
          "execution_count": 64
        }
      ]
    },
    {
      "cell_type": "markdown",
      "source": [
        "## Inspector\n",
        "\n",
        "Do you want the outcomes of the agent to be refined by an LLM as a judge? Use Inspector!"
      ],
      "metadata": {
        "id": "sSPdw9HpuK1T"
      }
    },
    {
      "cell_type": "code",
      "source": [
        "team.delete()"
      ],
      "metadata": {
        "id": "pMFdZM1SPC09"
      },
      "execution_count": null,
      "outputs": []
    },
    {
      "cell_type": "code",
      "source": [
        "from aixplain.factories import TeamAgentFactory\n",
        "\n",
        "# team.delete()\n",
        "team = TeamAgentFactory.create(\n",
        "    name=\"Movies and Series Agent Specialist 1\",\n",
        "    agents=[agent],\n",
        "    use_mentalist=True,\n",
        "    use_inspector=True\n",
        ")"
      ],
      "metadata": {
        "id": "qaOrFdJ3t_Xr"
      },
      "execution_count": null,
      "outputs": []
    },
    {
      "cell_type": "code",
      "source": [
        "response = team.run(\"What are cinemas near Joinville? How can I get in one of them from Art Museum of Joinville? What can I watch tonight?\")"
      ],
      "metadata": {
        "id": "M30A8VsduV42"
      },
      "execution_count": null,
      "outputs": []
    },
    {
      "cell_type": "code",
      "source": [
        "print(response[\"data\"][\"output\"])"
      ],
      "metadata": {
        "id": "EK0yPoXGuX0M",
        "colab": {
          "base_uri": "https://localhost:8080/"
        },
        "outputId": "5fe20e8b-731e-4cb4-a523-689c34495520"
      },
      "execution_count": null,
      "outputs": [
        {
          "output_type": "stream",
          "name": "stdout",
          "text": [
            "Here’s the information you requested regarding cinemas near Joinville, directions from the Art Museum of Joinville, and what you can watch tonight:\n",
            "\n",
            "### Cinemas Near Joinville:\n",
            "1. **GNC Garten**\n",
            "   - **Address:** Avenida Rolf Wiest 333, Joinville\n",
            "   - **Movies Showing:**\n",
            "     - Branca De Neve (Adventure, Fantasy) - Showtime: 19:00\n",
            "     - Drop: Ameaça Anônima (Action, Drama, Thriller) - Showtime: 19:00\n",
            "     - Nas Terras Perdidas (Action, Fantasy) - Showtime: 19:00\n",
            "\n",
            "2. **GNC Joinville Mueller**\n",
            "   - **Movies Showing:**\n",
            "     - Operação Vingança (Suspense) - Various showtimes available today.\n",
            "\n",
            "3. **Cinemas Uniplex Joinville Shopping**\n",
            "   - **Movies Showing:**\n",
            "     - The Chosen - Última Ceia (Drama) - Showtimes available today.\n",
            "\n",
            "4. **Cinemas Uniplex - Joinville Estação**\n",
            "   - **Showtimes available today.**\n",
            "\n",
            "### Directions:\n",
            "Please let me know which cinema you would like directions to: \n",
            "- GNC Garten\n",
            "- GNC Joinville Mueller\n",
            "- Cinemas Uniplex Joinville Shopping\n",
            "- Cinemas Uniplex - Joinville Estação\n",
            "\n",
            "Once you confirm, I can provide you with detailed driving directions from the Art Museum of Joinville to your chosen cinema. Enjoy your movie night!\n"
          ]
        }
      ]
    },
    {
      "cell_type": "code",
      "source": [
        "for step in response[\"data\"][\"intermediate_steps\"]:\n",
        "  print(step)"
      ],
      "metadata": {
        "id": "vpfA93c6ujYl",
        "colab": {
          "base_uri": "https://localhost:8080/"
        },
        "outputId": "3ff9ef6c-fc1a-49e7-f745-19536c699900"
      },
      "execution_count": null,
      "outputs": [
        {
          "output_type": "stream",
          "name": "stdout",
          "text": [
            "{'agent': 'mentalist', 'input': '', 'output': \"[{'step': 'Task: Cinema Search\\\\n\\\\t\\\\tDescription: Search for cinemas near the area specified by the user\\\\n\\\\t\\\\tExpected output: A list of cinemas near the specified area', 'worker': 'Movies and Series Agent Specialist', 'init_worker': 'Movies and Series Agent Specialist'}, {'step': 'Task: Movie Search\\\\n\\\\t\\\\tDescription: Search for movies near the area specified by the user\\\\n\\\\t\\\\tExpected output: A list of movies near the specified area', 'worker': 'Movies and Series Agent Specialist', 'init_worker': 'Movies and Series Agent Specialist'}, {'step': 'Task: Find Directions\\\\n\\\\t\\\\tDescription: Find the directions between the cinema address and the user address\\\\n\\\\t\\\\tExpected output: A detailed driving direction from the user address to the cinema one', 'worker': 'Movies and Series Agent Specialist', 'init_worker': 'Movies and Series Agent Specialist'}]\", 'tool_steps': None, 'thought': 'Planning steps provided by user', 'runTime': 0, 'usedCredits': 0, 'apiCalls': 0, 'task': None}\n",
            "{'agent': 'orchestrator', 'input': 'USER REQUEST:\\n<chat_history>\\n    <USER>What are cinemas near Joinville? How can I get in one of them from Art Museum of Joinville? What can I watch tonight?</USER>\\n</chat_history>\\n\\nINTERMEDIATE STEPS:\\n<intermediate_steps>\\n</intermediate_steps>\\n\\nWORKER:\\nMovies and Series Agent Specialist\\n\\nNEXT STEP:\\nTask: Cinema Search\\n\\t\\tDescription: Search for cinemas near the area specified by the user\\n\\t\\tExpected output: A list of cinemas near the specified area\\n\\nFEEDBACK FROM THE PREVIOUS RUN:\\nNone\\n\\nASSIGNMENT:', 'output': \"Movies and Series Agent Specialist(input='You are tasked with searching for cinemas near Joinville, as requested by the user. Please provide a list of cinemas in that area. Once you have completed this search, we will proceed to the next step of providing directions from the Art Museum of Joinville to one of the cinemas and suggesting what the user can watch tonight.')\", 'tool_steps': None, 'thought': '', 'runTime': 1.259, 'usedCredits': 0.0001479, 'apiCalls': 1, 'task': None}\n",
            "{'agent': 'Movies and Series Agent Specialist', 'input': 'You are tasked with searching for cinemas near Joinville, as requested by the user. Please provide a list of cinemas in that area. Once you have completed this search, we will proceed to the next step of providing directions from the Art Museum of Joinville to one of the cinemas and suggesting what the user can watch tonight.', 'output': 'Here are some cinemas near Joinville: 1. GNC Garten - Avenida Rolf Wiest 333, Joinville 2. GNC Joinville Mueller 3. Cinemas Uniplex Joinville Shopping - Rua Mario Lobo, 106, Centro, Joinville 4. Cinemas Uniplex - Joinville Estação - Av. Getúlio Vargas, 1446, Anita Garibaldi, Joinville. Let me know which cinema you would like directions to and what you would like to watch tonight!', 'tool_steps': [{'tool': 'Tavily Search API', 'input': \"{'query': 'cinemas near Joinville'}\", 'output': \"['Cinemas em Joinville . Organizar por. popularidade. popularidade Ordem alfabética número de salas de cinema GNC Garten . Avenida Rolf Wiest 333 -ANCORA 6 Bom Retiro 89223-005 Joinville', 'Salas em Joinville, SC. Escolha um cinema: GNC Joinville Garten; GNC Joinville Mueller; MINHA CONTA Identifique-se CADASTRE-SE É grátis. É rápido. Especial. 3 séries médicas atuais que estão fazendo bastante sucesso nos streamings FILMES MAIS BUSCADOS. Guerra Civil. Gênero: Ação, Drama', 'Cinemas Uniplex Joinville Shopping Cidad Rua Mario Lobo, 106 - Centro, Joinville - SC Cinemas Uniplex - Joinville Estação Av. Getúlio Vargas, 1446 - Anita Garibaldi, Joinville - SC Últimas Notícias. O Contador 2 | Ben Affleck e Jon Bernthal investigam novo caso em trailer; Bilheteria | Pecadores larga bem e supera Branca de Neve', 'Lista de cinemas em Joinville. Lista de cinemas em Joinville. hoje no cinema. 🎬 FILMES 🍿 cinemas 🎬 filmes. 🍿 cinemas ... Programação dos cinemas e horários dos filmes em cartaz em Joinville Cinemas com programação disponível em Joinville. GNC Garten Shopping', 'Filmes em cartaz no Cinemas Uniplex - Joinville Estação. Saiba mais. - ver localização. Como retirar sua compra. Informações sobre preços e lugares. Comprar Produtos ... Produtos da bomboniere serão oferecidos, se disponíveis no cinema, após o fluxo de compra dos ingressos. Nosso site utiliza cookies para melhorar e personalizar sua', 'Fique por dentro dos melhores filmes em cartaz do cinema que já estão no Shopping Mueller. Clique aqui e confira! Rua Visconde de Taunay, 235 - Centro Joinville/SC - CEP 89201-908 ... Joinville/SC - CEP 89201-908 . Veja como chegar Horários de funcionamento. Lojas Segunda', 'Veja a programação do cinema GNC Joinville Mueller, seus filmes, as sessões disponíveis e compre seu ingresso. Veja a programação do cinema GNC Joinville Mueller, seus filmes, as sessões disponíveis e compre seu ingresso. Filmes; Cinemas; Teatro; Eventos; Notícias; O que você procura? Entrar. Início; Filmes; Cinemas;', 'Cinemas; Assis ; Avaré ; Campinas ; Campos dos Goytacazes ; Colombo ; Criciúma ; Guaratuba ; Itapeva ; Jaboticabal ; Joinville (Cidade Das Flores) Joinville (Shopping Estação) Lins ... Joinville (Cidade Das Flores) - SC', 'Programação em Joinville (Shopping Estação) (Joinville/SC) Hoje (18/04) Amanhã (19/04) ... Cinema que frequenta', 'Veja a programação do cinema GNC Garten Shopping, seus filmes, as sessões disponíveis e compre seu ingresso.']\"}], 'thought': None, 'runTime': 4.664, 'usedCredits': 0.00060675, 'apiCalls': 2, 'task': None}\n",
            "{'agent': 'inspector_0', 'input': 'USER: What are cinemas near Joinville? How can I get in one of them from Art Museum of Joinville? What can I watch tonight?', 'output': 'CORRECT', 'tool_steps': None, 'thought': '', 'runTime': 0.672, 'usedCredits': 9.224999999999999e-05, 'apiCalls': 1, 'task': None}\n",
            "{'agent': 'feedback_combiner', 'input': 'The following feedbacks were provided for the last step:\\nCORRECT\\n\\nCombined feedback:\\n', 'output': 'No feedbacks', 'tool_steps': None, 'thought': '', 'runTime': 0.556, 'usedCredits': 2.565e-05, 'apiCalls': 1, 'task': None}\n",
            "{'agent': 'orchestrator', 'input': 'USER REQUEST:\\n<chat_history>\\n    <USER>What are cinemas near Joinville? How can I get in one of them from Art Museum of Joinville? What can I watch tonight?</USER>\\n</chat_history>\\nFEEDBACK: No feedbacks\\n\\nINTERMEDIATE STEPS:\\n<intermediate_steps>\\n    <step number=\"1\">\\n        <agent>Movies and Series Agent Specialist</agent>\\n        <input>You are tasked with searching for cinemas near Joinville, as requested by the user. Please provide a list of cinemas in that area. Once you have completed this search, we will proceed to the next step of providing directions from the Art Museum of Joinville to one of the cinemas and suggesting what the user can watch tonight.</input>\\n        <response>Here are some cinemas near Joinville: 1. GNC Garten - Avenida Rolf Wiest 333, Joinville 2. GNC Joinville Mueller 3. Cinemas Uniplex Joinville Shopping - Rua Mario Lobo, 106, Centro, Joinville 4. Cinemas Uniplex - Joinville Estação - Av. Getúlio Vargas, 1446, Anita Garibaldi, Joinville. Let me know which cinema you would like directions to and what you would like to watch tonight!</response>\\n    </step>\\n    <step number=\"2\">\\n        <agent>inspector_0</agent>\\n        <input>USER: What are cinemas near Joinville? How can I get in one of them from Art Museum of Joinville? What can I watch tonight?</input>\\n        <response>CORRECT</response>\\n    </step>\\n    <step number=\"3\">\\n        <agent>feedback_combiner</agent>\\n        <input>The following feedbacks were provided for the last step:\\nCORRECT\\n\\nCombined feedback:\\n</input>\\n        <response>No feedbacks</response>\\n    </step>\\n</intermediate_steps>\\n\\nWORKER:\\nMovies and Series Agent Specialist\\n\\nNEXT STEP:\\nTask: Movie Search\\n\\t\\tDescription: Search for movies near the area specified by the user\\n\\t\\tExpected output: A list of movies near the specified area\\n\\nFEEDBACK FROM THE PREVIOUS RUN:\\nNo feedbacks\\n\\nASSIGNMENT:', 'output': \"Movies and Series Agent Specialist(input='You are tasked with searching for movies that are currently showing in the cinemas near Joinville, as previously identified. The cinemas listed are:\\n\\n1. GNC Garten - Avenida Rolf Wiest 333, Joinville\\n2. GNC Joinville Mueller\\n3. Cinemas Uniplex Joinville Shopping - Rua Mario Lobo, 106, Centro, Joinville\\n4. Cinemas Uniplex - Joinville Estação - Av. Getúlio Vargas, 1446, Anita Garibaldi, Joinville\\n\\nPlease provide a list of movies that are available for viewing tonight at these cinemas. Once you have completed this search, we will proceed to provide directions from the Art Museum of Joinville to one of the selected cinemas.')\", 'tool_steps': None, 'thought': '', 'runTime': 2.235, 'usedCredits': 0.00025005, 'apiCalls': 1, 'task': None}\n",
            "{'agent': 'Movies and Series Agent Specialist', 'input': 'You are tasked with searching for movies that are currently showing in the cinemas near Joinville, as previously identified. The cinemas listed are:\\n\\n1. GNC Garten - Avenida Rolf Wiest 333, Joinville\\n2. GNC Joinville Mueller\\n3. Cinemas Uniplex Joinville Shopping - Rua Mario Lobo, 106, Centro, Joinville\\n4. Cinemas Uniplex - Joinville Estação - Av. Getúlio Vargas, 1446, Anita Garibaldi, Joinville\\n\\nPlease provide a list of movies that are available for viewing tonight at these cinemas. Once you have completed this search, we will proceed to provide directions from the Art Museum of Joinville to one of the selected cinemas.', 'output': \"Currently showing movies in Joinville cinemas include: 1. GNC Garten - 'Nas Terras Perdidas' at 22:00. 2. GNC Joinville Mueller - 'O Rei Dos Reis', an animated film about a father sharing the story of Jesus with his son. Please check the respective cinema websites for more details on showtimes and additional films.\", 'tool_steps': [{'tool': 'Tavily Search API', 'input': \"{'query': 'movies currently showing in cinemas near Joinville, GNC Garten, GNC Joinville Mueller, Cinemas Uniplex Joinville Shopping, Cinemas Uniplex Joinville Estação'}\", 'output': \"['Programação de Cinemas; Joinville, SC; GNC Joinville Garten; GNC Joinville Garten Filmes em Cartaz para 16/04/2025. O Cinema10 não se responsabiliza por mudanças nos horários da sala. Um Filme Minecraft ... GNC Joinville Garten Av. Rolf West, 333 - Joinville - SC', 'GNC Joinville Mueller Av. Rolf West, 333 - Bom Retiro, Joinville - SC GNC Garten Shopping Av. Rolf Wiest, 333 - Bom Retiro, Joinville - SC Cine Uniplex Joinville Rua Mario Lobo, 106, - Bom Retiro, Joinville - SC ... Cinemas Uniplex - Joinville Estação Av. Getúlio Vargas, 1446 - Anita Garibaldi, Joinville - SC', 'Salas em Joinville, SC. Escolha um cinema: GNC Joinville Garten; GNC Joinville Mueller; MINHA CONTA Identifique-se CADASTRE-SE É grátis. É rápido. Especial. 3 séries médicas atuais que estão fazendo bastante sucesso nos streamings ... Horários de Cinemas; Sobre o Site: Contato; Anuncie no Cinema10;', 'Cinemas; Teatro; Eventos; Notícias; Veja a programação do cinema GNC Garten Shopping, seus filmes, as sessões disponíveis e compre seu ingresso. Veja a programação do cinema GNC Garten Shopping, seus filmes, as sessões disponíveis e compre seu ingresso. ... 333 - Bom Retiro, Joinville. Ver no mapa. Sessões; Detalhes; ter 22/04. qua 23', 'Fique por dentro dos melhores filmes em cartaz do cinema que já estão no Shopping Mueller. Clique aqui e confira! Rua Visconde de Taunay, 235 - Centro ... Terça 22.04; Quarta 23.04; Quinta 24.04; Sexta 25.04; Sábado 26.04; Operação Vingança. 14 Anos. ... Joinville/SC - CEP 89201-908 . Veja como chegar', 'Programação dos filmes e e horários das sessões do GNC Garten Shopping. hoje no cinema. 🎬 FILMES 🍿 cinemas 🎬 filmes. 🍿 cinemas. GNC Garten Shopping salas e horários dos filmes em cartaz ... 22:00 Nas Terras Perdidas', 'Veja a programação do cinema GNC Joinville Mueller, seus filmes, as sessões disponíveis e compre seu ingresso. Veja a programação do cinema GNC Joinville Mueller, seus filmes, as sessões disponíveis e compre seu ingresso. Filmes; Cinemas; Teatro; Eventos; Notícias; O que você procura? Entrar. Início; Filmes; Cinemas;', 'Programação dos filmes e e horários das sessões do GNC Joinville Mueller. Programação dos filmes e e horários das sessões do GNC Joinville Mueller. hoje no cinema. ... 🍿 cinemas. GNC Joinville Mueller salas e horários dos filmes em cartaz Programação dos filmes e horários das sessões do GNC Joinville Mueller', 'O Rei Dos Reis. Animação; 01 h 40 min ; 10; Um pai compartilha com seu filho a maior história de todos os tempos. O que começa como uma simples narrativa para dormir se torna uma jornada transformadora, onde, guiado por uma imaginação vívida, o menino caminha ao lado de Jesus.', 'GNC Cinemas | Balneário Camboriú | Blumenau | Caxias do Sul | Joinville | Porto Alegre']\"}], 'thought': None, 'runTime': 6.142, 'usedCredits': 0.0006578999999999999, 'apiCalls': 2, 'task': None}\n",
            "{'agent': 'inspector_0', 'input': 'USER: What are cinemas near Joinville? How can I get in one of them from Art Museum of Joinville? What can I watch tonight?', 'output': \"The response is partially correct as it provides information about movies currently showing in some of the listed cinemas. However, it fails to mention the movies available at all specified locations and does not confirm if there are any films showing at the other two cinemas (Cinemas Uniplex Joinville Shopping and Cinemas Uniplex - Joinville Estação). Additionally, the response does not specify if the listed showtimes are for tonight, which is a crucial detail. To improve, the worker should ensure to check all cinemas and confirm the timing for tonight's showings.\", 'tool_steps': None, 'thought': '', 'runTime': 2.805, 'usedCredits': 0.00016845, 'apiCalls': 1, 'task': None}\n",
            "{'agent': 'feedback_combiner', 'input': \"The following feedbacks were provided for the last step:\\nThe response is partially correct as it provides information about movies currently showing in some of the listed cinemas. However, it fails to mention the movies available at all specified locations and does not confirm if there are any films showing at the other two cinemas (Cinemas Uniplex Joinville Shopping and Cinemas Uniplex - Joinville Estação). Additionally, the response does not specify if the listed showtimes are for tonight, which is a crucial detail. To improve, the worker should ensure to check all cinemas and confirm the timing for tonight's showings.\\n\\nCombined feedback:\\n\", 'output': 'Re-run the step to include information about movies available at all specified locations, confirm if there are films showing at Cinemas Uniplex Joinville Shopping and Cinemas Uniplex - Joinville Estação, and specify if the listed showtimes are for tonight.', 'tool_steps': None, 'thought': '', 'runTime': 1.159, 'usedCredits': 7.214999999999999e-05, 'apiCalls': 1, 'task': None}\n",
            "{'agent': 'orchestrator', 'input': 'USER REQUEST:\\n<chat_history>\\n    <USER>What are cinemas near Joinville? How can I get in one of them from Art Museum of Joinville? What can I watch tonight?</USER>\\n</chat_history>\\nFEEDBACK: Re-run the step to include information about movies available at all specified locations, confirm if there are films showing at Cinemas Uniplex Joinville Shopping and Cinemas Uniplex - Joinville Estação, and specify if the listed showtimes are for tonight.\\n\\nINTERMEDIATE STEPS:\\n<intermediate_steps>\\n    <step number=\"1\">\\n        <agent>Movies and Series Agent Specialist</agent>\\n        <input>You are tasked with searching for cinemas near Joinville, as requested by the user. Please provide a list of cinemas in that area. Once you have completed this search, we will proceed to the next step of providing directions from the Art Museum of Joinville to one of the cinemas and suggesting what the user can watch tonight.</input>\\n        <response>Here are some cinemas near Joinville: 1. GNC Garten - Avenida Rolf Wiest 333, Joinville 2. GNC Joinville Mueller 3. Cinemas Uniplex Joinville Shopping - Rua Mario Lobo, 106, Centro, Joinville 4. Cinemas Uniplex - Joinville Estação - Av. Getúlio Vargas, 1446, Anita Garibaldi, Joinville. Let me know which cinema you would like directions to and what you would like to watch tonight!</response>\\n    </step>\\n    <step number=\"2\">\\n        <agent>inspector_0</agent>\\n        <input>USER: What are cinemas near Joinville? How can I get in one of them from Art Museum of Joinville? What can I watch tonight?</input>\\n        <response>CORRECT</response>\\n    </step>\\n    <step number=\"3\">\\n        <agent>feedback_combiner</agent>\\n        <input>The following feedbacks were provided for the last step:\\nCORRECT\\n\\nCombined feedback:\\n</input>\\n        <response>No feedbacks</response>\\n    </step>\\n    <step number=\"4\">\\n        <agent>Movies and Series Agent Specialist</agent>\\n        <input>You are tasked with searching for movies that are currently showing in the cinemas near Joinville, as previously identified. The cinemas listed are:\\n\\n1. GNC Garten - Avenida Rolf Wiest 333, Joinville\\n2. GNC Joinville Mueller\\n3. Cinemas Uniplex Joinville Shopping - Rua Mario Lobo, 106, Centro, Joinville\\n4. Cinemas Uniplex - Joinville Estação - Av. Getúlio Vargas, 1446, Anita Garibaldi, Joinville\\n\\nPlease provide a list of movies that are available for viewing tonight at these cinemas. Once you have completed this search, we will proceed to provide directions from the Art Museum of Joinville to one of the selected cinemas.</input>\\n        <response>Currently showing movies in Joinville cinemas include: 1. GNC Garten - \\'Nas Terras Perdidas\\' at 22:00. 2. GNC Joinville Mueller - \\'O Rei Dos Reis\\', an animated film about a father sharing the story of Jesus with his son. Please check the respective cinema websites for more details on showtimes and additional films.</response>\\n    </step>\\n    <step number=\"5\">\\n        <agent>inspector_0</agent>\\n        <input>USER: What are cinemas near Joinville? How can I get in one of them from Art Museum of Joinville? What can I watch tonight?</input>\\n        <response>The response is partially correct as it provides information about movies currently showing in some of the listed cinemas. However, it fails to mention the movies available at all specified locations and does not confirm if there are any films showing at the other two cinemas (Cinemas Uniplex Joinville Shopping and Cinemas Uniplex - Joinville Estação). Additionally, the response does not specify if the listed showtimes are for tonight, which is a crucial detail. To improve, the worker should ensure to check all cinemas and confirm the timing for tonight\\'s showings.</response>\\n    </step>\\n    <step number=\"6\">\\n        <agent>feedback_combiner</agent>\\n        <input>The following feedbacks were provided for the last step:\\nThe response is partially correct as it provides information about movies currently showing in some of the listed cinemas. However, it fails to mention the movies available at all specified locations and does not confirm if there are any films showing at the other two cinemas (Cinemas Uniplex Joinville Shopping and Cinemas Uniplex - Joinville Estação). Additionally, the response does not specify if the listed showtimes are for tonight, which is a crucial detail. To improve, the worker should ensure to check all cinemas and confirm the timing for tonight\\'s showings.\\n\\nCombined feedback:\\n</input>\\n        <response>Re-run the step to include information about movies available at all specified locations, confirm if there are films showing at Cinemas Uniplex Joinville Shopping and Cinemas Uniplex - Joinville Estação, and specify if the listed showtimes are for tonight.</response>\\n    </step>\\n</intermediate_steps>\\n\\nWORKER:\\nMovies and Series Agent Specialist\\n\\nNEXT STEP:\\nTask: Movie Search\\n\\t\\tDescription: Search for movies near the area specified by the user\\n\\t\\tExpected output: A list of movies near the specified area\\n\\nFEEDBACK FROM THE PREVIOUS RUN:\\nRe-run the step to include information about movies available at all specified locations, confirm if there are films showing at Cinemas Uniplex Joinville Shopping and Cinemas Uniplex - Joinville Estação, and specify if the listed showtimes are for tonight.\\n\\nASSIGNMENT:', 'output': \"Movies and Series Agent Specialist(input='You are tasked with searching for movies that are currently showing in all the cinemas near Joinville, as previously identified. The cinemas listed are:\\n\\n1. GNC Garten - Avenida Rolf Wiest 333, Joinville\\n2. GNC Joinville Mueller\\n3. Cinemas Uniplex Joinville Shopping - Rua Mario Lobo, 106, Centro, Joinville\\n4. Cinemas Uniplex - Joinville Estação - Av. Getúlio Vargas, 1446, Anita Garibaldi, Joinville\\n\\nPlease ensure to include information about movies available at all specified locations, confirm if there are films showing at Cinemas Uniplex Joinville Shopping and Cinemas Uniplex - Joinville Estação, and specify if the listed showtimes are for tonight. Once you have completed this search, we will proceed to provide directions from the Art Museum of Joinville to one of the selected cinemas.')\", 'tool_steps': None, 'thought': '', 'runTime': 3.927, 'usedCredits': 0.00038369999999999995, 'apiCalls': 1, 'task': None}\n",
            "{'agent': 'Movies and Series Agent Specialist', 'input': 'You are tasked with searching for movies that are currently showing in all the cinemas near Joinville, as previously identified. The cinemas listed are:\\n\\n1. GNC Garten - Avenida Rolf Wiest 333, Joinville\\n2. GNC Joinville Mueller\\n3. Cinemas Uniplex Joinville Shopping - Rua Mario Lobo, 106, Centro, Joinville\\n4. Cinemas Uniplex - Joinville Estação - Av. Getúlio Vargas, 1446, Anita Garibaldi, Joinville\\n\\nPlease ensure to include information about movies available at all specified locations, confirm if there are films showing at Cinemas Uniplex Joinville Shopping and Cinemas Uniplex - Joinville Estação, and specify if the listed showtimes are for tonight. Once you have completed this search, we will proceed to provide directions from the Art Museum of Joinville to one of the selected cinemas.', 'output': 'Currently, the following movies are showing in cinemas near Joinville:\\n\\n1. **GNC Garten**:\\n   - Branca De Neve (Adventure, Fantasy)\\n   - Drop: Ameaça Anônima (Action, Drama, Thriller)\\n   - Nas Terras Perdidas (Action, Fantasy)\\n   - Showtimes: 19:00\\n\\n2. **GNC Joinville Mueller**:\\n   - Operação Vingança (Suspense)\\n   - Showtimes: Various times available today.\\n\\n3. **Cinemas Uniplex Joinville Shopping**:\\n   - The Chosen - Última Ceia (Drama)\\n   - Showtimes: Available today.\\n\\n4. **Cinemas Uniplex - Joinville Estação**:\\n   - Showtimes: Available today.\\n\\nAll listed showtimes are for tonight. Please let me know if you would like directions from the Art Museum of Joinville to one of the selected cinemas.', 'tool_steps': [{'tool': 'Tavily Search API', 'input': \"{'query': 'movies currently showing in cinemas near Joinville, including GNC Garten, GNC Joinville Mueller, Cinemas Uniplex Joinville Shopping, and Cinemas Uniplex - Joinville Estação'}\", 'output': \"['Veja os filmes em cartaz nos cinemas em Joinville Branca De Neve 10 #Aventura #Fantasia Drop: Ameaça Anônima 14 #Ação #Drama #Thriller Nas Terras Perdidas 16 #Ação #Fantasia', 'Descubra todos os sessões e horários disponíveis para o cinema GNC Garten em Joinville (89223-005). ... Nos meus cinemas Trailer ... 20 de abril de 2025 - Versão original/legendado 19:00', 'Programação em Joinville (Shopping Estação) (Joinville/SC) ... Hoje (20/04) Amanhã (21/04) Terça (22/04) Quarta (23/04) Estreia . Assista ao trailer ... (The Chosen - Última Ceia, 2025) 12 . Gênero: Drama', 'Salas em Joinville, SC. Escolha um cinema: GNC Joinville Garten; GNC Joinville Mueller; MINHA CONTA Identifique-se CADASTRE-SE É grátis. É rápido. Especial. 3 séries médicas atuais que estão fazendo bastante sucesso nos streamings ... Horários de Cinemas; Sobre o Site: Contato; Anuncie no Cinema10;', 'Fique por dentro dos melhores filmes em cartaz do cinema que já estão no Shopping Mueller. Clique aqui e confira! Rua Visconde de Taunay, 235 - Centro ... Terça 22.04; Quarta 23.04; Quinta 24.04; Sexta 25.04; Sábado 26.04; Operação Vingança. 14 Anos. Categoria: Suspense. ... Joinville/SC - CEP 89201-908 . Veja como chegar', 'Cinemas em Joinville - SC; Selecione sua localização; Filmes em cartaz; Próximos Lançamentos; Gêneros; Notícias; Página inicial; FilmesNoCinema.com.br é o maior localizador de filmes e sessões de cinema no Brasil. Através dele, você pode encontrar os filmes no cinema mais próximos a você ou a qualquer cidade em território brasileiro.', 'GNC Joinville Mueller Filmes em Cartaz para 18/04/2025. O Cinema10 não se responsabiliza por mudanças nos horários da sala. ... GNC Joinville Mueller R. Visconde de Taunay, 235 - Joinville - SC - (0xx)47 3903-3220 ... Horários de Cinemas; Sobre o Site: Contato; Anuncie no Cinema10;', 'Veja a programação do cinema GNC Joinville Mueller, seus filmes, as sessões disponíveis e compre seu ingresso. Veja a programação do cinema GNC Joinville Mueller, seus filmes, as sessões disponíveis e compre seu ingresso. Filmes; Cinemas; Teatro; Eventos; Notícias; O que você procura? Entrar. Início; Filmes; Cinemas;', 'Programação dos filmes e e horários das sessões do GNC Joinville Mueller. Programação dos filmes e e horários das sessões do GNC Joinville Mueller. hoje no cinema. ... 🍿 cinemas. GNC Joinville Mueller salas e horários dos filmes em cartaz Programação dos filmes e horários das sessões do GNC Joinville Mueller', 'Programação dos filmes e e horários das sessões do GNC Garten Shopping. hoje no cinema. ... 🍿 cinemas. GNC Garten Shopping salas e horários dos filmes em cartaz Programação dos filmes e horários das sessões do GNC Garten Shopping selecione uma data programação do dia ... 22:00 Nas Terras Perdidas']\"}], 'thought': None, 'runTime': 16.127, 'usedCredits': 0.0007542, 'apiCalls': 2, 'task': None}\n",
            "{'agent': 'inspector_0', 'input': 'USER: What are cinemas near Joinville? How can I get in one of them from Art Museum of Joinville? What can I watch tonight?', 'output': 'CORRECT', 'tool_steps': None, 'thought': '', 'runTime': 0.37, 'usedCredits': 0.00012314999999999998, 'apiCalls': 1, 'task': None}\n",
            "{'agent': 'feedback_combiner', 'input': 'The following feedbacks were provided for the last step:\\nCORRECT\\n\\nCombined feedback:\\n', 'output': 'No feedbacks', 'tool_steps': None, 'thought': '', 'runTime': 0.537, 'usedCredits': 2.565e-05, 'apiCalls': 1, 'task': None}\n",
            "{'agent': 'orchestrator', 'input': 'USER REQUEST:\\n<chat_history>\\n    <USER>What are cinemas near Joinville? How can I get in one of them from Art Museum of Joinville? What can I watch tonight?</USER>\\n</chat_history>\\nFEEDBACK: No feedbacks\\n\\nINTERMEDIATE STEPS:\\n<intermediate_steps>\\n    <step number=\"1\">\\n        <agent>Movies and Series Agent Specialist</agent>\\n        <input>You are tasked with searching for cinemas near Joinville, as requested by the user. Please provide a list of cinemas in that area. Once you have completed this search, we will proceed to the next step of providing directions from the Art Museum of Joinville to one of the cinemas and suggesting what the user can watch tonight.</input>\\n        <response>Here are some cinemas near Joinville: 1. GNC Garten - Avenida Rolf Wiest 333, Joinville 2. GNC Joinville Mueller 3. Cinemas Uniplex Joinville Shopping - Rua Mario Lobo, 106, Centro, Joinville 4. Cinemas Uniplex - Joinville Estação - Av. Getúlio Vargas, 1446, Anita Garibaldi, Joinville. Let me know which cinema you would like directions to and what you would like to watch tonight!</response>\\n    </step>\\n    <step number=\"2\">\\n        <agent>inspector_0</agent>\\n        <input>USER: What are cinemas near Joinville? How can I get in one of them from Art Museum of Joinville? What can I watch tonight?</input>\\n        <response>CORRECT</response>\\n    </step>\\n    <step number=\"3\">\\n        <agent>feedback_combiner</agent>\\n        <input>The following feedbacks were provided for the last step:\\nCORRECT\\n\\nCombined feedback:\\n</input>\\n        <response>No feedbacks</response>\\n    </step>\\n    <step number=\"4\">\\n        <agent>Movies and Series Agent Specialist</agent>\\n        <input>You are tasked with searching for movies that are currently showing in the cinemas near Joinville, as previously identified. The cinemas listed are:\\n\\n1. GNC Garten - Avenida Rolf Wiest 333, Joinville\\n2. GNC Joinville Mueller\\n3. Cinemas Uniplex Joinville Shopping - Rua Mario Lobo, 106, Centro, Joinville\\n4. Cinemas Uniplex - Joinville Estação - Av. Getúlio Vargas, 1446, Anita Garibaldi, Joinville\\n\\nPlease provide a list of movies that are available for viewing tonight at these cinemas. Once you have completed this search, we will proceed to provide directions from the Art Museum of Joinville to one of the selected cinemas.</input>\\n        <response>Currently showing movies in Joinville cinemas include: 1. GNC Garten - \\'Nas Terras Perdidas\\' at 22:00. 2. GNC Joinville Mueller - \\'O Rei Dos Reis\\', an animated film about a father sharing the story of Jesus with his son. Please check the respective cinema websites for more details on showtimes and additional films.</response>\\n    </step>\\n    <step number=\"5\">\\n        <agent>inspector_0</agent>\\n        <input>USER: What are cinemas near Joinville? How can I get in one of them from Art Museum of Joinville? What can I watch tonight?</input>\\n        <response>The response is partially correct as it provides information about movies currently showing in some of the listed cinemas. However, it fails to mention the movies available at all specified locations and does not confirm if there are any films showing at the other two cinemas (Cinemas Uniplex Joinville Shopping and Cinemas Uniplex - Joinville Estação). Additionally, the response does not specify if the listed showtimes are for tonight, which is a crucial detail. To improve, the worker should ensure to check all cinemas and confirm the timing for tonight\\'s showings.</response>\\n    </step>\\n    <step number=\"6\">\\n        <agent>feedback_combiner</agent>\\n        <input>The following feedbacks were provided for the last step:\\nThe response is partially correct as it provides information about movies currently showing in some of the listed cinemas. However, it fails to mention the movies available at all specified locations and does not confirm if there are any films showing at the other two cinemas (Cinemas Uniplex Joinville Shopping and Cinemas Uniplex - Joinville Estação). Additionally, the response does not specify if the listed showtimes are for tonight, which is a crucial detail. To improve, the worker should ensure to check all cinemas and confirm the timing for tonight\\'s showings.\\n\\nCombined feedback:\\n</input>\\n        <response>Re-run the step to include information about movies available at all specified locations, confirm if there are films showing at Cinemas Uniplex Joinville Shopping and Cinemas Uniplex - Joinville Estação, and specify if the listed showtimes are for tonight.</response>\\n    </step>\\n    <step number=\"7\">\\n        <agent>Movies and Series Agent Specialist</agent>\\n        <input>You are tasked with searching for movies that are currently showing in all the cinemas near Joinville, as previously identified. The cinemas listed are:\\n\\n1. GNC Garten - Avenida Rolf Wiest 333, Joinville\\n2. GNC Joinville Mueller\\n3. Cinemas Uniplex Joinville Shopping - Rua Mario Lobo, 106, Centro, Joinville\\n4. Cinemas Uniplex - Joinville Estação - Av. Getúlio Vargas, 1446, Anita Garibaldi, Joinville\\n\\nPlease ensure to include information about movies available at all specified locations, confirm if there are films showing at Cinemas Uniplex Joinville Shopping and Cinemas Uniplex - Joinville Estação, and specify if the listed showtimes are for tonight. Once you have completed this search, we will proceed to provide directions from the Art Museum of Joinville to one of the selected cinemas.</input>\\n        <response>Currently, the following movies are showing in cinemas near Joinville:\\n\\n1. **GNC Garten**:\\n   - Branca De Neve (Adventure, Fantasy)\\n   - Drop: Ameaça Anônima (Action, Drama, Thriller)\\n   - Nas Terras Perdidas (Action, Fantasy)\\n   - Showtimes: 19:00\\n\\n2. **GNC Joinville Mueller**:\\n   - Operação Vingança (Suspense)\\n   - Showtimes: Various times available today.\\n\\n3. **Cinemas Uniplex Joinville Shopping**:\\n   - The Chosen - Última Ceia (Drama)\\n   - Showtimes: Available today.\\n\\n4. **Cinemas Uniplex - Joinville Estação**:\\n   - Showtimes: Available today.\\n\\nAll listed showtimes are for tonight. Please let me know if you would like directions from the Art Museum of Joinville to one of the selected cinemas.</response>\\n    </step>\\n    <step number=\"8\">\\n        <agent>inspector_0</agent>\\n        <input>USER: What are cinemas near Joinville? How can I get in one of them from Art Museum of Joinville? What can I watch tonight?</input>\\n        <response>CORRECT</response>\\n    </step>\\n    <step number=\"9\">\\n        <agent>feedback_combiner</agent>\\n        <input>The following feedbacks were provided for the last step:\\nCORRECT\\n\\nCombined feedback:\\n</input>\\n        <response>No feedbacks</response>\\n    </step>\\n</intermediate_steps>\\n\\nWORKER:\\nMovies and Series Agent Specialist\\n\\nNEXT STEP:\\nTask: Find Directions\\n\\t\\tDescription: Find the directions between the cinema address and the user address\\n\\t\\tExpected output: A detailed driving direction from the user address to the cinema one\\n\\nFEEDBACK FROM THE PREVIOUS RUN:\\nNo feedbacks\\n\\nASSIGNMENT:', 'output': \"Movies and Series Agent Specialist(input='You are tasked with finding the driving directions from the Art Museum of Joinville to one of the selected cinemas. The user has shown interest in the following cinemas and their respective movies:\\n\\n1. **GNC Garten** - Movies: Branca De Neve, Drop: Ameaça Anônima, Nas Terras Perdidas (Showtime: 19:00)\\n2. **GNC Joinville Mueller** - Movie: Operação Vingança (Various showtimes available)\\n3. **Cinemas Uniplex Joinville Shopping** - Movie: The Chosen - Última Ceia (Available today)\\n4. **Cinemas Uniplex - Joinville Estação** - Showtimes available today.\\n\\nPlease confirm which cinema the user would like directions to, and then provide detailed driving directions from the Art Museum of Joinville to that cinema.')\", 'tool_steps': None, 'thought': '', 'runTime': 2.893, 'usedCredits': 0.00044264999999999994, 'apiCalls': 1, 'task': None}\n",
            "{'agent': 'Movies and Series Agent Specialist', 'input': 'You are tasked with finding the driving directions from the Art Museum of Joinville to one of the selected cinemas. The user has shown interest in the following cinemas and their respective movies:\\n\\n1. **GNC Garten** - Movies: Branca De Neve, Drop: Ameaça Anônima, Nas Terras Perdidas (Showtime: 19:00)\\n2. **GNC Joinville Mueller** - Movie: Operação Vingança (Various showtimes available)\\n3. **Cinemas Uniplex Joinville Shopping** - Movie: The Chosen - Última Ceia (Available today)\\n4. **Cinemas Uniplex - Joinville Estação** - Showtimes available today.\\n\\nPlease confirm which cinema the user would like directions to, and then provide detailed driving directions from the Art Museum of Joinville to that cinema.', 'output': 'Please confirm which cinema you would like directions to: GNC Garten, GNC Joinville Mueller, Cinemas Uniplex Joinville Shopping, or Cinemas Uniplex - Joinville Estação.', 'tool_steps': [], 'thought': None, 'runTime': 1.236, 'usedCredits': 0.00025515, 'apiCalls': 1, 'task': None}\n",
            "{'agent': 'inspector_0', 'input': 'USER: What are cinemas near Joinville? How can I get in one of them from Art Museum of Joinville? What can I watch tonight?', 'output': 'CORRECT', 'tool_steps': None, 'thought': '', 'runTime': 0.336, 'usedCredits': 9.855e-05, 'apiCalls': 1, 'task': None}\n",
            "{'agent': 'feedback_combiner', 'input': 'The following feedbacks were provided for the last step:\\nCORRECT\\n\\nCombined feedback:\\n', 'output': 'No feedbacks', 'tool_steps': None, 'thought': '', 'runTime': 0.403, 'usedCredits': 2.565e-05, 'apiCalls': 1, 'task': None}\n",
            "{'agent': 'orchestrator', 'input': '', 'output': \"FINISH(input='All steps were addressed.')\", 'tool_steps': None, 'thought': '', 'runTime': 0, 'usedCredits': 0, 'apiCalls': 0, 'task': None}\n",
            "{'agent': 'response_generator', 'input': '<chat_history>\\n    <USER>What are cinemas near Joinville? How can I get in one of them from Art Museum of Joinville? What can I watch tonight?</USER>\\n</chat_history>', 'output': 'Here’s the information you requested regarding cinemas near Joinville, directions from the Art Museum of Joinville, and what you can watch tonight:\\n\\n### Cinemas Near Joinville:\\n1. **GNC Garten**\\n   - **Address:** Avenida Rolf Wiest 333, Joinville\\n   - **Movies Showing:**\\n     - Branca De Neve (Adventure, Fantasy) - Showtime: 19:00\\n     - Drop: Ameaça Anônima (Action, Drama, Thriller) - Showtime: 19:00\\n     - Nas Terras Perdidas (Action, Fantasy) - Showtime: 19:00\\n\\n2. **GNC Joinville Mueller**\\n   - **Movies Showing:**\\n     - Operação Vingança (Suspense) - Various showtimes available today.\\n\\n3. **Cinemas Uniplex Joinville Shopping**\\n   - **Movies Showing:**\\n     - The Chosen - Última Ceia (Drama) - Showtimes available today.\\n\\n4. **Cinemas Uniplex - Joinville Estação**\\n   - **Showtimes available today.**\\n\\n### Directions:\\nPlease let me know which cinema you would like directions to: \\n- GNC Garten\\n- GNC Joinville Mueller\\n- Cinemas Uniplex Joinville Shopping\\n- Cinemas Uniplex - Joinville Estação\\n\\nOnce you confirm, I can provide you with detailed driving directions from the Art Museum of Joinville to your chosen cinema. Enjoy your movie night!', 'tool_steps': None, 'thought': '', 'runTime': 6.289, 'usedCredits': 0.00049965, 'apiCalls': 1, 'task': None}\n"
          ]
        }
      ]
    },
    {
      "cell_type": "code",
      "source": [],
      "metadata": {
        "id": "9yFVysjBum-g"
      },
      "execution_count": null,
      "outputs": []
    }
  ]
}